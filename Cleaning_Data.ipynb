{
 "cells": [
  {
   "cell_type": "markdown",
   "metadata": {},
   "source": [
    "## Business Case"
   ]
  },
  {
   "cell_type": "markdown",
   "metadata": {},
   "source": [
    "For the Chicago Department of Transportation, as a data scientist, my job is to go over the city’s traffic accident reports and create a model that will predict the worst incidences. In doing so, I will find some underlying causes and possible advice for the city.   \n",
    "\n",
    "\n",
    "For the Chicago Department of Transportation, this data will help reduce the number of traffic accidents that result in injury. \n"
   ]
  },
  {
   "cell_type": "markdown",
   "metadata": {},
   "source": [
    "## Notebook Goal"
   ]
  },
  {
   "cell_type": "markdown",
   "metadata": {},
   "source": [
    "The task for this notebook is to collect the data, fix any inconsistencies and to export the 'cleaned' data to a .csv file for the next notebook to start the modeling process on."
   ]
  },
  {
   "cell_type": "markdown",
   "metadata": {},
   "source": [
    "## Data"
   ]
  },
  {
   "cell_type": "markdown",
   "metadata": {},
   "source": [
    "The data is coming from three separate csv files extracted from [cityofchicago.org](https://data.cityofchicago.org/Transportation/Traffic-Crashes-Crashes/85ca-t3if)  \n",
    "I will import each file and sort though the original features determining what I want in my classification model  \n",
    "After sorting though each csv file, I will then 'join' them all under one dataset.\n",
    "\n",
    "Each row in the new dataset will represent one driver in any given crash.\n"
   ]
  },
  {
   "cell_type": "code",
   "execution_count": 1,
   "metadata": {},
   "outputs": [],
   "source": [
    "import pandas as pd\n",
    "import numpy as np\n",
    "\n",
    "import seaborn as sns\n",
    "import matplotlib.pyplot as plt\n",
    "%matplotlib inline\n",
    "\n",
    "sns.set_theme(style='darkgrid')\n",
    "\n",
    "from IPython.display import display\n",
    "pd.set_option('display.max_columns', None)"
   ]
  },
  {
   "cell_type": "markdown",
   "metadata": {},
   "source": [
    "### Importing Crashes Dataframe"
   ]
  },
  {
   "cell_type": "markdown",
   "metadata": {},
   "source": [
    "The Traffic crashes -crashes .csv file features all the possible attributes per car accident."
   ]
  },
  {
   "cell_type": "code",
   "execution_count": 2,
   "metadata": {},
   "outputs": [],
   "source": [
    "df_crashes = pd.read_csv('data/Traffic_Crashes_-_Crashes.csv')"
   ]
  },
  {
   "cell_type": "markdown",
   "metadata": {},
   "source": [
    "My classification model will be predicting if a crash is expected to result in a injury without knowing the condition of anyone involved.  \n",
    "To do this, I will need to engineer a new predictor column 'IS_SEVERE'.  \n",
    "'IS_SEVERE' is determined if there any type of injury to anyone in a car accident."
   ]
  },
  {
   "cell_type": "code",
   "execution_count": 4,
   "metadata": {},
   "outputs": [],
   "source": [
    "# create new column 'IS_Severe' to 0's\n",
    "df_crashes['IS_SEVERE'] = 0\n",
    "\n",
    "# if car needs to be towed or person(s) injured\n",
    "df_crashes.loc[df_crashes['CRASH_TYPE'] == 'INJURY AND / OR TOW DUE TO CRASH', 'IS_SEVERE'] = 1\n",
    "\n",
    "# if person(s) injured\n",
    "df_crashes.loc[(df_crashes['MOST_SEVERE_INJURY'] == 'NONINCAPACITATING INJURY') | \n",
    "       (df_crashes['MOST_SEVERE_INJURY'] == 'REPORTED, NOT EVIDENT') | \n",
    "       (df_crashes['MOST_SEVERE_INJURY'] == 'INCAPACITATING INJURY') | \n",
    "       (df_crashes['MOST_SEVERE_INJURY'] == 'FATAL'), \n",
    "       'IS_SEVERE'] = 1"
   ]
  },
  {
   "cell_type": "code",
   "execution_count": 5,
   "metadata": {},
   "outputs": [
    {
     "data": {
      "text/html": [
       "<div>\n",
       "<style scoped>\n",
       "    .dataframe tbody tr th:only-of-type {\n",
       "        vertical-align: middle;\n",
       "    }\n",
       "\n",
       "    .dataframe tbody tr th {\n",
       "        vertical-align: top;\n",
       "    }\n",
       "\n",
       "    .dataframe thead th {\n",
       "        text-align: right;\n",
       "    }\n",
       "</style>\n",
       "<table border=\"1\" class=\"dataframe\">\n",
       "  <thead>\n",
       "    <tr style=\"text-align: right;\">\n",
       "      <th></th>\n",
       "      <th>CRASH_RECORD_ID</th>\n",
       "      <th>POSTED_SPEED_LIMIT</th>\n",
       "      <th>TRAFFIC_CONTROL_DEVICE</th>\n",
       "      <th>DEVICE_CONDITION</th>\n",
       "      <th>WEATHER_CONDITION</th>\n",
       "      <th>LIGHTING_CONDITION</th>\n",
       "      <th>FIRST_CRASH_TYPE</th>\n",
       "      <th>TRAFFICWAY_TYPE</th>\n",
       "      <th>ALIGNMENT</th>\n",
       "      <th>ROADWAY_SURFACE_COND</th>\n",
       "      <th>ROAD_DEFECT</th>\n",
       "      <th>INTERSECTION_RELATED_I</th>\n",
       "      <th>NOT_RIGHT_OF_WAY_I</th>\n",
       "      <th>PRIM_CONTRIBUTORY_CAUSE</th>\n",
       "      <th>WORK_ZONE_TYPE</th>\n",
       "      <th>WORKERS_PRESENT_I</th>\n",
       "      <th>NUM_UNITS</th>\n",
       "      <th>CRASH_HOUR</th>\n",
       "      <th>CRASH_DAY_OF_WEEK</th>\n",
       "      <th>CRASH_MONTH</th>\n",
       "      <th>IS_SEVERE</th>\n",
       "    </tr>\n",
       "  </thead>\n",
       "  <tbody>\n",
       "    <tr>\n",
       "      <th>0</th>\n",
       "      <td>073682ef84ff827659552d4254ad1b98bfec24935cc9cc...</td>\n",
       "      <td>10</td>\n",
       "      <td>NO CONTROLS</td>\n",
       "      <td>NO CONTROLS</td>\n",
       "      <td>CLEAR</td>\n",
       "      <td>DARKNESS</td>\n",
       "      <td>PARKED MOTOR VEHICLE</td>\n",
       "      <td>OTHER</td>\n",
       "      <td>STRAIGHT AND LEVEL</td>\n",
       "      <td>DRY</td>\n",
       "      <td>NO DEFECTS</td>\n",
       "      <td>NaN</td>\n",
       "      <td>NaN</td>\n",
       "      <td>NOT APPLICABLE</td>\n",
       "      <td>NaN</td>\n",
       "      <td>NaN</td>\n",
       "      <td>2</td>\n",
       "      <td>18</td>\n",
       "      <td>3</td>\n",
       "      <td>10</td>\n",
       "      <td>0</td>\n",
       "    </tr>\n",
       "    <tr>\n",
       "      <th>1</th>\n",
       "      <td>1560fb8a1e32b528fef8bfd677d2b3fc5ab37278b157fa...</td>\n",
       "      <td>45</td>\n",
       "      <td>NO CONTROLS</td>\n",
       "      <td>NO CONTROLS</td>\n",
       "      <td>CLEAR</td>\n",
       "      <td>DAYLIGHT</td>\n",
       "      <td>SIDESWIPE SAME DIRECTION</td>\n",
       "      <td>ONE-WAY</td>\n",
       "      <td>STRAIGHT AND LEVEL</td>\n",
       "      <td>DRY</td>\n",
       "      <td>NO DEFECTS</td>\n",
       "      <td>NaN</td>\n",
       "      <td>NaN</td>\n",
       "      <td>UNABLE TO DETERMINE</td>\n",
       "      <td>NaN</td>\n",
       "      <td>NaN</td>\n",
       "      <td>2</td>\n",
       "      <td>16</td>\n",
       "      <td>5</td>\n",
       "      <td>6</td>\n",
       "      <td>0</td>\n",
       "    </tr>\n",
       "    <tr>\n",
       "      <th>2</th>\n",
       "      <td>c7e667807d86ff2e83da48267e1135680cad68c86eb00f...</td>\n",
       "      <td>30</td>\n",
       "      <td>NO CONTROLS</td>\n",
       "      <td>NO CONTROLS</td>\n",
       "      <td>CLEAR</td>\n",
       "      <td>DAYLIGHT</td>\n",
       "      <td>SIDESWIPE SAME DIRECTION</td>\n",
       "      <td>ONE-WAY</td>\n",
       "      <td>STRAIGHT AND LEVEL</td>\n",
       "      <td>WET</td>\n",
       "      <td>NO DEFECTS</td>\n",
       "      <td>NaN</td>\n",
       "      <td>NaN</td>\n",
       "      <td>FAILING TO YIELD RIGHT-OF-WAY</td>\n",
       "      <td>NaN</td>\n",
       "      <td>NaN</td>\n",
       "      <td>2</td>\n",
       "      <td>16</td>\n",
       "      <td>5</td>\n",
       "      <td>2</td>\n",
       "      <td>1</td>\n",
       "    </tr>\n",
       "    <tr>\n",
       "      <th>3</th>\n",
       "      <td>009e9e67203442370272e1a13d6ee51a4155dac65e583d...</td>\n",
       "      <td>35</td>\n",
       "      <td>STOP SIGN/FLASHER</td>\n",
       "      <td>FUNCTIONING PROPERLY</td>\n",
       "      <td>CLEAR</td>\n",
       "      <td>DAYLIGHT</td>\n",
       "      <td>TURNING</td>\n",
       "      <td>NOT DIVIDED</td>\n",
       "      <td>STRAIGHT AND LEVEL</td>\n",
       "      <td>DRY</td>\n",
       "      <td>NO DEFECTS</td>\n",
       "      <td>Y</td>\n",
       "      <td>NaN</td>\n",
       "      <td>FAILING TO YIELD RIGHT-OF-WAY</td>\n",
       "      <td>NaN</td>\n",
       "      <td>NaN</td>\n",
       "      <td>2</td>\n",
       "      <td>16</td>\n",
       "      <td>6</td>\n",
       "      <td>6</td>\n",
       "      <td>1</td>\n",
       "    </tr>\n",
       "    <tr>\n",
       "      <th>4</th>\n",
       "      <td>00e47f189660cd8ba1e85fc63061bf1d8465184393f134...</td>\n",
       "      <td>30</td>\n",
       "      <td>TRAFFIC SIGNAL</td>\n",
       "      <td>FUNCTIONING PROPERLY</td>\n",
       "      <td>CLEAR</td>\n",
       "      <td>DARKNESS, LIGHTED ROAD</td>\n",
       "      <td>TURNING</td>\n",
       "      <td>NOT DIVIDED</td>\n",
       "      <td>STRAIGHT AND LEVEL</td>\n",
       "      <td>DRY</td>\n",
       "      <td>NO DEFECTS</td>\n",
       "      <td>Y</td>\n",
       "      <td>NaN</td>\n",
       "      <td>UNABLE TO DETERMINE</td>\n",
       "      <td>NaN</td>\n",
       "      <td>NaN</td>\n",
       "      <td>2</td>\n",
       "      <td>22</td>\n",
       "      <td>5</td>\n",
       "      <td>3</td>\n",
       "      <td>0</td>\n",
       "    </tr>\n",
       "    <tr>\n",
       "      <th>...</th>\n",
       "      <td>...</td>\n",
       "      <td>...</td>\n",
       "      <td>...</td>\n",
       "      <td>...</td>\n",
       "      <td>...</td>\n",
       "      <td>...</td>\n",
       "      <td>...</td>\n",
       "      <td>...</td>\n",
       "      <td>...</td>\n",
       "      <td>...</td>\n",
       "      <td>...</td>\n",
       "      <td>...</td>\n",
       "      <td>...</td>\n",
       "      <td>...</td>\n",
       "      <td>...</td>\n",
       "      <td>...</td>\n",
       "      <td>...</td>\n",
       "      <td>...</td>\n",
       "      <td>...</td>\n",
       "      <td>...</td>\n",
       "      <td>...</td>\n",
       "    </tr>\n",
       "    <tr>\n",
       "      <th>462595</th>\n",
       "      <td>0bba5c9192545790524c2af43b8c423619f8d37f9e72ac...</td>\n",
       "      <td>30</td>\n",
       "      <td>STOP SIGN/FLASHER</td>\n",
       "      <td>FUNCTIONING PROPERLY</td>\n",
       "      <td>CLEAR</td>\n",
       "      <td>DAYLIGHT</td>\n",
       "      <td>TURNING</td>\n",
       "      <td>DIVIDED - W/MEDIAN (NOT RAISED)</td>\n",
       "      <td>STRAIGHT AND LEVEL</td>\n",
       "      <td>DRY</td>\n",
       "      <td>NO DEFECTS</td>\n",
       "      <td>Y</td>\n",
       "      <td>NaN</td>\n",
       "      <td>DISREGARDING STOP SIGN</td>\n",
       "      <td>NaN</td>\n",
       "      <td>NaN</td>\n",
       "      <td>2</td>\n",
       "      <td>9</td>\n",
       "      <td>3</td>\n",
       "      <td>7</td>\n",
       "      <td>0</td>\n",
       "    </tr>\n",
       "    <tr>\n",
       "      <th>462596</th>\n",
       "      <td>5414cb734ce44cf34d1e16df2453ad6221e7cb1f0049be...</td>\n",
       "      <td>30</td>\n",
       "      <td>NO CONTROLS</td>\n",
       "      <td>NO CONTROLS</td>\n",
       "      <td>CLOUDY/OVERCAST</td>\n",
       "      <td>DAYLIGHT</td>\n",
       "      <td>TURNING</td>\n",
       "      <td>DIVIDED - W/MEDIAN BARRIER</td>\n",
       "      <td>STRAIGHT AND LEVEL</td>\n",
       "      <td>DRY</td>\n",
       "      <td>NO DEFECTS</td>\n",
       "      <td>NaN</td>\n",
       "      <td>NaN</td>\n",
       "      <td>FAILING TO YIELD RIGHT-OF-WAY</td>\n",
       "      <td>NaN</td>\n",
       "      <td>NaN</td>\n",
       "      <td>2</td>\n",
       "      <td>17</td>\n",
       "      <td>4</td>\n",
       "      <td>7</td>\n",
       "      <td>1</td>\n",
       "    </tr>\n",
       "    <tr>\n",
       "      <th>462597</th>\n",
       "      <td>b6e0b0388cb9f3a250c3036a03cd664590ec2f465ac4d1...</td>\n",
       "      <td>30</td>\n",
       "      <td>STOP SIGN/FLASHER</td>\n",
       "      <td>FUNCTIONING PROPERLY</td>\n",
       "      <td>CLEAR</td>\n",
       "      <td>DAYLIGHT</td>\n",
       "      <td>HEAD ON</td>\n",
       "      <td>DIVIDED - W/MEDIAN (NOT RAISED)</td>\n",
       "      <td>STRAIGHT AND LEVEL</td>\n",
       "      <td>DRY</td>\n",
       "      <td>NO DEFECTS</td>\n",
       "      <td>NaN</td>\n",
       "      <td>NaN</td>\n",
       "      <td>FAILING TO YIELD RIGHT-OF-WAY</td>\n",
       "      <td>NaN</td>\n",
       "      <td>NaN</td>\n",
       "      <td>2</td>\n",
       "      <td>10</td>\n",
       "      <td>4</td>\n",
       "      <td>7</td>\n",
       "      <td>1</td>\n",
       "    </tr>\n",
       "    <tr>\n",
       "      <th>462598</th>\n",
       "      <td>df74080be8ceeb327edd744a7f34507bc32c3f76a3f00c...</td>\n",
       "      <td>30</td>\n",
       "      <td>NO CONTROLS</td>\n",
       "      <td>NO CONTROLS</td>\n",
       "      <td>CLEAR</td>\n",
       "      <td>DAYLIGHT</td>\n",
       "      <td>PARKED MOTOR VEHICLE</td>\n",
       "      <td>ONE-WAY</td>\n",
       "      <td>STRAIGHT AND LEVEL</td>\n",
       "      <td>DRY</td>\n",
       "      <td>NO DEFECTS</td>\n",
       "      <td>NaN</td>\n",
       "      <td>NaN</td>\n",
       "      <td>UNABLE TO DETERMINE</td>\n",
       "      <td>NaN</td>\n",
       "      <td>NaN</td>\n",
       "      <td>2</td>\n",
       "      <td>14</td>\n",
       "      <td>4</td>\n",
       "      <td>7</td>\n",
       "      <td>0</td>\n",
       "    </tr>\n",
       "    <tr>\n",
       "      <th>462599</th>\n",
       "      <td>ea2477514b445e4073e931f7d6a630b436727324c0a8bf...</td>\n",
       "      <td>30</td>\n",
       "      <td>NO CONTROLS</td>\n",
       "      <td>NO CONTROLS</td>\n",
       "      <td>CLEAR</td>\n",
       "      <td>DAYLIGHT</td>\n",
       "      <td>PARKED MOTOR VEHICLE</td>\n",
       "      <td>ONE-WAY</td>\n",
       "      <td>STRAIGHT AND LEVEL</td>\n",
       "      <td>DRY</td>\n",
       "      <td>NO DEFECTS</td>\n",
       "      <td>NaN</td>\n",
       "      <td>NaN</td>\n",
       "      <td>UNABLE TO DETERMINE</td>\n",
       "      <td>NaN</td>\n",
       "      <td>NaN</td>\n",
       "      <td>2</td>\n",
       "      <td>9</td>\n",
       "      <td>4</td>\n",
       "      <td>7</td>\n",
       "      <td>0</td>\n",
       "    </tr>\n",
       "  </tbody>\n",
       "</table>\n",
       "<p>462600 rows × 21 columns</p>\n",
       "</div>"
      ],
      "text/plain": [
       "                                          CRASH_RECORD_ID  POSTED_SPEED_LIMIT  \\\n",
       "0       073682ef84ff827659552d4254ad1b98bfec24935cc9cc...                  10   \n",
       "1       1560fb8a1e32b528fef8bfd677d2b3fc5ab37278b157fa...                  45   \n",
       "2       c7e667807d86ff2e83da48267e1135680cad68c86eb00f...                  30   \n",
       "3       009e9e67203442370272e1a13d6ee51a4155dac65e583d...                  35   \n",
       "4       00e47f189660cd8ba1e85fc63061bf1d8465184393f134...                  30   \n",
       "...                                                   ...                 ...   \n",
       "462595  0bba5c9192545790524c2af43b8c423619f8d37f9e72ac...                  30   \n",
       "462596  5414cb734ce44cf34d1e16df2453ad6221e7cb1f0049be...                  30   \n",
       "462597  b6e0b0388cb9f3a250c3036a03cd664590ec2f465ac4d1...                  30   \n",
       "462598  df74080be8ceeb327edd744a7f34507bc32c3f76a3f00c...                  30   \n",
       "462599  ea2477514b445e4073e931f7d6a630b436727324c0a8bf...                  30   \n",
       "\n",
       "       TRAFFIC_CONTROL_DEVICE      DEVICE_CONDITION WEATHER_CONDITION  \\\n",
       "0                 NO CONTROLS           NO CONTROLS             CLEAR   \n",
       "1                 NO CONTROLS           NO CONTROLS             CLEAR   \n",
       "2                 NO CONTROLS           NO CONTROLS             CLEAR   \n",
       "3           STOP SIGN/FLASHER  FUNCTIONING PROPERLY             CLEAR   \n",
       "4              TRAFFIC SIGNAL  FUNCTIONING PROPERLY             CLEAR   \n",
       "...                       ...                   ...               ...   \n",
       "462595      STOP SIGN/FLASHER  FUNCTIONING PROPERLY             CLEAR   \n",
       "462596            NO CONTROLS           NO CONTROLS   CLOUDY/OVERCAST   \n",
       "462597      STOP SIGN/FLASHER  FUNCTIONING PROPERLY             CLEAR   \n",
       "462598            NO CONTROLS           NO CONTROLS             CLEAR   \n",
       "462599            NO CONTROLS           NO CONTROLS             CLEAR   \n",
       "\n",
       "            LIGHTING_CONDITION          FIRST_CRASH_TYPE  \\\n",
       "0                     DARKNESS      PARKED MOTOR VEHICLE   \n",
       "1                     DAYLIGHT  SIDESWIPE SAME DIRECTION   \n",
       "2                     DAYLIGHT  SIDESWIPE SAME DIRECTION   \n",
       "3                     DAYLIGHT                   TURNING   \n",
       "4       DARKNESS, LIGHTED ROAD                   TURNING   \n",
       "...                        ...                       ...   \n",
       "462595                DAYLIGHT                   TURNING   \n",
       "462596                DAYLIGHT                   TURNING   \n",
       "462597                DAYLIGHT                   HEAD ON   \n",
       "462598                DAYLIGHT      PARKED MOTOR VEHICLE   \n",
       "462599                DAYLIGHT      PARKED MOTOR VEHICLE   \n",
       "\n",
       "                        TRAFFICWAY_TYPE           ALIGNMENT  \\\n",
       "0                                 OTHER  STRAIGHT AND LEVEL   \n",
       "1                               ONE-WAY  STRAIGHT AND LEVEL   \n",
       "2                               ONE-WAY  STRAIGHT AND LEVEL   \n",
       "3                           NOT DIVIDED  STRAIGHT AND LEVEL   \n",
       "4                           NOT DIVIDED  STRAIGHT AND LEVEL   \n",
       "...                                 ...                 ...   \n",
       "462595  DIVIDED - W/MEDIAN (NOT RAISED)  STRAIGHT AND LEVEL   \n",
       "462596       DIVIDED - W/MEDIAN BARRIER  STRAIGHT AND LEVEL   \n",
       "462597  DIVIDED - W/MEDIAN (NOT RAISED)  STRAIGHT AND LEVEL   \n",
       "462598                          ONE-WAY  STRAIGHT AND LEVEL   \n",
       "462599                          ONE-WAY  STRAIGHT AND LEVEL   \n",
       "\n",
       "       ROADWAY_SURFACE_COND ROAD_DEFECT INTERSECTION_RELATED_I  \\\n",
       "0                       DRY  NO DEFECTS                    NaN   \n",
       "1                       DRY  NO DEFECTS                    NaN   \n",
       "2                       WET  NO DEFECTS                    NaN   \n",
       "3                       DRY  NO DEFECTS                      Y   \n",
       "4                       DRY  NO DEFECTS                      Y   \n",
       "...                     ...         ...                    ...   \n",
       "462595                  DRY  NO DEFECTS                      Y   \n",
       "462596                  DRY  NO DEFECTS                    NaN   \n",
       "462597                  DRY  NO DEFECTS                    NaN   \n",
       "462598                  DRY  NO DEFECTS                    NaN   \n",
       "462599                  DRY  NO DEFECTS                    NaN   \n",
       "\n",
       "       NOT_RIGHT_OF_WAY_I        PRIM_CONTRIBUTORY_CAUSE WORK_ZONE_TYPE  \\\n",
       "0                     NaN                 NOT APPLICABLE            NaN   \n",
       "1                     NaN            UNABLE TO DETERMINE            NaN   \n",
       "2                     NaN  FAILING TO YIELD RIGHT-OF-WAY            NaN   \n",
       "3                     NaN  FAILING TO YIELD RIGHT-OF-WAY            NaN   \n",
       "4                     NaN            UNABLE TO DETERMINE            NaN   \n",
       "...                   ...                            ...            ...   \n",
       "462595                NaN         DISREGARDING STOP SIGN            NaN   \n",
       "462596                NaN  FAILING TO YIELD RIGHT-OF-WAY            NaN   \n",
       "462597                NaN  FAILING TO YIELD RIGHT-OF-WAY            NaN   \n",
       "462598                NaN            UNABLE TO DETERMINE            NaN   \n",
       "462599                NaN            UNABLE TO DETERMINE            NaN   \n",
       "\n",
       "       WORKERS_PRESENT_I  NUM_UNITS  CRASH_HOUR  CRASH_DAY_OF_WEEK  \\\n",
       "0                    NaN          2          18                  3   \n",
       "1                    NaN          2          16                  5   \n",
       "2                    NaN          2          16                  5   \n",
       "3                    NaN          2          16                  6   \n",
       "4                    NaN          2          22                  5   \n",
       "...                  ...        ...         ...                ...   \n",
       "462595               NaN          2           9                  3   \n",
       "462596               NaN          2          17                  4   \n",
       "462597               NaN          2          10                  4   \n",
       "462598               NaN          2          14                  4   \n",
       "462599               NaN          2           9                  4   \n",
       "\n",
       "        CRASH_MONTH  IS_SEVERE  \n",
       "0                10          0  \n",
       "1                 6          0  \n",
       "2                 2          1  \n",
       "3                 6          1  \n",
       "4                 3          0  \n",
       "...             ...        ...  \n",
       "462595            7          0  \n",
       "462596            7          1  \n",
       "462597            7          1  \n",
       "462598            7          0  \n",
       "462599            7          0  \n",
       "\n",
       "[462600 rows x 21 columns]"
      ]
     },
     "execution_count": 5,
     "metadata": {},
     "output_type": "execute_result"
    }
   ],
   "source": [
    "non_related_data = [\n",
    "    'RD_NO', 'DATE_POLICE_NOTIFIED', 'BEAT_OF_OCCURRENCE', 'LOCATION', \n",
    "    'CRASH_DATE_EST_I', 'LANE_CNT', 'REPORT_TYPE', 'PHOTOS_TAKEN_I', \n",
    "    'STATEMENTS_TAKEN_I','CRASH_DATE', 'CRASH_TYPE',  'HIT_AND_RUN_I',\n",
    "    'DAMAGE', 'STREET_NO', 'STREET_DIRECTION', 'DOORING_I', 'WORK_ZONE_I',\n",
    "    'MOST_SEVERE_INJURY', 'INJURIES_TOTAL', 'INJURIES_FATAL',\n",
    "    'INJURIES_INCAPACITATING', 'INJURIES_NON_INCAPACITATING',\n",
    "    'INJURIES_REPORTED_NOT_EVIDENT', 'INJURIES_NO_INDICATION', \n",
    "    'INJURIES_UNKNOWN', 'STREET_NAME', 'LATITUDE', 'LONGITUDE',\n",
    "    'SEC_CONTRIBUTORY_CAUSE'\n",
    "    ]\n",
    "\n",
    "df_crashes.drop(columns=non_related_data, axis=1, inplace=True)\n",
    "df_crashes"
   ]
  },
  {
   "cell_type": "markdown",
   "metadata": {},
   "source": [
    "### Importing People Dataframe"
   ]
  },
  {
   "cell_type": "markdown",
   "metadata": {},
   "source": [
    "The Traffic crashes -people csv takes in data from every person who is involved in the accident."
   ]
  },
  {
   "cell_type": "code",
   "execution_count": 5,
   "metadata": {},
   "outputs": [
    {
     "name": "stderr",
     "output_type": "stream",
     "text": [
      "C:\\Users\\Deric\\anaconda3\\envs\\learn-env\\lib\\site-packages\\IPython\\core\\interactiveshell.py:3072: DtypeWarning: Columns (20,24,25,26,29) have mixed types. Specify dtype option on import or set low_memory=False.\n",
      "  interactivity=interactivity, compiler=compiler, result=result)\n"
     ]
    }
   ],
   "source": [
    "df_people = pd.read_csv('data/Traffic_Crashes_-_People.csv')"
   ]
  },
  {
   "cell_type": "markdown",
   "metadata": {},
   "source": [
    "Since our data is going to reflect only drivers per row of the 'joined' datasets, I am limiting the type of person involved to just driver. To only collect data about the driver."
   ]
  },
  {
   "cell_type": "code",
   "execution_count": 6,
   "metadata": {},
   "outputs": [],
   "source": [
    "df_people = df_people[df_people['PERSON_TYPE'] == 'DRIVER']"
   ]
  },
  {
   "cell_type": "code",
   "execution_count": 7,
   "metadata": {},
   "outputs": [
    {
     "data": {
      "text/html": [
       "<div>\n",
       "<style scoped>\n",
       "    .dataframe tbody tr th:only-of-type {\n",
       "        vertical-align: middle;\n",
       "    }\n",
       "\n",
       "    .dataframe tbody tr th {\n",
       "        vertical-align: top;\n",
       "    }\n",
       "\n",
       "    .dataframe thead th {\n",
       "        text-align: right;\n",
       "    }\n",
       "</style>\n",
       "<table border=\"1\" class=\"dataframe\">\n",
       "  <thead>\n",
       "    <tr style=\"text-align: right;\">\n",
       "      <th></th>\n",
       "      <th>CRASH_RECORD_ID</th>\n",
       "      <th>VEHICLE_ID</th>\n",
       "      <th>CITY</th>\n",
       "      <th>SEX</th>\n",
       "      <th>DRIVERS_LICENSE_CLASS</th>\n",
       "      <th>SAFETY_EQUIPMENT</th>\n",
       "    </tr>\n",
       "  </thead>\n",
       "  <tbody>\n",
       "    <tr>\n",
       "      <th>0</th>\n",
       "      <td>2e31858c0e411f0bdcb337fb7c415aa93763cf2f23e02f...</td>\n",
       "      <td>10.0</td>\n",
       "      <td>CHICAGO</td>\n",
       "      <td>M</td>\n",
       "      <td>NaN</td>\n",
       "      <td>USAGE UNKNOWN</td>\n",
       "    </tr>\n",
       "    <tr>\n",
       "      <th>1</th>\n",
       "      <td>e73b35bd7651b0c6693162bee0666db159b28901437009...</td>\n",
       "      <td>96.0</td>\n",
       "      <td>ELK GROVE</td>\n",
       "      <td>M</td>\n",
       "      <td>NaN</td>\n",
       "      <td>SAFETY BELT USED</td>\n",
       "    </tr>\n",
       "    <tr>\n",
       "      <th>2</th>\n",
       "      <td>f2b1adeb85a15112e4fb7db74bff440d6ca53ff7a21e10...</td>\n",
       "      <td>954.0</td>\n",
       "      <td>CHICAGO</td>\n",
       "      <td>M</td>\n",
       "      <td>D</td>\n",
       "      <td>USAGE UNKNOWN</td>\n",
       "    </tr>\n",
       "    <tr>\n",
       "      <th>3</th>\n",
       "      <td>15a3e24fce3ce7cd2b02d44013d1a93ff2fbdca80632ec...</td>\n",
       "      <td>9561.0</td>\n",
       "      <td>SKOKIE</td>\n",
       "      <td>M</td>\n",
       "      <td>D</td>\n",
       "      <td>SAFETY BELT USED</td>\n",
       "    </tr>\n",
       "    <tr>\n",
       "      <th>4</th>\n",
       "      <td>2fcefeab458932d8b1b12e103c18c50adc659943cccd4b...</td>\n",
       "      <td>96762.0</td>\n",
       "      <td>NaN</td>\n",
       "      <td>X</td>\n",
       "      <td>NaN</td>\n",
       "      <td>USAGE UNKNOWN</td>\n",
       "    </tr>\n",
       "    <tr>\n",
       "      <th>...</th>\n",
       "      <td>...</td>\n",
       "      <td>...</td>\n",
       "      <td>...</td>\n",
       "      <td>...</td>\n",
       "      <td>...</td>\n",
       "      <td>...</td>\n",
       "    </tr>\n",
       "    <tr>\n",
       "      <th>1024845</th>\n",
       "      <td>1d75d9596feabac154e0630053ad5b74b5bda214561a63...</td>\n",
       "      <td>952903.0</td>\n",
       "      <td>CHICAGO</td>\n",
       "      <td>M</td>\n",
       "      <td>NaN</td>\n",
       "      <td>USAGE UNKNOWN</td>\n",
       "    </tr>\n",
       "    <tr>\n",
       "      <th>1024846</th>\n",
       "      <td>1d75d9596feabac154e0630053ad5b74b5bda214561a63...</td>\n",
       "      <td>952904.0</td>\n",
       "      <td>CHICAGO</td>\n",
       "      <td>F</td>\n",
       "      <td>D</td>\n",
       "      <td>SAFETY BELT USED</td>\n",
       "    </tr>\n",
       "    <tr>\n",
       "      <th>1024847</th>\n",
       "      <td>e694f71d7ca1ca065280cb1fe7f8fc562b2cc6674a32d8...</td>\n",
       "      <td>954387.0</td>\n",
       "      <td>NaN</td>\n",
       "      <td>M</td>\n",
       "      <td>NaN</td>\n",
       "      <td>USAGE UNKNOWN</td>\n",
       "    </tr>\n",
       "    <tr>\n",
       "      <th>1024848</th>\n",
       "      <td>e694f71d7ca1ca065280cb1fe7f8fc562b2cc6674a32d8...</td>\n",
       "      <td>954388.0</td>\n",
       "      <td>CHICAGO</td>\n",
       "      <td>M</td>\n",
       "      <td>D</td>\n",
       "      <td>SAFETY BELT USED</td>\n",
       "    </tr>\n",
       "    <tr>\n",
       "      <th>1024849</th>\n",
       "      <td>b32e7f597dce6c6f6bdd32c7f281bee774997b53bd555b...</td>\n",
       "      <td>954487.0</td>\n",
       "      <td>CHICAGO</td>\n",
       "      <td>M</td>\n",
       "      <td>D</td>\n",
       "      <td>USAGE UNKNOWN</td>\n",
       "    </tr>\n",
       "  </tbody>\n",
       "</table>\n",
       "<p>794406 rows × 6 columns</p>\n",
       "</div>"
      ],
      "text/plain": [
       "                                           CRASH_RECORD_ID  VEHICLE_ID  \\\n",
       "0        2e31858c0e411f0bdcb337fb7c415aa93763cf2f23e02f...        10.0   \n",
       "1        e73b35bd7651b0c6693162bee0666db159b28901437009...        96.0   \n",
       "2        f2b1adeb85a15112e4fb7db74bff440d6ca53ff7a21e10...       954.0   \n",
       "3        15a3e24fce3ce7cd2b02d44013d1a93ff2fbdca80632ec...      9561.0   \n",
       "4        2fcefeab458932d8b1b12e103c18c50adc659943cccd4b...     96762.0   \n",
       "...                                                    ...         ...   \n",
       "1024845  1d75d9596feabac154e0630053ad5b74b5bda214561a63...    952903.0   \n",
       "1024846  1d75d9596feabac154e0630053ad5b74b5bda214561a63...    952904.0   \n",
       "1024847  e694f71d7ca1ca065280cb1fe7f8fc562b2cc6674a32d8...    954387.0   \n",
       "1024848  e694f71d7ca1ca065280cb1fe7f8fc562b2cc6674a32d8...    954388.0   \n",
       "1024849  b32e7f597dce6c6f6bdd32c7f281bee774997b53bd555b...    954487.0   \n",
       "\n",
       "              CITY SEX DRIVERS_LICENSE_CLASS  SAFETY_EQUIPMENT  \n",
       "0          CHICAGO   M                   NaN     USAGE UNKNOWN  \n",
       "1        ELK GROVE   M                   NaN  SAFETY BELT USED  \n",
       "2          CHICAGO   M                     D     USAGE UNKNOWN  \n",
       "3           SKOKIE   M                     D  SAFETY BELT USED  \n",
       "4              NaN   X                   NaN     USAGE UNKNOWN  \n",
       "...            ...  ..                   ...               ...  \n",
       "1024845    CHICAGO   M                   NaN     USAGE UNKNOWN  \n",
       "1024846    CHICAGO   F                     D  SAFETY BELT USED  \n",
       "1024847        NaN   M                   NaN     USAGE UNKNOWN  \n",
       "1024848    CHICAGO   M                     D  SAFETY BELT USED  \n",
       "1024849    CHICAGO   M                     D     USAGE UNKNOWN  \n",
       "\n",
       "[794406 rows x 6 columns]"
      ]
     },
     "execution_count": 7,
     "metadata": {},
     "output_type": "execute_result"
    }
   ],
   "source": [
    "cols=['CRASH_RECORD_ID', 'VEHICLE_ID',  'CITY', 'SEX',\n",
    "      'DRIVERS_LICENSE_CLASS', 'SAFETY_EQUIPMENT']\n",
    "\n",
    "df_people =df_people[cols]\n",
    "df_people"
   ]
  },
  {
   "cell_type": "markdown",
   "metadata": {},
   "source": [
    "### Importing Vehicle Dataframe"
   ]
  },
  {
   "cell_type": "markdown",
   "metadata": {},
   "source": [
    "The Traffic Crashes -Vehicle .csv file takes in data about the vehicles involved in the traffic accidents."
   ]
  },
  {
   "cell_type": "code",
   "execution_count": 8,
   "metadata": {
    "scrolled": false
   },
   "outputs": [
    {
     "name": "stderr",
     "output_type": "stream",
     "text": [
      "C:\\Users\\Deric\\anaconda3\\envs\\learn-env\\lib\\site-packages\\IPython\\core\\interactiveshell.py:3072: DtypeWarning: Columns (19,21,40,41,42,44,48,49,50,55,58,59,61) have mixed types. Specify dtype option on import or set low_memory=False.\n",
      "  interactivity=interactivity, compiler=compiler, result=result)\n"
     ]
    }
   ],
   "source": [
    "df_vehicles = pd.read_csv('data/Traffic_Crashes_-_Vehicles.csv')"
   ]
  },
  {
   "cell_type": "code",
   "execution_count": 9,
   "metadata": {},
   "outputs": [
    {
     "data": {
      "text/html": [
       "<div>\n",
       "<style scoped>\n",
       "    .dataframe tbody tr th:only-of-type {\n",
       "        vertical-align: middle;\n",
       "    }\n",
       "\n",
       "    .dataframe tbody tr th {\n",
       "        vertical-align: top;\n",
       "    }\n",
       "\n",
       "    .dataframe thead th {\n",
       "        text-align: right;\n",
       "    }\n",
       "</style>\n",
       "<table border=\"1\" class=\"dataframe\">\n",
       "  <thead>\n",
       "    <tr style=\"text-align: right;\">\n",
       "      <th></th>\n",
       "      <th>CRASH_RECORD_ID</th>\n",
       "      <th>VEHICLE_ID</th>\n",
       "      <th>NUM_PASSENGERS</th>\n",
       "      <th>CMRC_VEH_I</th>\n",
       "      <th>VEHICLE_DEFECT</th>\n",
       "      <th>EXCEED_SPEED_LIMIT_I</th>\n",
       "      <th>FIRST_CONTACT_POINT</th>\n",
       "    </tr>\n",
       "  </thead>\n",
       "  <tbody>\n",
       "    <tr>\n",
       "      <th>0</th>\n",
       "      <td>2e31858c0e411f0bdcb337fb7c415aa93763cf2f23e02f...</td>\n",
       "      <td>10.0</td>\n",
       "      <td>NaN</td>\n",
       "      <td>NaN</td>\n",
       "      <td>NONE</td>\n",
       "      <td>NaN</td>\n",
       "      <td>FRONT</td>\n",
       "    </tr>\n",
       "    <tr>\n",
       "      <th>1</th>\n",
       "      <td>e73b35bd7651b0c6693162bee0666db159b28901437009...</td>\n",
       "      <td>96.0</td>\n",
       "      <td>NaN</td>\n",
       "      <td>NaN</td>\n",
       "      <td>NONE</td>\n",
       "      <td>NaN</td>\n",
       "      <td>FRONT</td>\n",
       "    </tr>\n",
       "    <tr>\n",
       "      <th>2</th>\n",
       "      <td>f2b1adeb85a15112e4fb7db74bff440d6ca53ff7a21e10...</td>\n",
       "      <td>954.0</td>\n",
       "      <td>NaN</td>\n",
       "      <td>NaN</td>\n",
       "      <td>UNKNOWN</td>\n",
       "      <td>NaN</td>\n",
       "      <td>FRONT</td>\n",
       "    </tr>\n",
       "    <tr>\n",
       "      <th>3</th>\n",
       "      <td>15a3e24fce3ce7cd2b02d44013d1a93ff2fbdca80632ec...</td>\n",
       "      <td>9561.0</td>\n",
       "      <td>NaN</td>\n",
       "      <td>NaN</td>\n",
       "      <td>NONE</td>\n",
       "      <td>NaN</td>\n",
       "      <td>REAR</td>\n",
       "    </tr>\n",
       "    <tr>\n",
       "      <th>4</th>\n",
       "      <td>1d3c178880366c77deaf06b8c3198429112a1c8e8807ed...</td>\n",
       "      <td>96745.0</td>\n",
       "      <td>NaN</td>\n",
       "      <td>NaN</td>\n",
       "      <td>UNKNOWN</td>\n",
       "      <td>NaN</td>\n",
       "      <td>UNKNOWN</td>\n",
       "    </tr>\n",
       "    <tr>\n",
       "      <th>...</th>\n",
       "      <td>...</td>\n",
       "      <td>...</td>\n",
       "      <td>...</td>\n",
       "      <td>...</td>\n",
       "      <td>...</td>\n",
       "      <td>...</td>\n",
       "      <td>...</td>\n",
       "    </tr>\n",
       "    <tr>\n",
       "      <th>943813</th>\n",
       "      <td>fbea3744fc12b228a21abc5e8bf16dcef144470d6a8ab3...</td>\n",
       "      <td>945161.0</td>\n",
       "      <td>NaN</td>\n",
       "      <td>NaN</td>\n",
       "      <td>NONE</td>\n",
       "      <td>NaN</td>\n",
       "      <td>TOTAL (ALL AREAS)</td>\n",
       "    </tr>\n",
       "    <tr>\n",
       "      <th>943814</th>\n",
       "      <td>3c22094fc9de9d058b65eaf48739e9c8bb007e1c981f47...</td>\n",
       "      <td>945174.0</td>\n",
       "      <td>NaN</td>\n",
       "      <td>NaN</td>\n",
       "      <td>UNKNOWN</td>\n",
       "      <td>NaN</td>\n",
       "      <td>UNKNOWN</td>\n",
       "    </tr>\n",
       "    <tr>\n",
       "      <th>943815</th>\n",
       "      <td>3c22094fc9de9d058b65eaf48739e9c8bb007e1c981f47...</td>\n",
       "      <td>945177.0</td>\n",
       "      <td>NaN</td>\n",
       "      <td>NaN</td>\n",
       "      <td>NONE</td>\n",
       "      <td>NaN</td>\n",
       "      <td>FRONT-LEFT</td>\n",
       "    </tr>\n",
       "    <tr>\n",
       "      <th>943816</th>\n",
       "      <td>f9280957bd482220fac4d2370bbb84d27a40c53ee447bb...</td>\n",
       "      <td>946505.0</td>\n",
       "      <td>NaN</td>\n",
       "      <td>NaN</td>\n",
       "      <td>UNKNOWN</td>\n",
       "      <td>NaN</td>\n",
       "      <td>FRONT</td>\n",
       "    </tr>\n",
       "    <tr>\n",
       "      <th>943817</th>\n",
       "      <td>f9280957bd482220fac4d2370bbb84d27a40c53ee447bb...</td>\n",
       "      <td>946507.0</td>\n",
       "      <td>1.0</td>\n",
       "      <td>NaN</td>\n",
       "      <td>NONE</td>\n",
       "      <td>NaN</td>\n",
       "      <td>SIDE-LEFT</td>\n",
       "    </tr>\n",
       "  </tbody>\n",
       "</table>\n",
       "<p>943818 rows × 7 columns</p>\n",
       "</div>"
      ],
      "text/plain": [
       "                                          CRASH_RECORD_ID  VEHICLE_ID  \\\n",
       "0       2e31858c0e411f0bdcb337fb7c415aa93763cf2f23e02f...        10.0   \n",
       "1       e73b35bd7651b0c6693162bee0666db159b28901437009...        96.0   \n",
       "2       f2b1adeb85a15112e4fb7db74bff440d6ca53ff7a21e10...       954.0   \n",
       "3       15a3e24fce3ce7cd2b02d44013d1a93ff2fbdca80632ec...      9561.0   \n",
       "4       1d3c178880366c77deaf06b8c3198429112a1c8e8807ed...     96745.0   \n",
       "...                                                   ...         ...   \n",
       "943813  fbea3744fc12b228a21abc5e8bf16dcef144470d6a8ab3...    945161.0   \n",
       "943814  3c22094fc9de9d058b65eaf48739e9c8bb007e1c981f47...    945174.0   \n",
       "943815  3c22094fc9de9d058b65eaf48739e9c8bb007e1c981f47...    945177.0   \n",
       "943816  f9280957bd482220fac4d2370bbb84d27a40c53ee447bb...    946505.0   \n",
       "943817  f9280957bd482220fac4d2370bbb84d27a40c53ee447bb...    946507.0   \n",
       "\n",
       "        NUM_PASSENGERS CMRC_VEH_I VEHICLE_DEFECT EXCEED_SPEED_LIMIT_I  \\\n",
       "0                  NaN        NaN           NONE                  NaN   \n",
       "1                  NaN        NaN           NONE                  NaN   \n",
       "2                  NaN        NaN        UNKNOWN                  NaN   \n",
       "3                  NaN        NaN           NONE                  NaN   \n",
       "4                  NaN        NaN        UNKNOWN                  NaN   \n",
       "...                ...        ...            ...                  ...   \n",
       "943813             NaN        NaN           NONE                  NaN   \n",
       "943814             NaN        NaN        UNKNOWN                  NaN   \n",
       "943815             NaN        NaN           NONE                  NaN   \n",
       "943816             NaN        NaN        UNKNOWN                  NaN   \n",
       "943817             1.0        NaN           NONE                  NaN   \n",
       "\n",
       "       FIRST_CONTACT_POINT  \n",
       "0                    FRONT  \n",
       "1                    FRONT  \n",
       "2                    FRONT  \n",
       "3                     REAR  \n",
       "4                  UNKNOWN  \n",
       "...                    ...  \n",
       "943813   TOTAL (ALL AREAS)  \n",
       "943814             UNKNOWN  \n",
       "943815          FRONT-LEFT  \n",
       "943816               FRONT  \n",
       "943817           SIDE-LEFT  \n",
       "\n",
       "[943818 rows x 7 columns]"
      ]
     },
     "execution_count": 9,
     "metadata": {},
     "output_type": "execute_result"
    }
   ],
   "source": [
    "cols = ['CRASH_RECORD_ID', 'VEHICLE_ID', 'NUM_PASSENGERS', 'CMRC_VEH_I',\n",
    "        'VEHICLE_DEFECT', 'EXCEED_SPEED_LIMIT_I', 'FIRST_CONTACT_POINT'] \n",
    "\n",
    "df_vehicles = df_vehicles[cols]\n",
    "df_vehicles"
   ]
  },
  {
   "cell_type": "markdown",
   "metadata": {},
   "source": [
    "### Joining Datasets"
   ]
  },
  {
   "cell_type": "markdown",
   "metadata": {},
   "source": [
    "For the model to work on all chosen features, I will need to 'merge' the three data-sets into one based off of the 'CRASH_RECORD_ID' and the 'VEHICLE_ID' columns."
   ]
  },
  {
   "cell_type": "code",
   "execution_count": 10,
   "metadata": {},
   "outputs": [
    {
     "data": {
      "text/html": [
       "<div>\n",
       "<style scoped>\n",
       "    .dataframe tbody tr th:only-of-type {\n",
       "        vertical-align: middle;\n",
       "    }\n",
       "\n",
       "    .dataframe tbody tr th {\n",
       "        vertical-align: top;\n",
       "    }\n",
       "\n",
       "    .dataframe thead th {\n",
       "        text-align: right;\n",
       "    }\n",
       "</style>\n",
       "<table border=\"1\" class=\"dataframe\">\n",
       "  <thead>\n",
       "    <tr style=\"text-align: right;\">\n",
       "      <th></th>\n",
       "      <th>NUM_PASSENGERS</th>\n",
       "      <th>CMRC_VEH_I</th>\n",
       "      <th>VEHICLE_DEFECT</th>\n",
       "      <th>EXCEED_SPEED_LIMIT_I</th>\n",
       "      <th>FIRST_CONTACT_POINT</th>\n",
       "      <th>CITY</th>\n",
       "      <th>SEX</th>\n",
       "      <th>DRIVERS_LICENSE_CLASS</th>\n",
       "      <th>SAFETY_EQUIPMENT</th>\n",
       "      <th>POSTED_SPEED_LIMIT</th>\n",
       "      <th>TRAFFIC_CONTROL_DEVICE</th>\n",
       "      <th>DEVICE_CONDITION</th>\n",
       "      <th>WEATHER_CONDITION</th>\n",
       "      <th>LIGHTING_CONDITION</th>\n",
       "      <th>FIRST_CRASH_TYPE</th>\n",
       "      <th>TRAFFICWAY_TYPE</th>\n",
       "      <th>ALIGNMENT</th>\n",
       "      <th>ROADWAY_SURFACE_COND</th>\n",
       "      <th>ROAD_DEFECT</th>\n",
       "      <th>INTERSECTION_RELATED_I</th>\n",
       "      <th>NOT_RIGHT_OF_WAY_I</th>\n",
       "      <th>PRIM_CONTRIBUTORY_CAUSE</th>\n",
       "      <th>WORK_ZONE_TYPE</th>\n",
       "      <th>WORKERS_PRESENT_I</th>\n",
       "      <th>NUM_UNITS</th>\n",
       "      <th>CRASH_HOUR</th>\n",
       "      <th>CRASH_DAY_OF_WEEK</th>\n",
       "      <th>CRASH_MONTH</th>\n",
       "      <th>IS_SEVERE</th>\n",
       "    </tr>\n",
       "  </thead>\n",
       "  <tbody>\n",
       "    <tr>\n",
       "      <th>0</th>\n",
       "      <td>NaN</td>\n",
       "      <td>NaN</td>\n",
       "      <td>NONE</td>\n",
       "      <td>NaN</td>\n",
       "      <td>FRONT</td>\n",
       "      <td>CHICAGO</td>\n",
       "      <td>M</td>\n",
       "      <td>NaN</td>\n",
       "      <td>USAGE UNKNOWN</td>\n",
       "      <td>35</td>\n",
       "      <td>TRAFFIC SIGNAL</td>\n",
       "      <td>FUNCTIONING PROPERLY</td>\n",
       "      <td>CLEAR</td>\n",
       "      <td>DAYLIGHT</td>\n",
       "      <td>TURNING</td>\n",
       "      <td>NOT DIVIDED</td>\n",
       "      <td>STRAIGHT AND LEVEL</td>\n",
       "      <td>DRY</td>\n",
       "      <td>NO DEFECTS</td>\n",
       "      <td>Y</td>\n",
       "      <td>NaN</td>\n",
       "      <td>UNABLE TO DETERMINE</td>\n",
       "      <td>NaN</td>\n",
       "      <td>NaN</td>\n",
       "      <td>2</td>\n",
       "      <td>12</td>\n",
       "      <td>3</td>\n",
       "      <td>8</td>\n",
       "      <td>0</td>\n",
       "    </tr>\n",
       "    <tr>\n",
       "      <th>1</th>\n",
       "      <td>NaN</td>\n",
       "      <td>NaN</td>\n",
       "      <td>NONE</td>\n",
       "      <td>NaN</td>\n",
       "      <td>FRONT-LEFT</td>\n",
       "      <td>ORLAND PARK</td>\n",
       "      <td>M</td>\n",
       "      <td>D</td>\n",
       "      <td>SAFETY BELT USED</td>\n",
       "      <td>35</td>\n",
       "      <td>TRAFFIC SIGNAL</td>\n",
       "      <td>FUNCTIONING PROPERLY</td>\n",
       "      <td>CLEAR</td>\n",
       "      <td>DAYLIGHT</td>\n",
       "      <td>TURNING</td>\n",
       "      <td>NOT DIVIDED</td>\n",
       "      <td>STRAIGHT AND LEVEL</td>\n",
       "      <td>DRY</td>\n",
       "      <td>NO DEFECTS</td>\n",
       "      <td>Y</td>\n",
       "      <td>NaN</td>\n",
       "      <td>UNABLE TO DETERMINE</td>\n",
       "      <td>NaN</td>\n",
       "      <td>NaN</td>\n",
       "      <td>2</td>\n",
       "      <td>12</td>\n",
       "      <td>3</td>\n",
       "      <td>8</td>\n",
       "      <td>0</td>\n",
       "    </tr>\n",
       "    <tr>\n",
       "      <th>2</th>\n",
       "      <td>NaN</td>\n",
       "      <td>NaN</td>\n",
       "      <td>NONE</td>\n",
       "      <td>NaN</td>\n",
       "      <td>FRONT</td>\n",
       "      <td>ELK GROVE</td>\n",
       "      <td>M</td>\n",
       "      <td>NaN</td>\n",
       "      <td>SAFETY BELT USED</td>\n",
       "      <td>25</td>\n",
       "      <td>TRAFFIC SIGNAL</td>\n",
       "      <td>FUNCTIONING PROPERLY</td>\n",
       "      <td>CLEAR</td>\n",
       "      <td>DAYLIGHT</td>\n",
       "      <td>REAR END</td>\n",
       "      <td>ONE-WAY</td>\n",
       "      <td>STRAIGHT AND LEVEL</td>\n",
       "      <td>DRY</td>\n",
       "      <td>NO DEFECTS</td>\n",
       "      <td>NaN</td>\n",
       "      <td>NaN</td>\n",
       "      <td>FOLLOWING TOO CLOSELY</td>\n",
       "      <td>NaN</td>\n",
       "      <td>NaN</td>\n",
       "      <td>2</td>\n",
       "      <td>17</td>\n",
       "      <td>6</td>\n",
       "      <td>7</td>\n",
       "      <td>0</td>\n",
       "    </tr>\n",
       "    <tr>\n",
       "      <th>3</th>\n",
       "      <td>NaN</td>\n",
       "      <td>NaN</td>\n",
       "      <td>NONE</td>\n",
       "      <td>NaN</td>\n",
       "      <td>REAR</td>\n",
       "      <td>PLAINFIELD</td>\n",
       "      <td>M</td>\n",
       "      <td>D</td>\n",
       "      <td>SAFETY BELT USED</td>\n",
       "      <td>25</td>\n",
       "      <td>TRAFFIC SIGNAL</td>\n",
       "      <td>FUNCTIONING PROPERLY</td>\n",
       "      <td>CLEAR</td>\n",
       "      <td>DAYLIGHT</td>\n",
       "      <td>REAR END</td>\n",
       "      <td>ONE-WAY</td>\n",
       "      <td>STRAIGHT AND LEVEL</td>\n",
       "      <td>DRY</td>\n",
       "      <td>NO DEFECTS</td>\n",
       "      <td>NaN</td>\n",
       "      <td>NaN</td>\n",
       "      <td>FOLLOWING TOO CLOSELY</td>\n",
       "      <td>NaN</td>\n",
       "      <td>NaN</td>\n",
       "      <td>2</td>\n",
       "      <td>17</td>\n",
       "      <td>6</td>\n",
       "      <td>7</td>\n",
       "      <td>0</td>\n",
       "    </tr>\n",
       "    <tr>\n",
       "      <th>4</th>\n",
       "      <td>NaN</td>\n",
       "      <td>NaN</td>\n",
       "      <td>UNKNOWN</td>\n",
       "      <td>NaN</td>\n",
       "      <td>FRONT</td>\n",
       "      <td>CHICAGO</td>\n",
       "      <td>M</td>\n",
       "      <td>D</td>\n",
       "      <td>USAGE UNKNOWN</td>\n",
       "      <td>30</td>\n",
       "      <td>NO CONTROLS</td>\n",
       "      <td>NO CONTROLS</td>\n",
       "      <td>CLEAR</td>\n",
       "      <td>DAYLIGHT</td>\n",
       "      <td>REAR END</td>\n",
       "      <td>DIVIDED - W/MEDIAN (NOT RAISED)</td>\n",
       "      <td>STRAIGHT AND LEVEL</td>\n",
       "      <td>DRY</td>\n",
       "      <td>NO DEFECTS</td>\n",
       "      <td>NaN</td>\n",
       "      <td>NaN</td>\n",
       "      <td>UNABLE TO DETERMINE</td>\n",
       "      <td>NaN</td>\n",
       "      <td>NaN</td>\n",
       "      <td>2</td>\n",
       "      <td>11</td>\n",
       "      <td>4</td>\n",
       "      <td>9</td>\n",
       "      <td>0</td>\n",
       "    </tr>\n",
       "    <tr>\n",
       "      <th>...</th>\n",
       "      <td>...</td>\n",
       "      <td>...</td>\n",
       "      <td>...</td>\n",
       "      <td>...</td>\n",
       "      <td>...</td>\n",
       "      <td>...</td>\n",
       "      <td>...</td>\n",
       "      <td>...</td>\n",
       "      <td>...</td>\n",
       "      <td>...</td>\n",
       "      <td>...</td>\n",
       "      <td>...</td>\n",
       "      <td>...</td>\n",
       "      <td>...</td>\n",
       "      <td>...</td>\n",
       "      <td>...</td>\n",
       "      <td>...</td>\n",
       "      <td>...</td>\n",
       "      <td>...</td>\n",
       "      <td>...</td>\n",
       "      <td>...</td>\n",
       "      <td>...</td>\n",
       "      <td>...</td>\n",
       "      <td>...</td>\n",
       "      <td>...</td>\n",
       "      <td>...</td>\n",
       "      <td>...</td>\n",
       "      <td>...</td>\n",
       "      <td>...</td>\n",
       "    </tr>\n",
       "    <tr>\n",
       "      <th>794839</th>\n",
       "      <td>1.0</td>\n",
       "      <td>NaN</td>\n",
       "      <td>NONE</td>\n",
       "      <td>NaN</td>\n",
       "      <td>SIDE-RIGHT</td>\n",
       "      <td>CICERO</td>\n",
       "      <td>M</td>\n",
       "      <td>D</td>\n",
       "      <td>USAGE UNKNOWN</td>\n",
       "      <td>30</td>\n",
       "      <td>TRAFFIC SIGNAL</td>\n",
       "      <td>FUNCTIONING PROPERLY</td>\n",
       "      <td>RAIN</td>\n",
       "      <td>DARKNESS, LIGHTED ROAD</td>\n",
       "      <td>ANGLE</td>\n",
       "      <td>DIVIDED - W/MEDIAN (NOT RAISED)</td>\n",
       "      <td>STRAIGHT AND LEVEL</td>\n",
       "      <td>WET</td>\n",
       "      <td>NO DEFECTS</td>\n",
       "      <td>Y</td>\n",
       "      <td>NaN</td>\n",
       "      <td>DISREGARDING TRAFFIC SIGNALS</td>\n",
       "      <td>NaN</td>\n",
       "      <td>NaN</td>\n",
       "      <td>2</td>\n",
       "      <td>23</td>\n",
       "      <td>7</td>\n",
       "      <td>11</td>\n",
       "      <td>1</td>\n",
       "    </tr>\n",
       "    <tr>\n",
       "      <th>794840</th>\n",
       "      <td>NaN</td>\n",
       "      <td>NaN</td>\n",
       "      <td>UNKNOWN</td>\n",
       "      <td>NaN</td>\n",
       "      <td>UNKNOWN</td>\n",
       "      <td>NaN</td>\n",
       "      <td>X</td>\n",
       "      <td>NaN</td>\n",
       "      <td>USAGE UNKNOWN</td>\n",
       "      <td>30</td>\n",
       "      <td>NO CONTROLS</td>\n",
       "      <td>NO CONTROLS</td>\n",
       "      <td>UNKNOWN</td>\n",
       "      <td>UNKNOWN</td>\n",
       "      <td>PARKED MOTOR VEHICLE</td>\n",
       "      <td>NOT DIVIDED</td>\n",
       "      <td>STRAIGHT AND LEVEL</td>\n",
       "      <td>DRY</td>\n",
       "      <td>NO DEFECTS</td>\n",
       "      <td>NaN</td>\n",
       "      <td>NaN</td>\n",
       "      <td>UNABLE TO DETERMINE</td>\n",
       "      <td>NaN</td>\n",
       "      <td>NaN</td>\n",
       "      <td>2</td>\n",
       "      <td>11</td>\n",
       "      <td>7</td>\n",
       "      <td>11</td>\n",
       "      <td>0</td>\n",
       "    </tr>\n",
       "    <tr>\n",
       "      <th>794841</th>\n",
       "      <td>NaN</td>\n",
       "      <td>NaN</td>\n",
       "      <td>UNKNOWN</td>\n",
       "      <td>NaN</td>\n",
       "      <td>UNKNOWN</td>\n",
       "      <td>NaN</td>\n",
       "      <td>X</td>\n",
       "      <td>NaN</td>\n",
       "      <td>USAGE UNKNOWN</td>\n",
       "      <td>30</td>\n",
       "      <td>UNKNOWN</td>\n",
       "      <td>UNKNOWN</td>\n",
       "      <td>UNKNOWN</td>\n",
       "      <td>UNKNOWN</td>\n",
       "      <td>PARKED MOTOR VEHICLE</td>\n",
       "      <td>UNKNOWN</td>\n",
       "      <td>STRAIGHT AND LEVEL</td>\n",
       "      <td>UNKNOWN</td>\n",
       "      <td>UNKNOWN</td>\n",
       "      <td>NaN</td>\n",
       "      <td>NaN</td>\n",
       "      <td>UNABLE TO DETERMINE</td>\n",
       "      <td>NaN</td>\n",
       "      <td>NaN</td>\n",
       "      <td>2</td>\n",
       "      <td>18</td>\n",
       "      <td>7</td>\n",
       "      <td>11</td>\n",
       "      <td>0</td>\n",
       "    </tr>\n",
       "    <tr>\n",
       "      <th>794842</th>\n",
       "      <td>NaN</td>\n",
       "      <td>NaN</td>\n",
       "      <td>UNKNOWN</td>\n",
       "      <td>NaN</td>\n",
       "      <td>FRONT</td>\n",
       "      <td>NaN</td>\n",
       "      <td>M</td>\n",
       "      <td>NaN</td>\n",
       "      <td>USAGE UNKNOWN</td>\n",
       "      <td>30</td>\n",
       "      <td>NO CONTROLS</td>\n",
       "      <td>NO CONTROLS</td>\n",
       "      <td>CLEAR</td>\n",
       "      <td>DARKNESS, LIGHTED ROAD</td>\n",
       "      <td>SIDESWIPE SAME DIRECTION</td>\n",
       "      <td>ONE-WAY</td>\n",
       "      <td>STRAIGHT AND LEVEL</td>\n",
       "      <td>DRY</td>\n",
       "      <td>NO DEFECTS</td>\n",
       "      <td>NaN</td>\n",
       "      <td>NaN</td>\n",
       "      <td>IMPROPER OVERTAKING/PASSING</td>\n",
       "      <td>NaN</td>\n",
       "      <td>NaN</td>\n",
       "      <td>2</td>\n",
       "      <td>19</td>\n",
       "      <td>7</td>\n",
       "      <td>11</td>\n",
       "      <td>0</td>\n",
       "    </tr>\n",
       "    <tr>\n",
       "      <th>794843</th>\n",
       "      <td>1.0</td>\n",
       "      <td>NaN</td>\n",
       "      <td>NONE</td>\n",
       "      <td>NaN</td>\n",
       "      <td>SIDE-LEFT</td>\n",
       "      <td>ELK GROVE</td>\n",
       "      <td>F</td>\n",
       "      <td>D</td>\n",
       "      <td>SAFETY BELT NOT USED</td>\n",
       "      <td>30</td>\n",
       "      <td>NO CONTROLS</td>\n",
       "      <td>NO CONTROLS</td>\n",
       "      <td>CLEAR</td>\n",
       "      <td>DARKNESS, LIGHTED ROAD</td>\n",
       "      <td>SIDESWIPE SAME DIRECTION</td>\n",
       "      <td>ONE-WAY</td>\n",
       "      <td>STRAIGHT AND LEVEL</td>\n",
       "      <td>DRY</td>\n",
       "      <td>NO DEFECTS</td>\n",
       "      <td>NaN</td>\n",
       "      <td>NaN</td>\n",
       "      <td>IMPROPER OVERTAKING/PASSING</td>\n",
       "      <td>NaN</td>\n",
       "      <td>NaN</td>\n",
       "      <td>2</td>\n",
       "      <td>19</td>\n",
       "      <td>7</td>\n",
       "      <td>11</td>\n",
       "      <td>0</td>\n",
       "    </tr>\n",
       "  </tbody>\n",
       "</table>\n",
       "<p>794844 rows × 29 columns</p>\n",
       "</div>"
      ],
      "text/plain": [
       "        NUM_PASSENGERS CMRC_VEH_I VEHICLE_DEFECT EXCEED_SPEED_LIMIT_I  \\\n",
       "0                  NaN        NaN           NONE                  NaN   \n",
       "1                  NaN        NaN           NONE                  NaN   \n",
       "2                  NaN        NaN           NONE                  NaN   \n",
       "3                  NaN        NaN           NONE                  NaN   \n",
       "4                  NaN        NaN        UNKNOWN                  NaN   \n",
       "...                ...        ...            ...                  ...   \n",
       "794839             1.0        NaN           NONE                  NaN   \n",
       "794840             NaN        NaN        UNKNOWN                  NaN   \n",
       "794841             NaN        NaN        UNKNOWN                  NaN   \n",
       "794842             NaN        NaN        UNKNOWN                  NaN   \n",
       "794843             1.0        NaN           NONE                  NaN   \n",
       "\n",
       "       FIRST_CONTACT_POINT         CITY SEX DRIVERS_LICENSE_CLASS  \\\n",
       "0                    FRONT      CHICAGO   M                   NaN   \n",
       "1               FRONT-LEFT  ORLAND PARK   M                     D   \n",
       "2                    FRONT    ELK GROVE   M                   NaN   \n",
       "3                     REAR   PLAINFIELD   M                     D   \n",
       "4                    FRONT      CHICAGO   M                     D   \n",
       "...                    ...          ...  ..                   ...   \n",
       "794839          SIDE-RIGHT       CICERO   M                     D   \n",
       "794840             UNKNOWN          NaN   X                   NaN   \n",
       "794841             UNKNOWN          NaN   X                   NaN   \n",
       "794842               FRONT          NaN   M                   NaN   \n",
       "794843           SIDE-LEFT    ELK GROVE   F                     D   \n",
       "\n",
       "            SAFETY_EQUIPMENT  POSTED_SPEED_LIMIT TRAFFIC_CONTROL_DEVICE  \\\n",
       "0              USAGE UNKNOWN                  35         TRAFFIC SIGNAL   \n",
       "1           SAFETY BELT USED                  35         TRAFFIC SIGNAL   \n",
       "2           SAFETY BELT USED                  25         TRAFFIC SIGNAL   \n",
       "3           SAFETY BELT USED                  25         TRAFFIC SIGNAL   \n",
       "4              USAGE UNKNOWN                  30            NO CONTROLS   \n",
       "...                      ...                 ...                    ...   \n",
       "794839         USAGE UNKNOWN                  30         TRAFFIC SIGNAL   \n",
       "794840         USAGE UNKNOWN                  30            NO CONTROLS   \n",
       "794841         USAGE UNKNOWN                  30                UNKNOWN   \n",
       "794842         USAGE UNKNOWN                  30            NO CONTROLS   \n",
       "794843  SAFETY BELT NOT USED                  30            NO CONTROLS   \n",
       "\n",
       "            DEVICE_CONDITION WEATHER_CONDITION      LIGHTING_CONDITION  \\\n",
       "0       FUNCTIONING PROPERLY             CLEAR                DAYLIGHT   \n",
       "1       FUNCTIONING PROPERLY             CLEAR                DAYLIGHT   \n",
       "2       FUNCTIONING PROPERLY             CLEAR                DAYLIGHT   \n",
       "3       FUNCTIONING PROPERLY             CLEAR                DAYLIGHT   \n",
       "4                NO CONTROLS             CLEAR                DAYLIGHT   \n",
       "...                      ...               ...                     ...   \n",
       "794839  FUNCTIONING PROPERLY              RAIN  DARKNESS, LIGHTED ROAD   \n",
       "794840           NO CONTROLS           UNKNOWN                 UNKNOWN   \n",
       "794841               UNKNOWN           UNKNOWN                 UNKNOWN   \n",
       "794842           NO CONTROLS             CLEAR  DARKNESS, LIGHTED ROAD   \n",
       "794843           NO CONTROLS             CLEAR  DARKNESS, LIGHTED ROAD   \n",
       "\n",
       "                FIRST_CRASH_TYPE                  TRAFFICWAY_TYPE  \\\n",
       "0                        TURNING                      NOT DIVIDED   \n",
       "1                        TURNING                      NOT DIVIDED   \n",
       "2                       REAR END                          ONE-WAY   \n",
       "3                       REAR END                          ONE-WAY   \n",
       "4                       REAR END  DIVIDED - W/MEDIAN (NOT RAISED)   \n",
       "...                          ...                              ...   \n",
       "794839                     ANGLE  DIVIDED - W/MEDIAN (NOT RAISED)   \n",
       "794840      PARKED MOTOR VEHICLE                      NOT DIVIDED   \n",
       "794841      PARKED MOTOR VEHICLE                          UNKNOWN   \n",
       "794842  SIDESWIPE SAME DIRECTION                          ONE-WAY   \n",
       "794843  SIDESWIPE SAME DIRECTION                          ONE-WAY   \n",
       "\n",
       "                 ALIGNMENT ROADWAY_SURFACE_COND ROAD_DEFECT  \\\n",
       "0       STRAIGHT AND LEVEL                  DRY  NO DEFECTS   \n",
       "1       STRAIGHT AND LEVEL                  DRY  NO DEFECTS   \n",
       "2       STRAIGHT AND LEVEL                  DRY  NO DEFECTS   \n",
       "3       STRAIGHT AND LEVEL                  DRY  NO DEFECTS   \n",
       "4       STRAIGHT AND LEVEL                  DRY  NO DEFECTS   \n",
       "...                    ...                  ...         ...   \n",
       "794839  STRAIGHT AND LEVEL                  WET  NO DEFECTS   \n",
       "794840  STRAIGHT AND LEVEL                  DRY  NO DEFECTS   \n",
       "794841  STRAIGHT AND LEVEL              UNKNOWN     UNKNOWN   \n",
       "794842  STRAIGHT AND LEVEL                  DRY  NO DEFECTS   \n",
       "794843  STRAIGHT AND LEVEL                  DRY  NO DEFECTS   \n",
       "\n",
       "       INTERSECTION_RELATED_I NOT_RIGHT_OF_WAY_I  \\\n",
       "0                           Y                NaN   \n",
       "1                           Y                NaN   \n",
       "2                         NaN                NaN   \n",
       "3                         NaN                NaN   \n",
       "4                         NaN                NaN   \n",
       "...                       ...                ...   \n",
       "794839                      Y                NaN   \n",
       "794840                    NaN                NaN   \n",
       "794841                    NaN                NaN   \n",
       "794842                    NaN                NaN   \n",
       "794843                    NaN                NaN   \n",
       "\n",
       "             PRIM_CONTRIBUTORY_CAUSE WORK_ZONE_TYPE WORKERS_PRESENT_I  \\\n",
       "0                UNABLE TO DETERMINE            NaN               NaN   \n",
       "1                UNABLE TO DETERMINE            NaN               NaN   \n",
       "2              FOLLOWING TOO CLOSELY            NaN               NaN   \n",
       "3              FOLLOWING TOO CLOSELY            NaN               NaN   \n",
       "4                UNABLE TO DETERMINE            NaN               NaN   \n",
       "...                              ...            ...               ...   \n",
       "794839  DISREGARDING TRAFFIC SIGNALS            NaN               NaN   \n",
       "794840           UNABLE TO DETERMINE            NaN               NaN   \n",
       "794841           UNABLE TO DETERMINE            NaN               NaN   \n",
       "794842   IMPROPER OVERTAKING/PASSING            NaN               NaN   \n",
       "794843   IMPROPER OVERTAKING/PASSING            NaN               NaN   \n",
       "\n",
       "        NUM_UNITS  CRASH_HOUR  CRASH_DAY_OF_WEEK  CRASH_MONTH  IS_SEVERE  \n",
       "0               2          12                  3            8          0  \n",
       "1               2          12                  3            8          0  \n",
       "2               2          17                  6            7          0  \n",
       "3               2          17                  6            7          0  \n",
       "4               2          11                  4            9          0  \n",
       "...           ...         ...                ...          ...        ...  \n",
       "794839          2          23                  7           11          1  \n",
       "794840          2          11                  7           11          0  \n",
       "794841          2          18                  7           11          0  \n",
       "794842          2          19                  7           11          0  \n",
       "794843          2          19                  7           11          0  \n",
       "\n",
       "[794844 rows x 29 columns]"
      ]
     },
     "execution_count": 10,
     "metadata": {},
     "output_type": "execute_result"
    }
   ],
   "source": [
    "# merge df_vehicles to df_people from both id's\n",
    "df_half = pd.merge(df_vehicles, df_people, on=['CRASH_RECORD_ID', 'VEHICLE_ID'])\n",
    "\n",
    "#merge df_crashes to df_half on id\n",
    "df_full = pd.merge(df_half, df_crashes, on='CRASH_RECORD_ID')\n",
    "\n",
    "df_full.drop(columns = ['CRASH_RECORD_ID', 'VEHICLE_ID'], axis=1, inplace=True)\n",
    "df_full"
   ]
  },
  {
   "cell_type": "code",
   "execution_count": 11,
   "metadata": {},
   "outputs": [
    {
     "name": "stdout",
     "output_type": "stream",
     "text": [
      "<class 'pandas.core.frame.DataFrame'>\n",
      "Int64Index: 794844 entries, 0 to 794843\n",
      "Data columns (total 29 columns):\n",
      "NUM_PASSENGERS             132106 non-null float64\n",
      "CMRC_VEH_I                 16113 non-null object\n",
      "VEHICLE_DEFECT             793888 non-null object\n",
      "EXCEED_SPEED_LIMIT_I       2334 non-null object\n",
      "FIRST_CONTACT_POINT        789214 non-null object\n",
      "CITY                       613409 non-null object\n",
      "SEX                        794747 non-null object\n",
      "DRIVERS_LICENSE_CLASS      529883 non-null object\n",
      "SAFETY_EQUIPMENT           794844 non-null object\n",
      "POSTED_SPEED_LIMIT         794844 non-null int64\n",
      "TRAFFIC_CONTROL_DEVICE     794844 non-null object\n",
      "DEVICE_CONDITION           794844 non-null object\n",
      "WEATHER_CONDITION          794844 non-null object\n",
      "LIGHTING_CONDITION         794844 non-null object\n",
      "FIRST_CRASH_TYPE           794844 non-null object\n",
      "TRAFFICWAY_TYPE            794844 non-null object\n",
      "ALIGNMENT                  794844 non-null object\n",
      "ROADWAY_SURFACE_COND       794844 non-null object\n",
      "ROAD_DEFECT                794844 non-null object\n",
      "INTERSECTION_RELATED_I     203285 non-null object\n",
      "NOT_RIGHT_OF_WAY_I         28734 non-null object\n",
      "PRIM_CONTRIBUTORY_CAUSE    794844 non-null object\n",
      "WORK_ZONE_TYPE             4121 non-null object\n",
      "WORKERS_PRESENT_I          1217 non-null object\n",
      "NUM_UNITS                  794844 non-null int64\n",
      "CRASH_HOUR                 794844 non-null int64\n",
      "CRASH_DAY_OF_WEEK          794844 non-null int64\n",
      "CRASH_MONTH                794844 non-null int64\n",
      "IS_SEVERE                  794844 non-null int64\n",
      "dtypes: float64(1), int64(6), object(22)\n",
      "memory usage: 181.9+ MB\n"
     ]
    }
   ],
   "source": [
    "df_full.info()"
   ]
  },
  {
   "cell_type": "markdown",
   "metadata": {},
   "source": [
    "> the table above shows that we are missing several values and incorrect data types"
   ]
  },
  {
   "cell_type": "markdown",
   "metadata": {},
   "source": [
    "## Cleaning data"
   ]
  },
  {
   "cell_type": "markdown",
   "metadata": {},
   "source": [
    "In this stage, I am looking into every feature of the dataset to fix any inconsistencies and abnormal data."
   ]
  },
  {
   "cell_type": "markdown",
   "metadata": {},
   "source": [
    "### functions"
   ]
  },
  {
   "cell_type": "code",
   "execution_count": 12,
   "metadata": {},
   "outputs": [],
   "source": [
    "def na_val_count(col):\n",
    "    #prints the sum of nan values and value counts\n",
    "    \n",
    "    print(\".isna().sum() = \", df_full[col].isna().sum())\n",
    "    print(\"value_counts:\")\n",
    "    print(df_full[col].value_counts())"
   ]
  },
  {
   "cell_type": "markdown",
   "metadata": {},
   "source": [
    "> the function above will help streamline the process since I will be 'printing' the missing values and the value counts on every feature"
   ]
  },
  {
   "cell_type": "markdown",
   "metadata": {},
   "source": [
    "### severity"
   ]
  },
  {
   "cell_type": "code",
   "execution_count": 13,
   "metadata": {},
   "outputs": [
    {
     "data": {
      "text/plain": [
       "0    601074\n",
       "1    193770\n",
       "Name: IS_SEVERE, dtype: int64"
      ]
     },
     "execution_count": 13,
     "metadata": {},
     "output_type": "execute_result"
    }
   ],
   "source": [
    "df_full['IS_SEVERE'].value_counts()"
   ]
  },
  {
   "cell_type": "code",
   "execution_count": 14,
   "metadata": {},
   "outputs": [
    {
     "data": {
      "image/png": "[encoded data removed]",
      "text/plain": [
       "<Figure size 432x288 with 1 Axes>"
      ]
     },
     "metadata": {},
     "output_type": "display_data"
    }
   ],
   "source": [
    "ax = sns.countplot(x='IS_SEVERE', data=df_full).set_title('Total Accidents Resulting in Injury')"
   ]
  },
  {
   "cell_type": "code",
   "execution_count": 15,
   "metadata": {},
   "outputs": [
    {
     "name": "stdout",
     "output_type": "stream",
     "text": [
      "24.4 percent of car incidences result in injury\n"
     ]
    }
   ],
   "source": [
    "severe_len = len(df_full[df_full['IS_SEVERE'] == 1])\n",
    "severe_percent = (severe_len / len(df_full)) * 100\n",
    "print(round(severe_percent, 1), 'percent of car incidences result in injury')"
   ]
  },
  {
   "cell_type": "markdown",
   "metadata": {},
   "source": [
    "> this graph shows that 24.4 percent of car accidents resulted in some type of injury to the body.  \n",
    "> This is slightly imbalanced but possibly not a bad thing.  \n",
    "> Will need to mindful of the Recall score "
   ]
  },
  {
   "cell_type": "markdown",
   "metadata": {},
   "source": [
    "### num_passengers"
   ]
  },
  {
   "cell_type": "code",
   "execution_count": 16,
   "metadata": {},
   "outputs": [
    {
     "name": "stdout",
     "output_type": "stream",
     "text": [
      ".isna().sum() =  662738\n",
      "value_counts:\n",
      "1.0     92518\n",
      "2.0     24799\n",
      "3.0      9891\n",
      "4.0      3250\n",
      "5.0       865\n",
      "6.0       330\n",
      "7.0       130\n",
      "8.0        74\n",
      "10.0       45\n",
      "9.0        44\n",
      "12.0       27\n",
      "11.0       24\n",
      "14.0       15\n",
      "13.0       12\n",
      "15.0       11\n",
      "18.0        8\n",
      "19.0        6\n",
      "17.0        5\n",
      "16.0        5\n",
      "28.0        4\n",
      "35.0        4\n",
      "25.0        4\n",
      "20.0        4\n",
      "27.0        4\n",
      "29.0        3\n",
      "38.0        2\n",
      "34.0        2\n",
      "43.0        2\n",
      "24.0        2\n",
      "32.0        2\n",
      "40.0        2\n",
      "21.0        2\n",
      "23.0        2\n",
      "46.0        1\n",
      "42.0        1\n",
      "30.0        1\n",
      "37.0        1\n",
      "36.0        1\n",
      "26.0        1\n",
      "33.0        1\n",
      "59.0        1\n",
      "Name: NUM_PASSENGERS, dtype: int64\n"
     ]
    }
   ],
   "source": [
    "na_val_count('NUM_PASSENGERS')"
   ]
  },
  {
   "cell_type": "code",
   "execution_count": 17,
   "metadata": {},
   "outputs": [
    {
     "name": "stdout",
     "output_type": "stream",
     "text": [
      ".isna().sum() =  0\n",
      "value_counts:\n",
      "0    662738\n",
      "1     92518\n",
      "2     24799\n",
      "3      9891\n",
      "4      3250\n",
      "5       865\n",
      "6       330\n",
      "7       130\n",
      "8        74\n",
      "Name: NUM_PASSENGERS, dtype: int64\n"
     ]
    }
   ],
   "source": [
    "df_full.drop(df_full[df_full['NUM_PASSENGERS'] > 8].index, inplace = True)\n",
    "\n",
    "df_full['NUM_PASSENGERS'].fillna(0, inplace=True)\n",
    "df_full['NUM_PASSENGERS'] = df_full['NUM_PASSENGERS'].astype(int)\n",
    "\n",
    "na_val_count('NUM_PASSENGERS')"
   ]
  },
  {
   "cell_type": "markdown",
   "metadata": {},
   "source": [
    "### cmrc_veh_i"
   ]
  },
  {
   "cell_type": "code",
   "execution_count": 18,
   "metadata": {},
   "outputs": [
    {
     "name": "stdout",
     "output_type": "stream",
     "text": [
      ".isna().sum() =  778555\n",
      "value_counts:\n",
      "Y    10736\n",
      "N     5304\n",
      "Name: CMRC_VEH_I, dtype: int64\n"
     ]
    }
   ],
   "source": [
    "na_val_count('CMRC_VEH_I')"
   ]
  },
  {
   "cell_type": "code",
   "execution_count": 19,
   "metadata": {},
   "outputs": [
    {
     "name": "stdout",
     "output_type": "stream",
     "text": [
      ".isna().sum() =  0\n",
      "value_counts:\n",
      "N    783859\n",
      "Y     10736\n",
      "Name: CMRC_VEH_I, dtype: int64\n"
     ]
    }
   ],
   "source": [
    "df_full['CMRC_VEH_I'].fillna('N', inplace=True)\n",
    "\n",
    "na_val_count('CMRC_VEH_I')"
   ]
  },
  {
   "cell_type": "markdown",
   "metadata": {},
   "source": [
    "### vehicle_defect"
   ]
  },
  {
   "cell_type": "code",
   "execution_count": 20,
   "metadata": {},
   "outputs": [
    {
     "name": "stdout",
     "output_type": "stream",
     "text": [
      ".isna().sum() =  956\n",
      "value_counts:\n",
      "NONE                453306\n",
      "UNKNOWN             331747\n",
      "OTHER                 4041\n",
      "BRAKES                2972\n",
      "TIRES                  425\n",
      "STEERING               399\n",
      "WHEELS                 221\n",
      "SUSPENSION             141\n",
      "ENGINE/MOTOR            99\n",
      "FUEL SYSTEM             91\n",
      "LIGHTS                  64\n",
      "WINDOWS                 50\n",
      "CARGO                   28\n",
      "SIGNALS                 19\n",
      "RESTRAINT SYSTEM        14\n",
      "EXHAUST                 11\n",
      "TRAILER COUPLING        11\n",
      "Name: VEHICLE_DEFECT, dtype: int64\n"
     ]
    }
   ],
   "source": [
    "na_val_count('VEHICLE_DEFECT')"
   ]
  },
  {
   "cell_type": "code",
   "execution_count": 21,
   "metadata": {},
   "outputs": [
    {
     "name": "stdout",
     "output_type": "stream",
     "text": [
      ".isna().sum() =  0\n",
      "value_counts:\n",
      "NO     786009\n",
      "YES      8586\n",
      "Name: VEHICLE_DEFECT, dtype: int64\n"
     ]
    }
   ],
   "source": [
    "df_full['VEHICLE_DEFECT'].fillna('NO', inplace=True)\n",
    "\n",
    "df_full.loc[(df_full['VEHICLE_DEFECT'] == 'NONE') | \n",
    "       (df_full['VEHICLE_DEFECT'] == 'UNKNOWN'), \n",
    "       'VEHICLE_DEFECT'] = 'NO'\n",
    "\n",
    "df_full.loc[(df_full['VEHICLE_DEFECT'] != 'NO'), \n",
    "       'VEHICLE_DEFECT'] = 'YES'\n",
    "\n",
    "na_val_count('VEHICLE_DEFECT')"
   ]
  },
  {
   "cell_type": "markdown",
   "metadata": {},
   "source": [
    "### exceed_speed_limit_i"
   ]
  },
  {
   "cell_type": "code",
   "execution_count": 22,
   "metadata": {},
   "outputs": [
    {
     "name": "stdout",
     "output_type": "stream",
     "text": [
      ".isna().sum() =  792263\n",
      "value_counts:\n",
      "Y    1771\n",
      "N     561\n",
      "Name: EXCEED_SPEED_LIMIT_I, dtype: int64\n"
     ]
    }
   ],
   "source": [
    "na_val_count('EXCEED_SPEED_LIMIT_I')"
   ]
  },
  {
   "cell_type": "code",
   "execution_count": 23,
   "metadata": {},
   "outputs": [
    {
     "name": "stdout",
     "output_type": "stream",
     "text": [
      ".isna().sum() =  0\n",
      "value_counts:\n",
      "N    792824\n",
      "Y      1771\n",
      "Name: EXCEED_SPEED_LIMIT_I, dtype: int64\n"
     ]
    }
   ],
   "source": [
    "df_full['EXCEED_SPEED_LIMIT_I'].fillna('N', inplace=True)\n",
    "\n",
    "na_val_count('EXCEED_SPEED_LIMIT_I')"
   ]
  },
  {
   "cell_type": "markdown",
   "metadata": {},
   "source": [
    "### first_contact_point"
   ]
  },
  {
   "cell_type": "code",
   "execution_count": 24,
   "metadata": {},
   "outputs": [
    {
     "name": "stdout",
     "output_type": "stream",
     "text": [
      ".isna().sum() =  5627\n",
      "value_counts:\n",
      "FRONT                146139\n",
      "REAR                  88242\n",
      "UNKNOWN               79999\n",
      "FRONT-RIGHT           74418\n",
      "REAR-LEFT             70693\n",
      "FRONT-LEFT            70490\n",
      "OTHER                 68460\n",
      "SIDE-RIGHT            52388\n",
      "SIDE-LEFT             38901\n",
      "TOTAL (ALL AREAS)     35600\n",
      "REAR-RIGHT            33153\n",
      "ROOF                  16324\n",
      "NONE                   8192\n",
      "UNDER CARRIAGE         5969\n",
      "Name: FIRST_CONTACT_POINT, dtype: int64\n"
     ]
    }
   ],
   "source": [
    "na_val_count('FIRST_CONTACT_POINT')"
   ]
  },
  {
   "cell_type": "code",
   "execution_count": 25,
   "metadata": {},
   "outputs": [
    {
     "name": "stdout",
     "output_type": "stream",
     "text": [
      ".isna().sum() =  0\n",
      "value_counts:\n",
      "FRONT                146139\n",
      "REAR                  88242\n",
      "UNKNOWN               79999\n",
      "FRONT-RIGHT           74418\n",
      "REAR-LEFT             70693\n",
      "FRONT-LEFT            70490\n",
      "OTHER                 68460\n",
      "SIDE-RIGHT            52388\n",
      "SIDE-LEFT             38901\n",
      "TOTAL (ALL AREAS)     35600\n",
      "REAR-RIGHT            33153\n",
      "ROOF                  16324\n",
      "NONE                  13819\n",
      "UNDER CARRIAGE         5969\n",
      "Name: FIRST_CONTACT_POINT, dtype: int64\n"
     ]
    }
   ],
   "source": [
    "df_full['FIRST_CONTACT_POINT'].fillna('NONE', inplace=True)\n",
    "\n",
    "na_val_count('FIRST_CONTACT_POINT')"
   ]
  },
  {
   "cell_type": "markdown",
   "metadata": {},
   "source": [
    "### city"
   ]
  },
  {
   "cell_type": "code",
   "execution_count": 26,
   "metadata": {
    "scrolled": true
   },
   "outputs": [
    {
     "name": "stdout",
     "output_type": "stream",
     "text": [
      ".isna().sum() =  181432\n",
      "value_counts:\n",
      "CHICAGO            424869\n",
      "CICERO               6084\n",
      "SKOKIE               4516\n",
      "EVANSTON             3674\n",
      "BERWYN               3668\n",
      "                    ...  \n",
      "HOLLY SPGS              1\n",
      "UPPER KENOSHA           1\n",
      "MOUNT SOLON             1\n",
      "MARTINTON               1\n",
      "CLARKSON VALLEY         1\n",
      "Name: CITY, Length: 8637, dtype: int64\n"
     ]
    }
   ],
   "source": [
    "na_val_count('CITY')"
   ]
  },
  {
   "cell_type": "code",
   "execution_count": 27,
   "metadata": {},
   "outputs": [
    {
     "name": "stdout",
     "output_type": "stream",
     "text": [
      ".isna().sum() =  0\n",
      "value_counts:\n",
      "CHICAGO        606301\n",
      "Out of Town    188294\n",
      "Name: CITY, dtype: int64\n"
     ]
    }
   ],
   "source": [
    "df_full['CITY'].fillna('CHICAGO', inplace=True)\n",
    "\n",
    "df_full.loc[(df_full['CITY'] != 'CHICAGO'),\n",
    "            'CITY'] = 'Out of Town'\n",
    "\n",
    "na_val_count('CITY')"
   ]
  },
  {
   "cell_type": "code",
   "execution_count": 28,
   "metadata": {
    "scrolled": false
   },
   "outputs": [
    {
     "data": {
      "image/png": "[encoded data removed]",
      "text/plain": [
       "<Figure size 648x432 with 1 Axes>"
      ]
     },
     "metadata": {},
     "output_type": "display_data"
    }
   ],
   "source": [
    "fig, ax = plt.subplots(nrows=1, ncols=1, figsize=(9,6))\n",
    "sns.countplot(x='CITY', data=df_full).set_title('Total car accidents');\n",
    "\n",
    "total = float(len(df_full))\n",
    "for p in ax.patches:\n",
    "    height = p.get_height()\n",
    "    ax.text(p.get_x()+p.get_width()/2.,\n",
    "            height + 3,\n",
    "            '{:1.3f}'.format(height/total),\n",
    "            ha=\"center\") "
   ]
  },
  {
   "cell_type": "markdown",
   "metadata": {},
   "source": [
    "> The graph above shows the 23.7 percent of all wrecks are caused by out of town drivers.  \n",
    "> Chicago is a huge tourist town and it is possible that the out-of-town drivers are from the suburbs of Chicago."
   ]
  },
  {
   "cell_type": "code",
   "execution_count": 29,
   "metadata": {},
   "outputs": [],
   "source": [
    "df = df_full[['CITY','IS_SEVERE']]\n",
    "\n",
    "df_city_severe = df[df['IS_SEVERE'] == 1]\n",
    "df_city_non = df[df['IS_SEVERE'] == 0]"
   ]
  },
  {
   "cell_type": "code",
   "execution_count": 30,
   "metadata": {
    "scrolled": false
   },
   "outputs": [
    {
     "data": {
      "image/png": "[encoded data removed]",
      "text/plain": [
       "<Figure size 864x432 with 2 Axes>"
      ]
     },
     "metadata": {},
     "output_type": "display_data"
    }
   ],
   "source": [
    "fig, ax = plt.subplots(nrows=1, ncols=2, figsize=(12,6))\n",
    "\n",
    "sns.countplot(x='CITY', data=df_city_severe, ax=ax[0]).set_title('Severe car accidents');\n",
    "sns.countplot(x='CITY', data=df_city_non, ax=ax[1]).set_title('non severe car accidents');"
   ]
  },
  {
   "cell_type": "code",
   "execution_count": 31,
   "metadata": {},
   "outputs": [
    {
     "name": "stdout",
     "output_type": "stream",
     "text": [
      "24.5 percent of severe car incidences are caused by out-of-town Drivers\n"
     ]
    }
   ],
   "source": [
    "out_count_severe = len(df_city_severe[df_city_severe['CITY'] == 'Out of Town'])\n",
    "out_percent_severe = (out_count_severe / len(df_city_severe)) * 100\n",
    "print(round(out_percent_severe, 1), 'percent of severe car incidences are caused by out-of-town Drivers')"
   ]
  },
  {
   "cell_type": "code",
   "execution_count": 32,
   "metadata": {},
   "outputs": [
    {
     "name": "stdout",
     "output_type": "stream",
     "text": [
      "23.4 percent of non-severe car incidences are caused by out-of-town Drivers\n"
     ]
    }
   ],
   "source": [
    "out_count_non = len(df_city_non[df_city_non['CITY'] == 'Out of Town'])\n",
    "out_percent_non =(out_count_non / len(df_city_non)) * 100\n",
    "\n",
    "print(round(out_percent_non, 1), 'percent of non-severe car incidences are caused by out-of-town Drivers')"
   ]
  },
  {
   "cell_type": "markdown",
   "metadata": {},
   "source": [
    "> out of town drivers are accountable for roughly 24.5% of the recorded car accidents  \n",
    "> out of town drivers are accountable for roughly 23.4% of the non severe and severe car accidents alike"
   ]
  },
  {
   "cell_type": "markdown",
   "metadata": {},
   "source": [
    "### sex"
   ]
  },
  {
   "cell_type": "code",
   "execution_count": 33,
   "metadata": {},
   "outputs": [
    {
     "name": "stdout",
     "output_type": "stream",
     "text": [
      ".isna().sum() =  97\n",
      "value_counts:\n",
      "M    435011\n",
      "F    280855\n",
      "X     78632\n",
      "Name: SEX, dtype: int64\n"
     ]
    }
   ],
   "source": [
    "na_val_count(\"SEX\")"
   ]
  },
  {
   "cell_type": "code",
   "execution_count": 34,
   "metadata": {},
   "outputs": [
    {
     "name": "stdout",
     "output_type": "stream",
     "text": [
      ".isna().sum() =  0\n",
      "value_counts:\n",
      "M    435011\n",
      "F    280855\n",
      "X     78729\n",
      "Name: SEX, dtype: int64\n"
     ]
    }
   ],
   "source": [
    "df_full['SEX'].fillna('X', inplace = True)\n",
    "na_val_count(\"SEX\")"
   ]
  },
  {
   "cell_type": "markdown",
   "metadata": {},
   "source": [
    "### drivers_license_class"
   ]
  },
  {
   "cell_type": "code",
   "execution_count": 35,
   "metadata": {},
   "outputs": [
    {
     "name": "stdout",
     "output_type": "stream",
     "text": [
      ".isna().sum() =  264931\n",
      "value_counts:\n",
      "D     461695\n",
      "A      17770\n",
      "C      14545\n",
      "B      13965\n",
      "DM      8743\n",
      "       ...  \n",
      "IF         1\n",
      "TR         1\n",
      "HH         1\n",
      "CJ         1\n",
      "A1         1\n",
      "Name: DRIVERS_LICENSE_CLASS, Length: 230, dtype: int64\n"
     ]
    }
   ],
   "source": [
    "na_val_count('DRIVERS_LICENSE_CLASS')"
   ]
  },
  {
   "cell_type": "code",
   "execution_count": 36,
   "metadata": {},
   "outputs": [
    {
     "name": "stdout",
     "output_type": "stream",
     "text": [
      ".isna().sum() =  0\n",
      "value_counts:\n",
      "D        726626\n",
      "Other     67969\n",
      "Name: DRIVERS_LICENSE_CLASS, dtype: int64\n"
     ]
    }
   ],
   "source": [
    "df_full['DRIVERS_LICENSE_CLASS'].fillna('D', inplace=True)\n",
    "\n",
    "df_full.loc[(df_full['DRIVERS_LICENSE_CLASS'] != 'D'), \n",
    "            'DRIVERS_LICENSE_CLASS'] = \"Other\"\n",
    "\n",
    "na_val_count('DRIVERS_LICENSE_CLASS')"
   ]
  },
  {
   "cell_type": "markdown",
   "metadata": {},
   "source": [
    "### safety_equipment"
   ]
  },
  {
   "cell_type": "code",
   "execution_count": 37,
   "metadata": {
    "scrolled": true
   },
   "outputs": [
    {
     "name": "stdout",
     "output_type": "stream",
     "text": [
      ".isna().sum() =  0\n",
      "value_counts:\n",
      "SAFETY BELT USED                       406390\n",
      "USAGE UNKNOWN                          367928\n",
      "NONE PRESENT                            15068\n",
      "SAFETY BELT NOT USED                     3343\n",
      "HELMET NOT USED                           855\n",
      "HELMET USED                               452\n",
      "DOT COMPLIANT MOTORCYCLE HELMET           420\n",
      "NOT DOT COMPLIANT MOTORCYCLE HELMET        77\n",
      "SHOULD/LAP BELT USED IMPROPERLY            59\n",
      "WHEELCHAIR                                  2\n",
      "CHILD RESTRAINT USED                        1\n",
      "Name: SAFETY_EQUIPMENT, dtype: int64\n"
     ]
    }
   ],
   "source": [
    "na_val_count('SAFETY_EQUIPMENT')"
   ]
  },
  {
   "cell_type": "code",
   "execution_count": 38,
   "metadata": {},
   "outputs": [
    {
     "name": "stdout",
     "output_type": "stream",
     "text": [
      ".isna().sum() =  0\n",
      "value_counts:\n",
      "SAFETY BELT/HELMENT USED    407262\n",
      "USAGE UNKNOWN               367931\n",
      "NONE PRESENT                 19402\n",
      "Name: SAFETY_EQUIPMENT, dtype: int64\n"
     ]
    }
   ],
   "source": [
    "df_full.loc[(df_full['SAFETY_EQUIPMENT'] == 'SAFETY BELT USED') |\n",
    "           (df_full['SAFETY_EQUIPMENT'] == 'HELMET USED') |\n",
    "           (df_full['SAFETY_EQUIPMENT'] == 'DOT COMPLIANT MOTORCYCLE HELMET'),\n",
    "           'SAFETY_EQUIPMENT'] = 'SAFETY BELT/HELMENT USED'\n",
    "\n",
    "df_full.loc[(df_full['SAFETY_EQUIPMENT'] == 'SAFETY BELT NOT USED') |\n",
    "           (df_full['SAFETY_EQUIPMENT'] == 'HELMET NOT USED') |\n",
    "           (df_full['SAFETY_EQUIPMENT'] == 'SHOULD/LAP BELT USED IMPROPERLY') |\n",
    "           (df_full['SAFETY_EQUIPMENT'] == 'NOT DOT COMPLIANT MOTORCYCLE HELMET'),\n",
    "           'SAFETY_EQUIPMENT'] = 'NONE PRESENT'\n",
    "\n",
    "df_full.loc[(df_full['SAFETY_EQUIPMENT'] == 'CHILD RESTRAINT USED') |\n",
    "           (df_full['SAFETY_EQUIPMENT'] == 'WHEELCHAIR'),\n",
    "           'SAFETY_EQUIPMENT'] = 'USAGE UNKNOWN'\n",
    "\n",
    "na_val_count('SAFETY_EQUIPMENT')"
   ]
  },
  {
   "cell_type": "markdown",
   "metadata": {},
   "source": [
    "### posted_speed_limit"
   ]
  },
  {
   "cell_type": "code",
   "execution_count": 39,
   "metadata": {},
   "outputs": [
    {
     "name": "stdout",
     "output_type": "stream",
     "text": [
      ".isna().sum() =  0\n",
      "value_counts:\n",
      "30    600575\n",
      "35     58474\n",
      "25     43872\n",
      "20     25725\n",
      "15     22133\n",
      "10     13079\n",
      "0      10388\n",
      "40      8265\n",
      "45      5339\n",
      "5       4903\n",
      "55       810\n",
      "3        195\n",
      "50       182\n",
      "9        157\n",
      "99       118\n",
      "39        94\n",
      "1         51\n",
      "60        46\n",
      "2         28\n",
      "32        24\n",
      "24        22\n",
      "65        21\n",
      "33        19\n",
      "34        11\n",
      "6         10\n",
      "36         9\n",
      "11         9\n",
      "14         4\n",
      "31         4\n",
      "26         4\n",
      "18         3\n",
      "12         3\n",
      "7          3\n",
      "70         3\n",
      "38         2\n",
      "22         2\n",
      "23         2\n",
      "63         2\n",
      "29         2\n",
      "49         1\n",
      "4          1\n",
      "Name: POSTED_SPEED_LIMIT, dtype: int64\n"
     ]
    }
   ],
   "source": [
    "na_val_count('POSTED_SPEED_LIMIT')"
   ]
  },
  {
   "cell_type": "code",
   "execution_count": 40,
   "metadata": {},
   "outputs": [
    {
     "name": "stdout",
     "output_type": "stream",
     "text": [
      ".isna().sum() =  0\n",
      "value_counts:\n",
      "30 mph or lower              721171\n",
      "between 31 mph and 49 mph     72242\n",
      "50 mph or greater              1182\n",
      "Name: POSTED_SPEED_LIMIT, dtype: int64\n"
     ]
    }
   ],
   "source": [
    "df_full['POSTED_SPEED_LIMIT'] = df_full['POSTED_SPEED_LIMIT'].apply(\n",
    "    lambda x: '30 mph or lower' if x<31 else (\n",
    "        '50 mph or greater' if x>49 else 'between 31 mph and 49 mph'))\n",
    "\n",
    "na_val_count('POSTED_SPEED_LIMIT')"
   ]
  },
  {
   "cell_type": "markdown",
   "metadata": {},
   "source": [
    "### traffic_control_device"
   ]
  },
  {
   "cell_type": "code",
   "execution_count": 41,
   "metadata": {},
   "outputs": [
    {
     "name": "stdout",
     "output_type": "stream",
     "text": [
      ".isna().sum() =  0\n",
      "value_counts:\n",
      "NO CONTROLS                 416827\n",
      "TRAFFIC SIGNAL              255255\n",
      "STOP SIGN/FLASHER            86312\n",
      "UNKNOWN                      24593\n",
      "OTHER                         4628\n",
      "LANE USE MARKING              2177\n",
      "YIELD                         1237\n",
      "OTHER REG. SIGN                698\n",
      "OTHER WARNING SIGN             629\n",
      "RAILROAD CROSSING GATE         572\n",
      "POLICE/FLAGMAN                 326\n",
      "PEDESTRIAN CROSSING SIGN       296\n",
      "SCHOOL ZONE                    251\n",
      "DELINEATORS                    238\n",
      "FLASHING CONTROL SIGNAL        229\n",
      "OTHER RAILROAD CROSSING        201\n",
      "RR CROSSING SIGN                63\n",
      "NO PASSING                      42\n",
      "BICYCLE CROSSING SIGN           21\n",
      "Name: TRAFFIC_CONTROL_DEVICE, dtype: int64\n"
     ]
    }
   ],
   "source": [
    "na_val_count('TRAFFIC_CONTROL_DEVICE')"
   ]
  },
  {
   "cell_type": "code",
   "execution_count": 42,
   "metadata": {},
   "outputs": [
    {
     "name": "stdout",
     "output_type": "stream",
     "text": [
      ".isna().sum() =  0\n",
      "value_counts:\n",
      "NO CONTROLS          441420\n",
      "TRAFFIC SIGNAL       255255\n",
      "STOP SIGN/FLASHER     86312\n",
      "OTHER                 11608\n",
      "Name: TRAFFIC_CONTROL_DEVICE, dtype: int64\n"
     ]
    }
   ],
   "source": [
    "df_full.loc[(df_full['TRAFFIC_CONTROL_DEVICE'] == 'UNKNOWN'),\n",
    "           'TRAFFIC_CONTROL_DEVICE'] = 'NO CONTROLS'\n",
    "\n",
    "df_full.loc[(df_full['TRAFFIC_CONTROL_DEVICE'] != 'NO CONTROLS') &\n",
    "            (df_full['TRAFFIC_CONTROL_DEVICE'] != 'TRAFFIC SIGNAL') &\n",
    "            (df_full['TRAFFIC_CONTROL_DEVICE'] != 'STOP SIGN/FLASHER'),\n",
    "           'TRAFFIC_CONTROL_DEVICE'] = 'OTHER'\n",
    "\n",
    "na_val_count('TRAFFIC_CONTROL_DEVICE')"
   ]
  },
  {
   "cell_type": "markdown",
   "metadata": {},
   "source": [
    "### device_condition"
   ]
  },
  {
   "cell_type": "code",
   "execution_count": 43,
   "metadata": {},
   "outputs": [
    {
     "name": "stdout",
     "output_type": "stream",
     "text": [
      ".isna().sum() =  0\n",
      "value_counts:\n",
      "NO CONTROLS                 423595\n",
      "FUNCTIONING PROPERLY        313445\n",
      "UNKNOWN                      43394\n",
      "OTHER                         6115\n",
      "FUNCTIONING IMPROPERLY        4829\n",
      "NOT FUNCTIONING               2740\n",
      "WORN REFLECTIVE MATERIAL       372\n",
      "MISSING                        105\n",
      "Name: DEVICE_CONDITION, dtype: int64\n"
     ]
    }
   ],
   "source": [
    "na_val_count('DEVICE_CONDITION')"
   ]
  },
  {
   "cell_type": "code",
   "execution_count": 44,
   "metadata": {},
   "outputs": [
    {
     "name": "stdout",
     "output_type": "stream",
     "text": [
      ".isna().sum() =  0\n",
      "value_counts:\n",
      "NO CONTROLS               466989\n",
      "FUNCTIONING PROPERLY      313445\n",
      "FUNCTIONING IMPROPERLY      8046\n",
      "OTHER                       6115\n",
      "Name: DEVICE_CONDITION, dtype: int64\n"
     ]
    }
   ],
   "source": [
    "df_full.loc[(df_full['DEVICE_CONDITION'] == 'UNKNOWN'),\n",
    "           'DEVICE_CONDITION'] = 'NO CONTROLS'\n",
    "\n",
    "df_full.loc[(df_full['DEVICE_CONDITION'] == 'NOT FUNCTIONING') |\n",
    "            (df_full['DEVICE_CONDITION'] == 'WORN REFLECTIVE MATERIAL') |\n",
    "            (df_full['DEVICE_CONDITION'] == 'MISSING'),\n",
    "           'DEVICE_CONDITION'] = 'FUNCTIONING IMPROPERLY'\n",
    "\n",
    "na_val_count('DEVICE_CONDITION')"
   ]
  },
  {
   "cell_type": "markdown",
   "metadata": {},
   "source": [
    "### weather_condition"
   ]
  },
  {
   "cell_type": "code",
   "execution_count": 45,
   "metadata": {},
   "outputs": [
    {
     "name": "stdout",
     "output_type": "stream",
     "text": [
      ".isna().sum() =  0\n",
      "value_counts:\n",
      "CLEAR                       634422\n",
      "RAIN                         75100\n",
      "UNKNOWN                      28363\n",
      "SNOW                         26519\n",
      "CLOUDY/OVERCAST              24319\n",
      "OTHER                         2343\n",
      "FOG/SMOKE/HAZE                1359\n",
      "SLEET/HAIL                    1127\n",
      "FREEZING RAIN/DRIZZLE          803\n",
      "SEVERE CROSS WIND GATE         125\n",
      "BLOWING SNOW                   111\n",
      "BLOWING SAND, SOIL, DIRT         4\n",
      "Name: WEATHER_CONDITION, dtype: int64\n"
     ]
    }
   ],
   "source": [
    "na_val_count('WEATHER_CONDITION')"
   ]
  },
  {
   "cell_type": "markdown",
   "metadata": {},
   "source": [
    "### lighting_condition"
   ]
  },
  {
   "cell_type": "code",
   "execution_count": 46,
   "metadata": {},
   "outputs": [
    {
     "name": "stdout",
     "output_type": "stream",
     "text": [
      ".isna().sum() =  0\n",
      "value_counts:\n",
      "DAYLIGHT                  532347\n",
      "DARKNESS, LIGHTED ROAD    163614\n",
      "DARKNESS                   37864\n",
      "DUSK                       25103\n",
      "UNKNOWN                    22047\n",
      "DAWN                       13620\n",
      "Name: LIGHTING_CONDITION, dtype: int64\n"
     ]
    }
   ],
   "source": [
    "na_val_count('LIGHTING_CONDITION')"
   ]
  },
  {
   "cell_type": "markdown",
   "metadata": {},
   "source": [
    "### first_crash_type"
   ]
  },
  {
   "cell_type": "code",
   "execution_count": 47,
   "metadata": {},
   "outputs": [
    {
     "name": "stdout",
     "output_type": "stream",
     "text": [
      ".isna().sum() =  0\n",
      "value_counts:\n",
      "REAR END                        234524\n",
      "SIDESWIPE SAME DIRECTION        146197\n",
      "TURNING                         131783\n",
      "PARKED MOTOR VEHICLE            105799\n",
      "ANGLE                            99709\n",
      "FIXED OBJECT                     21217\n",
      "SIDESWIPE OPPOSITE DIRECTION     13933\n",
      "PEDESTRIAN                       11008\n",
      "HEAD ON                           8143\n",
      "PEDALCYCLIST                      6457\n",
      "REAR TO FRONT                     4953\n",
      "OTHER OBJECT                      4488\n",
      "REAR TO SIDE                      3065\n",
      "OTHER NONCOLLISION                1566\n",
      "REAR TO REAR                      1122\n",
      "ANIMAL                             322\n",
      "OVERTURNED                         272\n",
      "TRAIN                               37\n",
      "Name: FIRST_CRASH_TYPE, dtype: int64\n"
     ]
    }
   ],
   "source": [
    "na_val_count('FIRST_CRASH_TYPE')"
   ]
  },
  {
   "cell_type": "markdown",
   "metadata": {},
   "source": [
    "### trafficway_type"
   ]
  },
  {
   "cell_type": "code",
   "execution_count": 48,
   "metadata": {},
   "outputs": [
    {
     "name": "stdout",
     "output_type": "stream",
     "text": [
      ".isna().sum() =  0\n",
      "value_counts:\n",
      "NOT DIVIDED                        365647\n",
      "DIVIDED - W/MEDIAN (NOT RAISED)    152974\n",
      "ONE-WAY                             89614\n",
      "DIVIDED - W/MEDIAN BARRIER          51750\n",
      "PARKING LOT                         45326\n",
      "FOUR WAY                            26575\n",
      "OTHER                               21956\n",
      "ALLEY                               10284\n",
      "UNKNOWN                              8405\n",
      "CENTER TURN LANE                     7777\n",
      "T-INTERSECTION                       5478\n",
      "RAMP                                 2633\n",
      "DRIVEWAY                             2279\n",
      "UNKNOWN INTERSECTION TYPE            1648\n",
      "FIVE POINT, OR MORE                   679\n",
      "Y-INTERSECTION                        669\n",
      "TRAFFIC ROUTE                         501\n",
      "NOT REPORTED                          198\n",
      "ROUNDABOUT                            120\n",
      "L-INTERSECTION                         82\n",
      "Name: TRAFFICWAY_TYPE, dtype: int64\n"
     ]
    }
   ],
   "source": [
    "na_val_count('TRAFFICWAY_TYPE')"
   ]
  },
  {
   "cell_type": "markdown",
   "metadata": {},
   "source": [
    "### alignment"
   ]
  },
  {
   "cell_type": "code",
   "execution_count": 49,
   "metadata": {},
   "outputs": [
    {
     "name": "stdout",
     "output_type": "stream",
     "text": [
      ".isna().sum() =  0\n",
      "value_counts:\n",
      "STRAIGHT AND LEVEL       774903\n",
      "STRAIGHT ON GRADE          9795\n",
      "CURVE, LEVEL               5801\n",
      "STRAIGHT ON HILLCREST      2563\n",
      "CURVE ON GRADE             1166\n",
      "CURVE ON HILLCREST          367\n",
      "Name: ALIGNMENT, dtype: int64\n"
     ]
    }
   ],
   "source": [
    "na_val_count('ALIGNMENT')"
   ]
  },
  {
   "cell_type": "markdown",
   "metadata": {},
   "source": [
    "### roadway_surface_cond"
   ]
  },
  {
   "cell_type": "code",
   "execution_count": 50,
   "metadata": {},
   "outputs": [
    {
     "name": "stdout",
     "output_type": "stream",
     "text": [
      ".isna().sum() =  0\n",
      "value_counts:\n",
      "DRY                602351\n",
      "WET                113125\n",
      "UNKNOWN             46751\n",
      "SNOW OR SLUSH       24728\n",
      "ICE                  5726\n",
      "OTHER                1642\n",
      "SAND, MUD, DIRT       272\n",
      "Name: ROADWAY_SURFACE_COND, dtype: int64\n"
     ]
    }
   ],
   "source": [
    "na_val_count('ROADWAY_SURFACE_COND')"
   ]
  },
  {
   "cell_type": "markdown",
   "metadata": {},
   "source": [
    "### road_defect"
   ]
  },
  {
   "cell_type": "code",
   "execution_count": 51,
   "metadata": {},
   "outputs": [
    {
     "name": "stdout",
     "output_type": "stream",
     "text": [
      ".isna().sum() =  0\n",
      "value_counts:\n",
      "NO DEFECTS           665823\n",
      "UNKNOWN              113703\n",
      "RUT, HOLES             5501\n",
      "OTHER                  4207\n",
      "WORN SURFACE           3062\n",
      "SHOULDER DEFECT        1687\n",
      "DEBRIS ON ROADWAY       612\n",
      "Name: ROAD_DEFECT, dtype: int64\n"
     ]
    }
   ],
   "source": [
    "na_val_count('ROAD_DEFECT')"
   ]
  },
  {
   "cell_type": "markdown",
   "metadata": {},
   "source": [
    "### intersection_related_i"
   ]
  },
  {
   "cell_type": "code",
   "execution_count": 52,
   "metadata": {},
   "outputs": [
    {
     "name": "stdout",
     "output_type": "stream",
     "text": [
      ".isna().sum() =  591403\n",
      "value_counts:\n",
      "Y    194001\n",
      "N      9191\n",
      "Name: INTERSECTION_RELATED_I, dtype: int64\n"
     ]
    }
   ],
   "source": [
    "na_val_count('INTERSECTION_RELATED_I')"
   ]
  },
  {
   "cell_type": "code",
   "execution_count": 53,
   "metadata": {},
   "outputs": [
    {
     "name": "stdout",
     "output_type": "stream",
     "text": [
      ".isna().sum() =  0\n",
      "value_counts:\n",
      "N    600594\n",
      "Y    194001\n",
      "Name: INTERSECTION_RELATED_I, dtype: int64\n"
     ]
    }
   ],
   "source": [
    "df_full.fillna('N', inplace = True)\n",
    "\n",
    "na_val_count('INTERSECTION_RELATED_I')"
   ]
  },
  {
   "cell_type": "code",
   "execution_count": 54,
   "metadata": {
    "scrolled": true
   },
   "outputs": [
    {
     "data": {
      "image/png": "[encoded data removed]",
      "text/plain": [
       "<Figure size 432x288 with 1 Axes>"
      ]
     },
     "metadata": {},
     "output_type": "display_data"
    }
   ],
   "source": [
    "ax = sns.countplot(x='INTERSECTION_RELATED_I', data=df_full)\n",
    "total = float(len(df_full))\n",
    "for p in ax.patches:\n",
    "    height = p.get_height()\n",
    "    ax.text(p.get_x()+p.get_width()/2.,\n",
    "            height + 3,\n",
    "            '{:1.3f}'.format(height/total),\n",
    "            ha=\"center\") "
   ]
  },
  {
   "cell_type": "markdown",
   "metadata": {},
   "source": [
    "> 24.4 car accidents were intersection related."
   ]
  },
  {
   "cell_type": "code",
   "execution_count": 55,
   "metadata": {
    "scrolled": true
   },
   "outputs": [
    {
     "data": {
      "image/png": "[encoded data removed]",
      "text/plain": [
       "<Figure size 432x288 with 1 Axes>"
      ]
     },
     "metadata": {},
     "output_type": "display_data"
    }
   ],
   "source": [
    "# graph based off how many intersection related crash were severe\n",
    "df = df_full[['INTERSECTION_RELATED_I','IS_SEVERE']]\n",
    "df = df[df['INTERSECTION_RELATED_I'] == 'Y']\n",
    "\n",
    "ax = df.groupby(['IS_SEVERE']).count().plot(kind='bar')\n",
    "ax.set_ylabel('Total wrecks')\n",
    "ax.set_title('Intersection wrecks that resulted in injury')\n",
    "plt.show()"
   ]
  },
  {
   "cell_type": "code",
   "execution_count": 56,
   "metadata": {},
   "outputs": [
    {
     "name": "stdout",
     "output_type": "stream",
     "text": [
      "40.5 percent of intersection related crashes resulted in injury.\n"
     ]
    }
   ],
   "source": [
    "inter_severe_len = len(df[df['IS_SEVERE'] == 1])\n",
    "\n",
    "inter_severe_rate = (inter_severe_len / len(df)) * 100\n",
    "\n",
    "print(round(inter_severe_rate,1), 'percent of intersection related crashes resulted in injury.')"
   ]
  },
  {
   "cell_type": "markdown",
   "metadata": {},
   "source": [
    "> 40.5 percent of intersection crashes results in an injury"
   ]
  },
  {
   "cell_type": "markdown",
   "metadata": {},
   "source": [
    "### not_right_of_way_i"
   ]
  },
  {
   "cell_type": "code",
   "execution_count": 57,
   "metadata": {},
   "outputs": [
    {
     "name": "stdout",
     "output_type": "stream",
     "text": [
      ".isna().sum() =  0\n",
      "value_counts:\n",
      "N    768411\n",
      "Y     26184\n",
      "Name: NOT_RIGHT_OF_WAY_I, dtype: int64\n"
     ]
    }
   ],
   "source": [
    "na_val_count('NOT_RIGHT_OF_WAY_I')"
   ]
  },
  {
   "cell_type": "markdown",
   "metadata": {},
   "source": [
    "### prim_contributory_cause"
   ]
  },
  {
   "cell_type": "code",
   "execution_count": 58,
   "metadata": {},
   "outputs": [
    {
     "name": "stdout",
     "output_type": "stream",
     "text": [
      ".isna().sum() =  0\n",
      "value_counts:\n",
      "UNABLE TO DETERMINE                                                                 268099\n",
      "FOLLOWING TOO CLOSELY                                                               102451\n",
      "FAILING TO YIELD RIGHT-OF-WAY                                                        97778\n",
      "IMPROPER OVERTAKING/PASSING                                                          41598\n",
      "NOT APPLICABLE                                                                       37253\n",
      "FAILING TO REDUCE SPEED TO AVOID CRASH                                               37223\n",
      "IMPROPER LANE USAGE                                                                  33391\n",
      "IMPROPER BACKING                                                                     31725\n",
      "IMPROPER TURNING/NO SIGNAL                                                           29227\n",
      "DRIVING SKILLS/KNOWLEDGE/EXPERIENCE                                                  22004\n",
      "DISREGARDING TRAFFIC SIGNALS                                                         16971\n",
      "WEATHER                                                                              11777\n",
      "DISREGARDING STOP SIGN                                                               10014\n",
      "OPERATING VEHICLE IN ERRATIC, RECKLESS, CARELESS, NEGLIGENT OR AGGRESSIVE MANNER      8750\n",
      "DISTRACTION - FROM INSIDE VEHICLE                                                     5804\n",
      "VISION OBSCURED (SIGNS, TREE LIMBS, BUILDINGS, ETC.)                                  4373\n",
      "EQUIPMENT - VEHICLE CONDITION                                                         4183\n",
      "PHYSICAL CONDITION OF DRIVER                                                          3866\n",
      "DRIVING ON WRONG SIDE/WRONG WAY                                                       3718\n",
      "UNDER THE INFLUENCE OF ALCOHOL/DRUGS (USE WHEN ARREST IS EFFECTED)                    3596\n",
      "EXCEEDING AUTHORIZED SPEED LIMIT                                                      3209\n",
      "DISTRACTION - FROM OUTSIDE VEHICLE                                                    3196\n",
      "EXCEEDING SAFE SPEED FOR CONDITIONS                                                   2864\n",
      "DISREGARDING OTHER TRAFFIC SIGNS                                                      1737\n",
      "ROAD CONSTRUCTION/MAINTENANCE                                                         1530\n",
      "ROAD ENGINEERING/SURFACE/MARKING DEFECTS                                              1487\n",
      "EVASIVE ACTION DUE TO ANIMAL, OBJECT, NONMOTORIST                                     1194\n",
      "CELL PHONE USE OTHER THAN TEXTING                                                     1135\n",
      "DISREGARDING ROAD MARKINGS                                                            1086\n",
      "HAD BEEN DRINKING (USE WHEN ARREST IS NOT MADE)                                        757\n",
      "TURNING RIGHT ON RED                                                                   613\n",
      "ANIMAL                                                                                 454\n",
      "DISTRACTION - OTHER ELECTRONIC DEVICE (NAVIGATION DEVICE, DVD PLAYER, ETC.)            380\n",
      "TEXTING                                                                                351\n",
      "DISREGARDING YIELD SIGN                                                                294\n",
      "RELATED TO BUS STOP                                                                    246\n",
      "PASSING STOPPED SCHOOL BUS                                                             104\n",
      "BICYCLE ADVANCING LEGALLY ON RED LIGHT                                                  82\n",
      "OBSTRUCTED CROSSWALKS                                                                   42\n",
      "MOTORCYCLE ADVANCING LEGALLY ON RED LIGHT                                               33\n",
      "Name: PRIM_CONTRIBUTORY_CAUSE, dtype: int64\n"
     ]
    }
   ],
   "source": [
    "na_val_count('PRIM_CONTRIBUTORY_CAUSE')"
   ]
  },
  {
   "cell_type": "code",
   "execution_count": 59,
   "metadata": {},
   "outputs": [],
   "source": [
    "# grabbing top 10 causes for graph\n",
    "top_prim = list(df_full['PRIM_CONTRIBUTORY_CAUSE'].value_counts().index[1:11])\n",
    "\n",
    "df_list = []\n",
    "\n",
    "#appending dfs to list based on condition\n",
    "for cause in top_prim:\n",
    "    df = df_full[df_full['PRIM_CONTRIBUTORY_CAUSE'] == cause]\n",
    "    df_list.append(df)\n",
    "\n",
    "#concate all in list to single df\n",
    "df_top_prime = pd.concat(df_list)"
   ]
  },
  {
   "cell_type": "code",
   "execution_count": 60,
   "metadata": {
    "scrolled": false
   },
   "outputs": [
    {
     "data": {
      "image/png": "[encoded data removed]",
      "text/plain": [
       "<Figure size 720x504 with 1 Axes>"
      ]
     },
     "metadata": {},
     "output_type": "display_data"
    }
   ],
   "source": [
    "fig, ax = plt.subplots(figsize=(10,7))\n",
    "\n",
    "ax.set_xticklabels(ax.get_xticklabels(), rotation=40, ha='right')\n",
    "sns.countplot(x='PRIM_CONTRIBUTORY_CAUSE', data=df_top_prime).set_title('Top 10: Primary cause to car accident');"
   ]
  },
  {
   "cell_type": "markdown",
   "metadata": {},
   "source": [
    "### work_zone_type"
   ]
  },
  {
   "cell_type": "code",
   "execution_count": 61,
   "metadata": {},
   "outputs": [
    {
     "name": "stdout",
     "output_type": "stream",
     "text": [
      ".isna().sum() =  0\n",
      "value_counts:\n",
      "N               790478\n",
      "CONSTRUCTION      2939\n",
      "UNKNOWN            541\n",
      "MAINTENANCE        396\n",
      "UTILITY            241\n",
      "Name: WORK_ZONE_TYPE, dtype: int64\n"
     ]
    }
   ],
   "source": [
    "na_val_count('WORK_ZONE_TYPE')"
   ]
  },
  {
   "cell_type": "markdown",
   "metadata": {},
   "source": [
    "### workers_present_i"
   ]
  },
  {
   "cell_type": "code",
   "execution_count": 62,
   "metadata": {},
   "outputs": [
    {
     "name": "stdout",
     "output_type": "stream",
     "text": [
      ".isna().sum() =  0\n",
      "value_counts:\n",
      "N    793505\n",
      "Y      1090\n",
      "Name: WORKERS_PRESENT_I, dtype: int64\n"
     ]
    }
   ],
   "source": [
    "na_val_count('WORKERS_PRESENT_I')"
   ]
  },
  {
   "cell_type": "markdown",
   "metadata": {},
   "source": [
    "### num_units"
   ]
  },
  {
   "cell_type": "code",
   "execution_count": 63,
   "metadata": {},
   "outputs": [
    {
     "name": "stdout",
     "output_type": "stream",
     "text": [
      ".isna().sum() =  0\n",
      "value_counts:\n",
      "2     702074\n",
      "3      54825\n",
      "1      24023\n",
      "4      10183\n",
      "5       2298\n",
      "6        694\n",
      "7        219\n",
      "8        106\n",
      "14        83\n",
      "9         56\n",
      "10        21\n",
      "11         7\n",
      "18         2\n",
      "12         2\n",
      "16         1\n",
      "15         1\n",
      "Name: NUM_UNITS, dtype: int64\n"
     ]
    }
   ],
   "source": [
    "na_val_count('NUM_UNITS')"
   ]
  },
  {
   "cell_type": "code",
   "execution_count": 64,
   "metadata": {},
   "outputs": [
    {
     "name": "stdout",
     "output_type": "stream",
     "text": [
      ".isna().sum() =  0\n",
      "value_counts:\n",
      "0    662625\n",
      "1     92633\n",
      "2     24797\n",
      "3      9891\n",
      "4      3250\n",
      "5       865\n",
      "6       330\n",
      "7       130\n",
      "8        74\n",
      "Name: NUM_UNITS, dtype: int64\n"
     ]
    }
   ],
   "source": [
    "df_full['NUM_UNITS'] = df_full[df_full['NUM_UNITS'] < 10]\n",
    "df_full['NUM_UNITS'].fillna(1, inplace =True)\n",
    "df_full['NUM_UNITS'] = df_full['NUM_UNITS'].astype(int)\n",
    "\n",
    "na_val_count('NUM_UNITS')"
   ]
  },
  {
   "cell_type": "markdown",
   "metadata": {},
   "source": [
    "### crash_hour"
   ]
  },
  {
   "cell_type": "code",
   "execution_count": 65,
   "metadata": {},
   "outputs": [
    {
     "name": "stdout",
     "output_type": "stream",
     "text": [
      ".isna().sum() =  0\n",
      "value_counts:\n",
      "16    63661\n",
      "17    63010\n",
      "15    62850\n",
      "14    55437\n",
      "18    50965\n",
      "13    49754\n",
      "12    47096\n",
      "8     43929\n",
      "11    40265\n",
      "9     37024\n",
      "19    36279\n",
      "10    36043\n",
      "7     35546\n",
      "20    27976\n",
      "21    24904\n",
      "22    22744\n",
      "23    18438\n",
      "6     17539\n",
      "0     14137\n",
      "1     11632\n",
      "2     10037\n",
      "5      9906\n",
      "3      7987\n",
      "4      7436\n",
      "Name: CRASH_HOUR, dtype: int64\n"
     ]
    }
   ],
   "source": [
    "na_val_count('CRASH_HOUR')"
   ]
  },
  {
   "cell_type": "markdown",
   "metadata": {},
   "source": [
    "### crash_day_of_week"
   ]
  },
  {
   "cell_type": "code",
   "execution_count": 66,
   "metadata": {},
   "outputs": [
    {
     "name": "stdout",
     "output_type": "stream",
     "text": [
      ".isna().sum() =  0\n",
      "value_counts:\n",
      "6    131283\n",
      "7    115787\n",
      "5    115523\n",
      "3    115152\n",
      "4    114387\n",
      "2    110201\n",
      "1     92262\n",
      "Name: CRASH_DAY_OF_WEEK, dtype: int64\n"
     ]
    }
   ],
   "source": [
    "na_val_count('CRASH_DAY_OF_WEEK')"
   ]
  },
  {
   "cell_type": "markdown",
   "metadata": {},
   "source": [
    "### crash_month"
   ]
  },
  {
   "cell_type": "code",
   "execution_count": 67,
   "metadata": {
    "scrolled": true
   },
   "outputs": [
    {
     "name": "stdout",
     "output_type": "stream",
     "text": [
      ".isna().sum() =  0\n",
      "value_counts:\n",
      "10    80293\n",
      "11    74096\n",
      "9     74028\n",
      "8     71479\n",
      "12    69557\n",
      "7     68257\n",
      "6     65233\n",
      "5     63334\n",
      "1     59559\n",
      "3     58125\n",
      "2     56631\n",
      "4     54003\n",
      "Name: CRASH_MONTH, dtype: int64\n"
     ]
    }
   ],
   "source": [
    "na_val_count('CRASH_MONTH')"
   ]
  },
  {
   "cell_type": "markdown",
   "metadata": {},
   "source": [
    "## Exporting cleaned data"
   ]
  },
  {
   "cell_type": "code",
   "execution_count": 68,
   "metadata": {
    "scrolled": false
   },
   "outputs": [
    {
     "name": "stdout",
     "output_type": "stream",
     "text": [
      "<class 'pandas.core.frame.DataFrame'>\n",
      "Int64Index: 794595 entries, 0 to 794843\n",
      "Data columns (total 29 columns):\n",
      "NUM_PASSENGERS             794595 non-null int32\n",
      "CMRC_VEH_I                 794595 non-null object\n",
      "VEHICLE_DEFECT             794595 non-null object\n",
      "EXCEED_SPEED_LIMIT_I       794595 non-null object\n",
      "FIRST_CONTACT_POINT        794595 non-null object\n",
      "CITY                       794595 non-null object\n",
      "SEX                        794595 non-null object\n",
      "DRIVERS_LICENSE_CLASS      794595 non-null object\n",
      "SAFETY_EQUIPMENT           794595 non-null object\n",
      "POSTED_SPEED_LIMIT         794595 non-null object\n",
      "TRAFFIC_CONTROL_DEVICE     794595 non-null object\n",
      "DEVICE_CONDITION           794595 non-null object\n",
      "WEATHER_CONDITION          794595 non-null object\n",
      "LIGHTING_CONDITION         794595 non-null object\n",
      "FIRST_CRASH_TYPE           794595 non-null object\n",
      "TRAFFICWAY_TYPE            794595 non-null object\n",
      "ALIGNMENT                  794595 non-null object\n",
      "ROADWAY_SURFACE_COND       794595 non-null object\n",
      "ROAD_DEFECT                794595 non-null object\n",
      "INTERSECTION_RELATED_I     794595 non-null object\n",
      "NOT_RIGHT_OF_WAY_I         794595 non-null object\n",
      "PRIM_CONTRIBUTORY_CAUSE    794595 non-null object\n",
      "WORK_ZONE_TYPE             794595 non-null object\n",
      "WORKERS_PRESENT_I          794595 non-null object\n",
      "NUM_UNITS                  794595 non-null int32\n",
      "CRASH_HOUR                 794595 non-null int64\n",
      "CRASH_DAY_OF_WEEK          794595 non-null int64\n",
      "CRASH_MONTH                794595 non-null int64\n",
      "IS_SEVERE                  794595 non-null int64\n",
      "dtypes: int32(2), int64(4), object(23)\n",
      "memory usage: 195.8+ MB\n"
     ]
    }
   ],
   "source": [
    "df_full.info()"
   ]
  },
  {
   "cell_type": "markdown",
   "metadata": {},
   "source": [
    "> There is no missing or odd values in dataset. All datatypes are correct.   \n",
    "> This data-set is ready to be exported and modeled on."
   ]
  },
  {
   "cell_type": "code",
   "execution_count": 69,
   "metadata": {},
   "outputs": [
    {
     "data": {
      "text/html": [
       "<div>\n",
       "<style scoped>\n",
       "    .dataframe tbody tr th:only-of-type {\n",
       "        vertical-align: middle;\n",
       "    }\n",
       "\n",
       "    .dataframe tbody tr th {\n",
       "        vertical-align: top;\n",
       "    }\n",
       "\n",
       "    .dataframe thead th {\n",
       "        text-align: right;\n",
       "    }\n",
       "</style>\n",
       "<table border=\"1\" class=\"dataframe\">\n",
       "  <thead>\n",
       "    <tr style=\"text-align: right;\">\n",
       "      <th></th>\n",
       "      <th>NUM_PASSENGERS</th>\n",
       "      <th>CMRC_VEH_I</th>\n",
       "      <th>VEHICLE_DEFECT</th>\n",
       "      <th>EXCEED_SPEED_LIMIT_I</th>\n",
       "      <th>FIRST_CONTACT_POINT</th>\n",
       "      <th>CITY</th>\n",
       "      <th>SEX</th>\n",
       "      <th>DRIVERS_LICENSE_CLASS</th>\n",
       "      <th>SAFETY_EQUIPMENT</th>\n",
       "      <th>POSTED_SPEED_LIMIT</th>\n",
       "      <th>TRAFFIC_CONTROL_DEVICE</th>\n",
       "      <th>DEVICE_CONDITION</th>\n",
       "      <th>WEATHER_CONDITION</th>\n",
       "      <th>LIGHTING_CONDITION</th>\n",
       "      <th>FIRST_CRASH_TYPE</th>\n",
       "      <th>TRAFFICWAY_TYPE</th>\n",
       "      <th>ALIGNMENT</th>\n",
       "      <th>ROADWAY_SURFACE_COND</th>\n",
       "      <th>ROAD_DEFECT</th>\n",
       "      <th>INTERSECTION_RELATED_I</th>\n",
       "      <th>NOT_RIGHT_OF_WAY_I</th>\n",
       "      <th>PRIM_CONTRIBUTORY_CAUSE</th>\n",
       "      <th>WORK_ZONE_TYPE</th>\n",
       "      <th>WORKERS_PRESENT_I</th>\n",
       "      <th>NUM_UNITS</th>\n",
       "      <th>CRASH_HOUR</th>\n",
       "      <th>CRASH_DAY_OF_WEEK</th>\n",
       "      <th>CRASH_MONTH</th>\n",
       "      <th>IS_SEVERE</th>\n",
       "    </tr>\n",
       "  </thead>\n",
       "  <tbody>\n",
       "    <tr>\n",
       "      <th>0</th>\n",
       "      <td>0</td>\n",
       "      <td>N</td>\n",
       "      <td>NO</td>\n",
       "      <td>N</td>\n",
       "      <td>FRONT</td>\n",
       "      <td>CHICAGO</td>\n",
       "      <td>M</td>\n",
       "      <td>D</td>\n",
       "      <td>USAGE UNKNOWN</td>\n",
       "      <td>between 31 mph and 49 mph</td>\n",
       "      <td>TRAFFIC SIGNAL</td>\n",
       "      <td>FUNCTIONING PROPERLY</td>\n",
       "      <td>CLEAR</td>\n",
       "      <td>DAYLIGHT</td>\n",
       "      <td>TURNING</td>\n",
       "      <td>NOT DIVIDED</td>\n",
       "      <td>STRAIGHT AND LEVEL</td>\n",
       "      <td>DRY</td>\n",
       "      <td>NO DEFECTS</td>\n",
       "      <td>Y</td>\n",
       "      <td>N</td>\n",
       "      <td>UNABLE TO DETERMINE</td>\n",
       "      <td>N</td>\n",
       "      <td>N</td>\n",
       "      <td>0</td>\n",
       "      <td>12</td>\n",
       "      <td>3</td>\n",
       "      <td>8</td>\n",
       "      <td>0</td>\n",
       "    </tr>\n",
       "    <tr>\n",
       "      <th>1</th>\n",
       "      <td>0</td>\n",
       "      <td>N</td>\n",
       "      <td>NO</td>\n",
       "      <td>N</td>\n",
       "      <td>FRONT-LEFT</td>\n",
       "      <td>Out of Town</td>\n",
       "      <td>M</td>\n",
       "      <td>D</td>\n",
       "      <td>SAFETY BELT/HELMENT USED</td>\n",
       "      <td>between 31 mph and 49 mph</td>\n",
       "      <td>TRAFFIC SIGNAL</td>\n",
       "      <td>FUNCTIONING PROPERLY</td>\n",
       "      <td>CLEAR</td>\n",
       "      <td>DAYLIGHT</td>\n",
       "      <td>TURNING</td>\n",
       "      <td>NOT DIVIDED</td>\n",
       "      <td>STRAIGHT AND LEVEL</td>\n",
       "      <td>DRY</td>\n",
       "      <td>NO DEFECTS</td>\n",
       "      <td>Y</td>\n",
       "      <td>N</td>\n",
       "      <td>UNABLE TO DETERMINE</td>\n",
       "      <td>N</td>\n",
       "      <td>N</td>\n",
       "      <td>0</td>\n",
       "      <td>12</td>\n",
       "      <td>3</td>\n",
       "      <td>8</td>\n",
       "      <td>0</td>\n",
       "    </tr>\n",
       "    <tr>\n",
       "      <th>2</th>\n",
       "      <td>0</td>\n",
       "      <td>N</td>\n",
       "      <td>NO</td>\n",
       "      <td>N</td>\n",
       "      <td>FRONT</td>\n",
       "      <td>Out of Town</td>\n",
       "      <td>M</td>\n",
       "      <td>D</td>\n",
       "      <td>SAFETY BELT/HELMENT USED</td>\n",
       "      <td>30 mph or lower</td>\n",
       "      <td>TRAFFIC SIGNAL</td>\n",
       "      <td>FUNCTIONING PROPERLY</td>\n",
       "      <td>CLEAR</td>\n",
       "      <td>DAYLIGHT</td>\n",
       "      <td>REAR END</td>\n",
       "      <td>ONE-WAY</td>\n",
       "      <td>STRAIGHT AND LEVEL</td>\n",
       "      <td>DRY</td>\n",
       "      <td>NO DEFECTS</td>\n",
       "      <td>N</td>\n",
       "      <td>N</td>\n",
       "      <td>FOLLOWING TOO CLOSELY</td>\n",
       "      <td>N</td>\n",
       "      <td>N</td>\n",
       "      <td>0</td>\n",
       "      <td>17</td>\n",
       "      <td>6</td>\n",
       "      <td>7</td>\n",
       "      <td>0</td>\n",
       "    </tr>\n",
       "    <tr>\n",
       "      <th>3</th>\n",
       "      <td>0</td>\n",
       "      <td>N</td>\n",
       "      <td>NO</td>\n",
       "      <td>N</td>\n",
       "      <td>REAR</td>\n",
       "      <td>Out of Town</td>\n",
       "      <td>M</td>\n",
       "      <td>D</td>\n",
       "      <td>SAFETY BELT/HELMENT USED</td>\n",
       "      <td>30 mph or lower</td>\n",
       "      <td>TRAFFIC SIGNAL</td>\n",
       "      <td>FUNCTIONING PROPERLY</td>\n",
       "      <td>CLEAR</td>\n",
       "      <td>DAYLIGHT</td>\n",
       "      <td>REAR END</td>\n",
       "      <td>ONE-WAY</td>\n",
       "      <td>STRAIGHT AND LEVEL</td>\n",
       "      <td>DRY</td>\n",
       "      <td>NO DEFECTS</td>\n",
       "      <td>N</td>\n",
       "      <td>N</td>\n",
       "      <td>FOLLOWING TOO CLOSELY</td>\n",
       "      <td>N</td>\n",
       "      <td>N</td>\n",
       "      <td>0</td>\n",
       "      <td>17</td>\n",
       "      <td>6</td>\n",
       "      <td>7</td>\n",
       "      <td>0</td>\n",
       "    </tr>\n",
       "    <tr>\n",
       "      <th>4</th>\n",
       "      <td>0</td>\n",
       "      <td>N</td>\n",
       "      <td>NO</td>\n",
       "      <td>N</td>\n",
       "      <td>FRONT</td>\n",
       "      <td>CHICAGO</td>\n",
       "      <td>M</td>\n",
       "      <td>D</td>\n",
       "      <td>USAGE UNKNOWN</td>\n",
       "      <td>30 mph or lower</td>\n",
       "      <td>NO CONTROLS</td>\n",
       "      <td>NO CONTROLS</td>\n",
       "      <td>CLEAR</td>\n",
       "      <td>DAYLIGHT</td>\n",
       "      <td>REAR END</td>\n",
       "      <td>DIVIDED - W/MEDIAN (NOT RAISED)</td>\n",
       "      <td>STRAIGHT AND LEVEL</td>\n",
       "      <td>DRY</td>\n",
       "      <td>NO DEFECTS</td>\n",
       "      <td>N</td>\n",
       "      <td>N</td>\n",
       "      <td>UNABLE TO DETERMINE</td>\n",
       "      <td>N</td>\n",
       "      <td>N</td>\n",
       "      <td>0</td>\n",
       "      <td>11</td>\n",
       "      <td>4</td>\n",
       "      <td>9</td>\n",
       "      <td>0</td>\n",
       "    </tr>\n",
       "    <tr>\n",
       "      <th>...</th>\n",
       "      <td>...</td>\n",
       "      <td>...</td>\n",
       "      <td>...</td>\n",
       "      <td>...</td>\n",
       "      <td>...</td>\n",
       "      <td>...</td>\n",
       "      <td>...</td>\n",
       "      <td>...</td>\n",
       "      <td>...</td>\n",
       "      <td>...</td>\n",
       "      <td>...</td>\n",
       "      <td>...</td>\n",
       "      <td>...</td>\n",
       "      <td>...</td>\n",
       "      <td>...</td>\n",
       "      <td>...</td>\n",
       "      <td>...</td>\n",
       "      <td>...</td>\n",
       "      <td>...</td>\n",
       "      <td>...</td>\n",
       "      <td>...</td>\n",
       "      <td>...</td>\n",
       "      <td>...</td>\n",
       "      <td>...</td>\n",
       "      <td>...</td>\n",
       "      <td>...</td>\n",
       "      <td>...</td>\n",
       "      <td>...</td>\n",
       "      <td>...</td>\n",
       "    </tr>\n",
       "    <tr>\n",
       "      <th>794839</th>\n",
       "      <td>1</td>\n",
       "      <td>N</td>\n",
       "      <td>NO</td>\n",
       "      <td>N</td>\n",
       "      <td>SIDE-RIGHT</td>\n",
       "      <td>Out of Town</td>\n",
       "      <td>M</td>\n",
       "      <td>D</td>\n",
       "      <td>USAGE UNKNOWN</td>\n",
       "      <td>30 mph or lower</td>\n",
       "      <td>TRAFFIC SIGNAL</td>\n",
       "      <td>FUNCTIONING PROPERLY</td>\n",
       "      <td>RAIN</td>\n",
       "      <td>DARKNESS, LIGHTED ROAD</td>\n",
       "      <td>ANGLE</td>\n",
       "      <td>DIVIDED - W/MEDIAN (NOT RAISED)</td>\n",
       "      <td>STRAIGHT AND LEVEL</td>\n",
       "      <td>WET</td>\n",
       "      <td>NO DEFECTS</td>\n",
       "      <td>Y</td>\n",
       "      <td>N</td>\n",
       "      <td>DISREGARDING TRAFFIC SIGNALS</td>\n",
       "      <td>N</td>\n",
       "      <td>N</td>\n",
       "      <td>1</td>\n",
       "      <td>23</td>\n",
       "      <td>7</td>\n",
       "      <td>11</td>\n",
       "      <td>1</td>\n",
       "    </tr>\n",
       "    <tr>\n",
       "      <th>794840</th>\n",
       "      <td>0</td>\n",
       "      <td>N</td>\n",
       "      <td>NO</td>\n",
       "      <td>N</td>\n",
       "      <td>UNKNOWN</td>\n",
       "      <td>CHICAGO</td>\n",
       "      <td>X</td>\n",
       "      <td>D</td>\n",
       "      <td>USAGE UNKNOWN</td>\n",
       "      <td>30 mph or lower</td>\n",
       "      <td>NO CONTROLS</td>\n",
       "      <td>NO CONTROLS</td>\n",
       "      <td>UNKNOWN</td>\n",
       "      <td>UNKNOWN</td>\n",
       "      <td>PARKED MOTOR VEHICLE</td>\n",
       "      <td>NOT DIVIDED</td>\n",
       "      <td>STRAIGHT AND LEVEL</td>\n",
       "      <td>DRY</td>\n",
       "      <td>NO DEFECTS</td>\n",
       "      <td>N</td>\n",
       "      <td>N</td>\n",
       "      <td>UNABLE TO DETERMINE</td>\n",
       "      <td>N</td>\n",
       "      <td>N</td>\n",
       "      <td>0</td>\n",
       "      <td>11</td>\n",
       "      <td>7</td>\n",
       "      <td>11</td>\n",
       "      <td>0</td>\n",
       "    </tr>\n",
       "    <tr>\n",
       "      <th>794841</th>\n",
       "      <td>0</td>\n",
       "      <td>N</td>\n",
       "      <td>NO</td>\n",
       "      <td>N</td>\n",
       "      <td>UNKNOWN</td>\n",
       "      <td>CHICAGO</td>\n",
       "      <td>X</td>\n",
       "      <td>D</td>\n",
       "      <td>USAGE UNKNOWN</td>\n",
       "      <td>30 mph or lower</td>\n",
       "      <td>NO CONTROLS</td>\n",
       "      <td>NO CONTROLS</td>\n",
       "      <td>UNKNOWN</td>\n",
       "      <td>UNKNOWN</td>\n",
       "      <td>PARKED MOTOR VEHICLE</td>\n",
       "      <td>UNKNOWN</td>\n",
       "      <td>STRAIGHT AND LEVEL</td>\n",
       "      <td>UNKNOWN</td>\n",
       "      <td>UNKNOWN</td>\n",
       "      <td>N</td>\n",
       "      <td>N</td>\n",
       "      <td>UNABLE TO DETERMINE</td>\n",
       "      <td>N</td>\n",
       "      <td>N</td>\n",
       "      <td>0</td>\n",
       "      <td>18</td>\n",
       "      <td>7</td>\n",
       "      <td>11</td>\n",
       "      <td>0</td>\n",
       "    </tr>\n",
       "    <tr>\n",
       "      <th>794842</th>\n",
       "      <td>0</td>\n",
       "      <td>N</td>\n",
       "      <td>NO</td>\n",
       "      <td>N</td>\n",
       "      <td>FRONT</td>\n",
       "      <td>CHICAGO</td>\n",
       "      <td>M</td>\n",
       "      <td>D</td>\n",
       "      <td>USAGE UNKNOWN</td>\n",
       "      <td>30 mph or lower</td>\n",
       "      <td>NO CONTROLS</td>\n",
       "      <td>NO CONTROLS</td>\n",
       "      <td>CLEAR</td>\n",
       "      <td>DARKNESS, LIGHTED ROAD</td>\n",
       "      <td>SIDESWIPE SAME DIRECTION</td>\n",
       "      <td>ONE-WAY</td>\n",
       "      <td>STRAIGHT AND LEVEL</td>\n",
       "      <td>DRY</td>\n",
       "      <td>NO DEFECTS</td>\n",
       "      <td>N</td>\n",
       "      <td>N</td>\n",
       "      <td>IMPROPER OVERTAKING/PASSING</td>\n",
       "      <td>N</td>\n",
       "      <td>N</td>\n",
       "      <td>0</td>\n",
       "      <td>19</td>\n",
       "      <td>7</td>\n",
       "      <td>11</td>\n",
       "      <td>0</td>\n",
       "    </tr>\n",
       "    <tr>\n",
       "      <th>794843</th>\n",
       "      <td>1</td>\n",
       "      <td>N</td>\n",
       "      <td>NO</td>\n",
       "      <td>N</td>\n",
       "      <td>SIDE-LEFT</td>\n",
       "      <td>Out of Town</td>\n",
       "      <td>F</td>\n",
       "      <td>D</td>\n",
       "      <td>NONE PRESENT</td>\n",
       "      <td>30 mph or lower</td>\n",
       "      <td>NO CONTROLS</td>\n",
       "      <td>NO CONTROLS</td>\n",
       "      <td>CLEAR</td>\n",
       "      <td>DARKNESS, LIGHTED ROAD</td>\n",
       "      <td>SIDESWIPE SAME DIRECTION</td>\n",
       "      <td>ONE-WAY</td>\n",
       "      <td>STRAIGHT AND LEVEL</td>\n",
       "      <td>DRY</td>\n",
       "      <td>NO DEFECTS</td>\n",
       "      <td>N</td>\n",
       "      <td>N</td>\n",
       "      <td>IMPROPER OVERTAKING/PASSING</td>\n",
       "      <td>N</td>\n",
       "      <td>N</td>\n",
       "      <td>1</td>\n",
       "      <td>19</td>\n",
       "      <td>7</td>\n",
       "      <td>11</td>\n",
       "      <td>0</td>\n",
       "    </tr>\n",
       "  </tbody>\n",
       "</table>\n",
       "<p>794595 rows × 29 columns</p>\n",
       "</div>"
      ],
      "text/plain": [
       "        NUM_PASSENGERS CMRC_VEH_I VEHICLE_DEFECT EXCEED_SPEED_LIMIT_I  \\\n",
       "0                    0          N             NO                    N   \n",
       "1                    0          N             NO                    N   \n",
       "2                    0          N             NO                    N   \n",
       "3                    0          N             NO                    N   \n",
       "4                    0          N             NO                    N   \n",
       "...                ...        ...            ...                  ...   \n",
       "794839               1          N             NO                    N   \n",
       "794840               0          N             NO                    N   \n",
       "794841               0          N             NO                    N   \n",
       "794842               0          N             NO                    N   \n",
       "794843               1          N             NO                    N   \n",
       "\n",
       "       FIRST_CONTACT_POINT         CITY SEX DRIVERS_LICENSE_CLASS  \\\n",
       "0                    FRONT      CHICAGO   M                     D   \n",
       "1               FRONT-LEFT  Out of Town   M                     D   \n",
       "2                    FRONT  Out of Town   M                     D   \n",
       "3                     REAR  Out of Town   M                     D   \n",
       "4                    FRONT      CHICAGO   M                     D   \n",
       "...                    ...          ...  ..                   ...   \n",
       "794839          SIDE-RIGHT  Out of Town   M                     D   \n",
       "794840             UNKNOWN      CHICAGO   X                     D   \n",
       "794841             UNKNOWN      CHICAGO   X                     D   \n",
       "794842               FRONT      CHICAGO   M                     D   \n",
       "794843           SIDE-LEFT  Out of Town   F                     D   \n",
       "\n",
       "                SAFETY_EQUIPMENT         POSTED_SPEED_LIMIT  \\\n",
       "0                  USAGE UNKNOWN  between 31 mph and 49 mph   \n",
       "1       SAFETY BELT/HELMENT USED  between 31 mph and 49 mph   \n",
       "2       SAFETY BELT/HELMENT USED            30 mph or lower   \n",
       "3       SAFETY BELT/HELMENT USED            30 mph or lower   \n",
       "4                  USAGE UNKNOWN            30 mph or lower   \n",
       "...                          ...                        ...   \n",
       "794839             USAGE UNKNOWN            30 mph or lower   \n",
       "794840             USAGE UNKNOWN            30 mph or lower   \n",
       "794841             USAGE UNKNOWN            30 mph or lower   \n",
       "794842             USAGE UNKNOWN            30 mph or lower   \n",
       "794843              NONE PRESENT            30 mph or lower   \n",
       "\n",
       "       TRAFFIC_CONTROL_DEVICE      DEVICE_CONDITION WEATHER_CONDITION  \\\n",
       "0              TRAFFIC SIGNAL  FUNCTIONING PROPERLY             CLEAR   \n",
       "1              TRAFFIC SIGNAL  FUNCTIONING PROPERLY             CLEAR   \n",
       "2              TRAFFIC SIGNAL  FUNCTIONING PROPERLY             CLEAR   \n",
       "3              TRAFFIC SIGNAL  FUNCTIONING PROPERLY             CLEAR   \n",
       "4                 NO CONTROLS           NO CONTROLS             CLEAR   \n",
       "...                       ...                   ...               ...   \n",
       "794839         TRAFFIC SIGNAL  FUNCTIONING PROPERLY              RAIN   \n",
       "794840            NO CONTROLS           NO CONTROLS           UNKNOWN   \n",
       "794841            NO CONTROLS           NO CONTROLS           UNKNOWN   \n",
       "794842            NO CONTROLS           NO CONTROLS             CLEAR   \n",
       "794843            NO CONTROLS           NO CONTROLS             CLEAR   \n",
       "\n",
       "            LIGHTING_CONDITION          FIRST_CRASH_TYPE  \\\n",
       "0                     DAYLIGHT                   TURNING   \n",
       "1                     DAYLIGHT                   TURNING   \n",
       "2                     DAYLIGHT                  REAR END   \n",
       "3                     DAYLIGHT                  REAR END   \n",
       "4                     DAYLIGHT                  REAR END   \n",
       "...                        ...                       ...   \n",
       "794839  DARKNESS, LIGHTED ROAD                     ANGLE   \n",
       "794840                 UNKNOWN      PARKED MOTOR VEHICLE   \n",
       "794841                 UNKNOWN      PARKED MOTOR VEHICLE   \n",
       "794842  DARKNESS, LIGHTED ROAD  SIDESWIPE SAME DIRECTION   \n",
       "794843  DARKNESS, LIGHTED ROAD  SIDESWIPE SAME DIRECTION   \n",
       "\n",
       "                        TRAFFICWAY_TYPE           ALIGNMENT  \\\n",
       "0                           NOT DIVIDED  STRAIGHT AND LEVEL   \n",
       "1                           NOT DIVIDED  STRAIGHT AND LEVEL   \n",
       "2                               ONE-WAY  STRAIGHT AND LEVEL   \n",
       "3                               ONE-WAY  STRAIGHT AND LEVEL   \n",
       "4       DIVIDED - W/MEDIAN (NOT RAISED)  STRAIGHT AND LEVEL   \n",
       "...                                 ...                 ...   \n",
       "794839  DIVIDED - W/MEDIAN (NOT RAISED)  STRAIGHT AND LEVEL   \n",
       "794840                      NOT DIVIDED  STRAIGHT AND LEVEL   \n",
       "794841                          UNKNOWN  STRAIGHT AND LEVEL   \n",
       "794842                          ONE-WAY  STRAIGHT AND LEVEL   \n",
       "794843                          ONE-WAY  STRAIGHT AND LEVEL   \n",
       "\n",
       "       ROADWAY_SURFACE_COND ROAD_DEFECT INTERSECTION_RELATED_I  \\\n",
       "0                       DRY  NO DEFECTS                      Y   \n",
       "1                       DRY  NO DEFECTS                      Y   \n",
       "2                       DRY  NO DEFECTS                      N   \n",
       "3                       DRY  NO DEFECTS                      N   \n",
       "4                       DRY  NO DEFECTS                      N   \n",
       "...                     ...         ...                    ...   \n",
       "794839                  WET  NO DEFECTS                      Y   \n",
       "794840                  DRY  NO DEFECTS                      N   \n",
       "794841              UNKNOWN     UNKNOWN                      N   \n",
       "794842                  DRY  NO DEFECTS                      N   \n",
       "794843                  DRY  NO DEFECTS                      N   \n",
       "\n",
       "       NOT_RIGHT_OF_WAY_I       PRIM_CONTRIBUTORY_CAUSE WORK_ZONE_TYPE  \\\n",
       "0                       N           UNABLE TO DETERMINE              N   \n",
       "1                       N           UNABLE TO DETERMINE              N   \n",
       "2                       N         FOLLOWING TOO CLOSELY              N   \n",
       "3                       N         FOLLOWING TOO CLOSELY              N   \n",
       "4                       N           UNABLE TO DETERMINE              N   \n",
       "...                   ...                           ...            ...   \n",
       "794839                  N  DISREGARDING TRAFFIC SIGNALS              N   \n",
       "794840                  N           UNABLE TO DETERMINE              N   \n",
       "794841                  N           UNABLE TO DETERMINE              N   \n",
       "794842                  N   IMPROPER OVERTAKING/PASSING              N   \n",
       "794843                  N   IMPROPER OVERTAKING/PASSING              N   \n",
       "\n",
       "       WORKERS_PRESENT_I  NUM_UNITS  CRASH_HOUR  CRASH_DAY_OF_WEEK  \\\n",
       "0                      N          0          12                  3   \n",
       "1                      N          0          12                  3   \n",
       "2                      N          0          17                  6   \n",
       "3                      N          0          17                  6   \n",
       "4                      N          0          11                  4   \n",
       "...                  ...        ...         ...                ...   \n",
       "794839                 N          1          23                  7   \n",
       "794840                 N          0          11                  7   \n",
       "794841                 N          0          18                  7   \n",
       "794842                 N          0          19                  7   \n",
       "794843                 N          1          19                  7   \n",
       "\n",
       "        CRASH_MONTH  IS_SEVERE  \n",
       "0                 8          0  \n",
       "1                 8          0  \n",
       "2                 7          0  \n",
       "3                 7          0  \n",
       "4                 9          0  \n",
       "...             ...        ...  \n",
       "794839           11          1  \n",
       "794840           11          0  \n",
       "794841           11          0  \n",
       "794842           11          0  \n",
       "794843           11          0  \n",
       "\n",
       "[794595 rows x 29 columns]"
      ]
     },
     "execution_count": 69,
     "metadata": {},
     "output_type": "execute_result"
    }
   ],
   "source": [
    "df_full.to_csv('data/Cleaned_full_data')\n",
    "df_full"
   ]
  }
 ],
 "metadata": {
  "kernelspec": {
   "display_name": "Python 3",
   "language": "python",
   "name": "python3"
  },
  "language_info": {
   "codemirror_mode": {
    "name": "ipython",
    "version": 3
   },
   "file_extension": ".py",
   "mimetype": "text/x-python",
   "name": "python",
   "nbconvert_exporter": "python",
   "pygments_lexer": "ipython3",
   "version": "3.6.9"
  },
  "toc": {
   "base_numbering": 1,
   "nav_menu": {},
   "number_sections": true,
   "sideBar": true,
   "skip_h1_title": false,
   "title_cell": "Table of Contents",
   "title_sidebar": "Contents",
   "toc_cell": false,
   "toc_position": {
    "height": "calc(100% - 180px)",
    "left": "10px",
    "top": "150px",
    "width": "346px"
   },
   "toc_section_display": true,
   "toc_window_display": true
  }
 },
 "nbformat": 4,
 "nbformat_minor": 4
}
