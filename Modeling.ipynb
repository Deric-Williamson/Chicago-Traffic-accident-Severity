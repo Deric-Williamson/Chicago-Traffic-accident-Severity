{
 "cells": [
  {
   "cell_type": "markdown",
   "metadata": {},
   "source": [
    "## Business Case"
   ]
  },
  {
   "cell_type": "markdown",
   "metadata": {},
   "source": [
    "For the Chicago Department of Transportation, as a data scientist, my job is to go over the city’s traffic accident reports and create a model that will predict the worst incidences. In doing so, I will find some underlying causes and possible advice for the city.   \n",
    "\n",
    "\n",
    "For the Chicago Department of Transportation, this data will help reduce the number of traffic accidents that result in injury. \n"
   ]
  },
  {
   "cell_type": "markdown",
   "metadata": {},
   "source": [
    "## Notebook Goals"
   ]
  },
  {
   "cell_type": "markdown",
   "metadata": {},
   "source": [
    "The goal of this notebook is to take the cleaned data and start to model on it.  \n",
    "To fit the data into several models, pick the best performing model and keep improving it."
   ]
  },
  {
   "cell_type": "markdown",
   "metadata": {},
   "source": [
    "## Preprocessing"
   ]
  },
  {
   "cell_type": "markdown",
   "metadata": {},
   "source": [
    "In the preprocessing phase I will:\n",
    "<ul>\n",
    "<li> Import the cleaned data set.  </li>\n",
    "<li> One-hot-encode the categorical data  </li>\n",
    "<li> Run an Anova Statistical Test to single out high p-values </li>\n",
    "</ul>"
   ]
  },
  {
   "cell_type": "markdown",
   "metadata": {},
   "source": [
    "### Import data"
   ]
  },
  {
   "cell_type": "code",
   "execution_count": 1,
   "metadata": {},
   "outputs": [],
   "source": [
    "import pandas as pd\n",
    "import numpy as np\n",
    "\n",
    "import matplotlib.pyplot as plt\n",
    "%matplotlib inline\n",
    "\n",
    "from sklearn.feature_selection import f_classif\n",
    "\n",
    "from sklearn.model_selection import train_test_split, GridSearchCV, cross_val_score\n",
    "\n",
    "from sklearn.preprocessing import StandardScaler\n",
    "\n",
    "from sklearn.metrics import plot_confusion_matrix, roc_curve, auc, classification_report\n",
    "\n",
    "from sklearn.linear_model import LogisticRegression\n",
    "from sklearn.tree import DecisionTreeClassifier\n",
    "from sklearn.ensemble import RandomForestClassifier, GradientBoostingClassifier\n",
    "from sklearn.neighbors import KNeighborsClassifier\n",
    "\n",
    "from statsmodels.stats.outliers_influence import variance_inflation_factor\n",
    "\n"
   ]
  },
  {
   "cell_type": "code",
   "execution_count": 2,
   "metadata": {
    "scrolled": false
   },
   "outputs": [
    {
     "data": {
      "text/html": [
       "<div>\n",
       "<style scoped>\n",
       "    .dataframe tbody tr th:only-of-type {\n",
       "        vertical-align: middle;\n",
       "    }\n",
       "\n",
       "    .dataframe tbody tr th {\n",
       "        vertical-align: top;\n",
       "    }\n",
       "\n",
       "    .dataframe thead th {\n",
       "        text-align: right;\n",
       "    }\n",
       "</style>\n",
       "<table border=\"1\" class=\"dataframe\">\n",
       "  <thead>\n",
       "    <tr style=\"text-align: right;\">\n",
       "      <th></th>\n",
       "      <th>NUM_PASSENGERS</th>\n",
       "      <th>CMRC_VEH_I</th>\n",
       "      <th>VEHICLE_DEFECT</th>\n",
       "      <th>EXCEED_SPEED_LIMIT_I</th>\n",
       "      <th>FIRST_CONTACT_POINT</th>\n",
       "      <th>CITY</th>\n",
       "      <th>SEX</th>\n",
       "      <th>DRIVERS_LICENSE_CLASS</th>\n",
       "      <th>SAFETY_EQUIPMENT</th>\n",
       "      <th>POSTED_SPEED_LIMIT</th>\n",
       "      <th>...</th>\n",
       "      <th>INTERSECTION_RELATED_I</th>\n",
       "      <th>NOT_RIGHT_OF_WAY_I</th>\n",
       "      <th>PRIM_CONTRIBUTORY_CAUSE</th>\n",
       "      <th>WORK_ZONE_TYPE</th>\n",
       "      <th>WORKERS_PRESENT_I</th>\n",
       "      <th>NUM_UNITS</th>\n",
       "      <th>CRASH_HOUR</th>\n",
       "      <th>CRASH_DAY_OF_WEEK</th>\n",
       "      <th>CRASH_MONTH</th>\n",
       "      <th>IS_SEVERE</th>\n",
       "    </tr>\n",
       "  </thead>\n",
       "  <tbody>\n",
       "    <tr>\n",
       "      <th>0</th>\n",
       "      <td>0</td>\n",
       "      <td>N</td>\n",
       "      <td>NO</td>\n",
       "      <td>N</td>\n",
       "      <td>FRONT</td>\n",
       "      <td>CHICAGO</td>\n",
       "      <td>M</td>\n",
       "      <td>D</td>\n",
       "      <td>USAGE UNKNOWN</td>\n",
       "      <td>between 31 mph and 49 mph</td>\n",
       "      <td>...</td>\n",
       "      <td>Y</td>\n",
       "      <td>N</td>\n",
       "      <td>UNABLE TO DETERMINE</td>\n",
       "      <td>N</td>\n",
       "      <td>N</td>\n",
       "      <td>0</td>\n",
       "      <td>12</td>\n",
       "      <td>3</td>\n",
       "      <td>8</td>\n",
       "      <td>0</td>\n",
       "    </tr>\n",
       "    <tr>\n",
       "      <th>1</th>\n",
       "      <td>0</td>\n",
       "      <td>N</td>\n",
       "      <td>NO</td>\n",
       "      <td>N</td>\n",
       "      <td>FRONT-LEFT</td>\n",
       "      <td>Out of Town</td>\n",
       "      <td>M</td>\n",
       "      <td>D</td>\n",
       "      <td>SAFETY BELT/HELMENT USED</td>\n",
       "      <td>between 31 mph and 49 mph</td>\n",
       "      <td>...</td>\n",
       "      <td>Y</td>\n",
       "      <td>N</td>\n",
       "      <td>UNABLE TO DETERMINE</td>\n",
       "      <td>N</td>\n",
       "      <td>N</td>\n",
       "      <td>0</td>\n",
       "      <td>12</td>\n",
       "      <td>3</td>\n",
       "      <td>8</td>\n",
       "      <td>0</td>\n",
       "    </tr>\n",
       "    <tr>\n",
       "      <th>2</th>\n",
       "      <td>0</td>\n",
       "      <td>N</td>\n",
       "      <td>NO</td>\n",
       "      <td>N</td>\n",
       "      <td>FRONT</td>\n",
       "      <td>Out of Town</td>\n",
       "      <td>M</td>\n",
       "      <td>D</td>\n",
       "      <td>SAFETY BELT/HELMENT USED</td>\n",
       "      <td>30 mph or lower</td>\n",
       "      <td>...</td>\n",
       "      <td>N</td>\n",
       "      <td>N</td>\n",
       "      <td>FOLLOWING TOO CLOSELY</td>\n",
       "      <td>N</td>\n",
       "      <td>N</td>\n",
       "      <td>0</td>\n",
       "      <td>17</td>\n",
       "      <td>6</td>\n",
       "      <td>7</td>\n",
       "      <td>0</td>\n",
       "    </tr>\n",
       "    <tr>\n",
       "      <th>3</th>\n",
       "      <td>0</td>\n",
       "      <td>N</td>\n",
       "      <td>NO</td>\n",
       "      <td>N</td>\n",
       "      <td>REAR</td>\n",
       "      <td>Out of Town</td>\n",
       "      <td>M</td>\n",
       "      <td>D</td>\n",
       "      <td>SAFETY BELT/HELMENT USED</td>\n",
       "      <td>30 mph or lower</td>\n",
       "      <td>...</td>\n",
       "      <td>N</td>\n",
       "      <td>N</td>\n",
       "      <td>FOLLOWING TOO CLOSELY</td>\n",
       "      <td>N</td>\n",
       "      <td>N</td>\n",
       "      <td>0</td>\n",
       "      <td>17</td>\n",
       "      <td>6</td>\n",
       "      <td>7</td>\n",
       "      <td>0</td>\n",
       "    </tr>\n",
       "    <tr>\n",
       "      <th>4</th>\n",
       "      <td>0</td>\n",
       "      <td>N</td>\n",
       "      <td>NO</td>\n",
       "      <td>N</td>\n",
       "      <td>FRONT</td>\n",
       "      <td>CHICAGO</td>\n",
       "      <td>M</td>\n",
       "      <td>D</td>\n",
       "      <td>USAGE UNKNOWN</td>\n",
       "      <td>30 mph or lower</td>\n",
       "      <td>...</td>\n",
       "      <td>N</td>\n",
       "      <td>N</td>\n",
       "      <td>UNABLE TO DETERMINE</td>\n",
       "      <td>N</td>\n",
       "      <td>N</td>\n",
       "      <td>0</td>\n",
       "      <td>11</td>\n",
       "      <td>4</td>\n",
       "      <td>9</td>\n",
       "      <td>0</td>\n",
       "    </tr>\n",
       "    <tr>\n",
       "      <th>...</th>\n",
       "      <td>...</td>\n",
       "      <td>...</td>\n",
       "      <td>...</td>\n",
       "      <td>...</td>\n",
       "      <td>...</td>\n",
       "      <td>...</td>\n",
       "      <td>...</td>\n",
       "      <td>...</td>\n",
       "      <td>...</td>\n",
       "      <td>...</td>\n",
       "      <td>...</td>\n",
       "      <td>...</td>\n",
       "      <td>...</td>\n",
       "      <td>...</td>\n",
       "      <td>...</td>\n",
       "      <td>...</td>\n",
       "      <td>...</td>\n",
       "      <td>...</td>\n",
       "      <td>...</td>\n",
       "      <td>...</td>\n",
       "      <td>...</td>\n",
       "    </tr>\n",
       "    <tr>\n",
       "      <th>794839</th>\n",
       "      <td>1</td>\n",
       "      <td>N</td>\n",
       "      <td>NO</td>\n",
       "      <td>N</td>\n",
       "      <td>SIDE-RIGHT</td>\n",
       "      <td>Out of Town</td>\n",
       "      <td>M</td>\n",
       "      <td>D</td>\n",
       "      <td>USAGE UNKNOWN</td>\n",
       "      <td>30 mph or lower</td>\n",
       "      <td>...</td>\n",
       "      <td>Y</td>\n",
       "      <td>N</td>\n",
       "      <td>DISREGARDING TRAFFIC SIGNALS</td>\n",
       "      <td>N</td>\n",
       "      <td>N</td>\n",
       "      <td>1</td>\n",
       "      <td>23</td>\n",
       "      <td>7</td>\n",
       "      <td>11</td>\n",
       "      <td>1</td>\n",
       "    </tr>\n",
       "    <tr>\n",
       "      <th>794840</th>\n",
       "      <td>0</td>\n",
       "      <td>N</td>\n",
       "      <td>NO</td>\n",
       "      <td>N</td>\n",
       "      <td>UNKNOWN</td>\n",
       "      <td>CHICAGO</td>\n",
       "      <td>X</td>\n",
       "      <td>D</td>\n",
       "      <td>USAGE UNKNOWN</td>\n",
       "      <td>30 mph or lower</td>\n",
       "      <td>...</td>\n",
       "      <td>N</td>\n",
       "      <td>N</td>\n",
       "      <td>UNABLE TO DETERMINE</td>\n",
       "      <td>N</td>\n",
       "      <td>N</td>\n",
       "      <td>0</td>\n",
       "      <td>11</td>\n",
       "      <td>7</td>\n",
       "      <td>11</td>\n",
       "      <td>0</td>\n",
       "    </tr>\n",
       "    <tr>\n",
       "      <th>794841</th>\n",
       "      <td>0</td>\n",
       "      <td>N</td>\n",
       "      <td>NO</td>\n",
       "      <td>N</td>\n",
       "      <td>UNKNOWN</td>\n",
       "      <td>CHICAGO</td>\n",
       "      <td>X</td>\n",
       "      <td>D</td>\n",
       "      <td>USAGE UNKNOWN</td>\n",
       "      <td>30 mph or lower</td>\n",
       "      <td>...</td>\n",
       "      <td>N</td>\n",
       "      <td>N</td>\n",
       "      <td>UNABLE TO DETERMINE</td>\n",
       "      <td>N</td>\n",
       "      <td>N</td>\n",
       "      <td>0</td>\n",
       "      <td>18</td>\n",
       "      <td>7</td>\n",
       "      <td>11</td>\n",
       "      <td>0</td>\n",
       "    </tr>\n",
       "    <tr>\n",
       "      <th>794842</th>\n",
       "      <td>0</td>\n",
       "      <td>N</td>\n",
       "      <td>NO</td>\n",
       "      <td>N</td>\n",
       "      <td>FRONT</td>\n",
       "      <td>CHICAGO</td>\n",
       "      <td>M</td>\n",
       "      <td>D</td>\n",
       "      <td>USAGE UNKNOWN</td>\n",
       "      <td>30 mph or lower</td>\n",
       "      <td>...</td>\n",
       "      <td>N</td>\n",
       "      <td>N</td>\n",
       "      <td>IMPROPER OVERTAKING/PASSING</td>\n",
       "      <td>N</td>\n",
       "      <td>N</td>\n",
       "      <td>0</td>\n",
       "      <td>19</td>\n",
       "      <td>7</td>\n",
       "      <td>11</td>\n",
       "      <td>0</td>\n",
       "    </tr>\n",
       "    <tr>\n",
       "      <th>794843</th>\n",
       "      <td>1</td>\n",
       "      <td>N</td>\n",
       "      <td>NO</td>\n",
       "      <td>N</td>\n",
       "      <td>SIDE-LEFT</td>\n",
       "      <td>Out of Town</td>\n",
       "      <td>F</td>\n",
       "      <td>D</td>\n",
       "      <td>NONE PRESENT</td>\n",
       "      <td>30 mph or lower</td>\n",
       "      <td>...</td>\n",
       "      <td>N</td>\n",
       "      <td>N</td>\n",
       "      <td>IMPROPER OVERTAKING/PASSING</td>\n",
       "      <td>N</td>\n",
       "      <td>N</td>\n",
       "      <td>1</td>\n",
       "      <td>19</td>\n",
       "      <td>7</td>\n",
       "      <td>11</td>\n",
       "      <td>0</td>\n",
       "    </tr>\n",
       "  </tbody>\n",
       "</table>\n",
       "<p>794595 rows × 29 columns</p>\n",
       "</div>"
      ],
      "text/plain": [
       "        NUM_PASSENGERS CMRC_VEH_I VEHICLE_DEFECT EXCEED_SPEED_LIMIT_I  \\\n",
       "0                    0          N             NO                    N   \n",
       "1                    0          N             NO                    N   \n",
       "2                    0          N             NO                    N   \n",
       "3                    0          N             NO                    N   \n",
       "4                    0          N             NO                    N   \n",
       "...                ...        ...            ...                  ...   \n",
       "794839               1          N             NO                    N   \n",
       "794840               0          N             NO                    N   \n",
       "794841               0          N             NO                    N   \n",
       "794842               0          N             NO                    N   \n",
       "794843               1          N             NO                    N   \n",
       "\n",
       "       FIRST_CONTACT_POINT         CITY SEX DRIVERS_LICENSE_CLASS  \\\n",
       "0                    FRONT      CHICAGO   M                     D   \n",
       "1               FRONT-LEFT  Out of Town   M                     D   \n",
       "2                    FRONT  Out of Town   M                     D   \n",
       "3                     REAR  Out of Town   M                     D   \n",
       "4                    FRONT      CHICAGO   M                     D   \n",
       "...                    ...          ...  ..                   ...   \n",
       "794839          SIDE-RIGHT  Out of Town   M                     D   \n",
       "794840             UNKNOWN      CHICAGO   X                     D   \n",
       "794841             UNKNOWN      CHICAGO   X                     D   \n",
       "794842               FRONT      CHICAGO   M                     D   \n",
       "794843           SIDE-LEFT  Out of Town   F                     D   \n",
       "\n",
       "                SAFETY_EQUIPMENT         POSTED_SPEED_LIMIT  ...  \\\n",
       "0                  USAGE UNKNOWN  between 31 mph and 49 mph  ...   \n",
       "1       SAFETY BELT/HELMENT USED  between 31 mph and 49 mph  ...   \n",
       "2       SAFETY BELT/HELMENT USED            30 mph or lower  ...   \n",
       "3       SAFETY BELT/HELMENT USED            30 mph or lower  ...   \n",
       "4                  USAGE UNKNOWN            30 mph or lower  ...   \n",
       "...                          ...                        ...  ...   \n",
       "794839             USAGE UNKNOWN            30 mph or lower  ...   \n",
       "794840             USAGE UNKNOWN            30 mph or lower  ...   \n",
       "794841             USAGE UNKNOWN            30 mph or lower  ...   \n",
       "794842             USAGE UNKNOWN            30 mph or lower  ...   \n",
       "794843              NONE PRESENT            30 mph or lower  ...   \n",
       "\n",
       "       INTERSECTION_RELATED_I NOT_RIGHT_OF_WAY_I  \\\n",
       "0                           Y                  N   \n",
       "1                           Y                  N   \n",
       "2                           N                  N   \n",
       "3                           N                  N   \n",
       "4                           N                  N   \n",
       "...                       ...                ...   \n",
       "794839                      Y                  N   \n",
       "794840                      N                  N   \n",
       "794841                      N                  N   \n",
       "794842                      N                  N   \n",
       "794843                      N                  N   \n",
       "\n",
       "             PRIM_CONTRIBUTORY_CAUSE WORK_ZONE_TYPE WORKERS_PRESENT_I  \\\n",
       "0                UNABLE TO DETERMINE              N                 N   \n",
       "1                UNABLE TO DETERMINE              N                 N   \n",
       "2              FOLLOWING TOO CLOSELY              N                 N   \n",
       "3              FOLLOWING TOO CLOSELY              N                 N   \n",
       "4                UNABLE TO DETERMINE              N                 N   \n",
       "...                              ...            ...               ...   \n",
       "794839  DISREGARDING TRAFFIC SIGNALS              N                 N   \n",
       "794840           UNABLE TO DETERMINE              N                 N   \n",
       "794841           UNABLE TO DETERMINE              N                 N   \n",
       "794842   IMPROPER OVERTAKING/PASSING              N                 N   \n",
       "794843   IMPROPER OVERTAKING/PASSING              N                 N   \n",
       "\n",
       "       NUM_UNITS CRASH_HOUR CRASH_DAY_OF_WEEK CRASH_MONTH IS_SEVERE  \n",
       "0              0         12                 3           8         0  \n",
       "1              0         12                 3           8         0  \n",
       "2              0         17                 6           7         0  \n",
       "3              0         17                 6           7         0  \n",
       "4              0         11                 4           9         0  \n",
       "...          ...        ...               ...         ...       ...  \n",
       "794839         1         23                 7          11         1  \n",
       "794840         0         11                 7          11         0  \n",
       "794841         0         18                 7          11         0  \n",
       "794842         0         19                 7          11         0  \n",
       "794843         1         19                 7          11         0  \n",
       "\n",
       "[794595 rows x 29 columns]"
      ]
     },
     "execution_count": 2,
     "metadata": {},
     "output_type": "execute_result"
    }
   ],
   "source": [
    "df = pd.read_csv('data/Cleaned_full_data.csv', index_col=0)\n",
    "df"
   ]
  },
  {
   "cell_type": "markdown",
   "metadata": {},
   "source": [
    "### One-Hot Encode"
   ]
  },
  {
   "cell_type": "markdown",
   "metadata": {},
   "source": [
    "I am using the pd.get_dummies to one-hot encode my categorical data.  \n",
    "The idea behind one hot encode is to change all of the categorical data into multiple binary features, so our algorithms can handle the label data more easily."
   ]
  },
  {
   "cell_type": "code",
   "execution_count": 3,
   "metadata": {
    "code_folding": []
   },
   "outputs": [],
   "source": [
    "# creating a list for the categoricals/contious features\n",
    "categorical_col = list(df.columns)\n",
    "continous_col = ['NUM_PASSENGERS', 'NUM_UNITS']\n",
    "\n",
    "# removing all continuous columns from the \n",
    "# categorical list\n",
    "for cont in continous_col:\n",
    "    if cont in categorical_col:\n",
    "        categorical_col.remove(cont)\n",
    "        \n",
    "# removing other items from the categorical list\n",
    "categorical_col.remove('IS_SEVERE')"
   ]
  },
  {
   "cell_type": "code",
   "execution_count": 4,
   "metadata": {},
   "outputs": [],
   "source": [
    "features = df[categorical_col].astype('category')\n",
    "\n",
    "feats_ohe = pd.get_dummies(features, drop_first = True)\n",
    "\n",
    "feats_ohe = feats_ohe.astype(int)"
   ]
  },
  {
   "cell_type": "code",
   "execution_count": 5,
   "metadata": {},
   "outputs": [
    {
     "data": {
      "text/html": [
       "<div>\n",
       "<style scoped>\n",
       "    .dataframe tbody tr th:only-of-type {\n",
       "        vertical-align: middle;\n",
       "    }\n",
       "\n",
       "    .dataframe tbody tr th {\n",
       "        vertical-align: top;\n",
       "    }\n",
       "\n",
       "    .dataframe thead th {\n",
       "        text-align: right;\n",
       "    }\n",
       "</style>\n",
       "<table border=\"1\" class=\"dataframe\">\n",
       "  <thead>\n",
       "    <tr style=\"text-align: right;\">\n",
       "      <th></th>\n",
       "      <th>IS_SEVERE</th>\n",
       "      <th>NUM_PASSENGERS</th>\n",
       "      <th>NUM_UNITS</th>\n",
       "      <th>CMRC_VEH_I_Y</th>\n",
       "      <th>VEHICLE_DEFECT_YES</th>\n",
       "      <th>EXCEED_SPEED_LIMIT_I_Y</th>\n",
       "      <th>FIRST_CONTACT_POINT_FRONT-LEFT</th>\n",
       "      <th>FIRST_CONTACT_POINT_FRONT-RIGHT</th>\n",
       "      <th>FIRST_CONTACT_POINT_NONE</th>\n",
       "      <th>FIRST_CONTACT_POINT_OTHER</th>\n",
       "      <th>...</th>\n",
       "      <th>CRASH_MONTH_3</th>\n",
       "      <th>CRASH_MONTH_4</th>\n",
       "      <th>CRASH_MONTH_5</th>\n",
       "      <th>CRASH_MONTH_6</th>\n",
       "      <th>CRASH_MONTH_7</th>\n",
       "      <th>CRASH_MONTH_8</th>\n",
       "      <th>CRASH_MONTH_9</th>\n",
       "      <th>CRASH_MONTH_10</th>\n",
       "      <th>CRASH_MONTH_11</th>\n",
       "      <th>CRASH_MONTH_12</th>\n",
       "    </tr>\n",
       "  </thead>\n",
       "  <tbody>\n",
       "    <tr>\n",
       "      <th>0</th>\n",
       "      <td>0</td>\n",
       "      <td>0</td>\n",
       "      <td>0</td>\n",
       "      <td>0</td>\n",
       "      <td>0</td>\n",
       "      <td>0</td>\n",
       "      <td>0</td>\n",
       "      <td>0</td>\n",
       "      <td>0</td>\n",
       "      <td>0</td>\n",
       "      <td>...</td>\n",
       "      <td>0</td>\n",
       "      <td>0</td>\n",
       "      <td>0</td>\n",
       "      <td>0</td>\n",
       "      <td>0</td>\n",
       "      <td>1</td>\n",
       "      <td>0</td>\n",
       "      <td>0</td>\n",
       "      <td>0</td>\n",
       "      <td>0</td>\n",
       "    </tr>\n",
       "    <tr>\n",
       "      <th>1</th>\n",
       "      <td>0</td>\n",
       "      <td>0</td>\n",
       "      <td>0</td>\n",
       "      <td>0</td>\n",
       "      <td>0</td>\n",
       "      <td>0</td>\n",
       "      <td>1</td>\n",
       "      <td>0</td>\n",
       "      <td>0</td>\n",
       "      <td>0</td>\n",
       "      <td>...</td>\n",
       "      <td>0</td>\n",
       "      <td>0</td>\n",
       "      <td>0</td>\n",
       "      <td>0</td>\n",
       "      <td>0</td>\n",
       "      <td>1</td>\n",
       "      <td>0</td>\n",
       "      <td>0</td>\n",
       "      <td>0</td>\n",
       "      <td>0</td>\n",
       "    </tr>\n",
       "    <tr>\n",
       "      <th>2</th>\n",
       "      <td>0</td>\n",
       "      <td>0</td>\n",
       "      <td>0</td>\n",
       "      <td>0</td>\n",
       "      <td>0</td>\n",
       "      <td>0</td>\n",
       "      <td>0</td>\n",
       "      <td>0</td>\n",
       "      <td>0</td>\n",
       "      <td>0</td>\n",
       "      <td>...</td>\n",
       "      <td>0</td>\n",
       "      <td>0</td>\n",
       "      <td>0</td>\n",
       "      <td>0</td>\n",
       "      <td>1</td>\n",
       "      <td>0</td>\n",
       "      <td>0</td>\n",
       "      <td>0</td>\n",
       "      <td>0</td>\n",
       "      <td>0</td>\n",
       "    </tr>\n",
       "    <tr>\n",
       "      <th>3</th>\n",
       "      <td>0</td>\n",
       "      <td>0</td>\n",
       "      <td>0</td>\n",
       "      <td>0</td>\n",
       "      <td>0</td>\n",
       "      <td>0</td>\n",
       "      <td>0</td>\n",
       "      <td>0</td>\n",
       "      <td>0</td>\n",
       "      <td>0</td>\n",
       "      <td>...</td>\n",
       "      <td>0</td>\n",
       "      <td>0</td>\n",
       "      <td>0</td>\n",
       "      <td>0</td>\n",
       "      <td>1</td>\n",
       "      <td>0</td>\n",
       "      <td>0</td>\n",
       "      <td>0</td>\n",
       "      <td>0</td>\n",
       "      <td>0</td>\n",
       "    </tr>\n",
       "    <tr>\n",
       "      <th>4</th>\n",
       "      <td>0</td>\n",
       "      <td>0</td>\n",
       "      <td>0</td>\n",
       "      <td>0</td>\n",
       "      <td>0</td>\n",
       "      <td>0</td>\n",
       "      <td>0</td>\n",
       "      <td>0</td>\n",
       "      <td>0</td>\n",
       "      <td>0</td>\n",
       "      <td>...</td>\n",
       "      <td>0</td>\n",
       "      <td>0</td>\n",
       "      <td>0</td>\n",
       "      <td>0</td>\n",
       "      <td>0</td>\n",
       "      <td>0</td>\n",
       "      <td>1</td>\n",
       "      <td>0</td>\n",
       "      <td>0</td>\n",
       "      <td>0</td>\n",
       "    </tr>\n",
       "    <tr>\n",
       "      <th>...</th>\n",
       "      <td>...</td>\n",
       "      <td>...</td>\n",
       "      <td>...</td>\n",
       "      <td>...</td>\n",
       "      <td>...</td>\n",
       "      <td>...</td>\n",
       "      <td>...</td>\n",
       "      <td>...</td>\n",
       "      <td>...</td>\n",
       "      <td>...</td>\n",
       "      <td>...</td>\n",
       "      <td>...</td>\n",
       "      <td>...</td>\n",
       "      <td>...</td>\n",
       "      <td>...</td>\n",
       "      <td>...</td>\n",
       "      <td>...</td>\n",
       "      <td>...</td>\n",
       "      <td>...</td>\n",
       "      <td>...</td>\n",
       "      <td>...</td>\n",
       "    </tr>\n",
       "    <tr>\n",
       "      <th>794839</th>\n",
       "      <td>1</td>\n",
       "      <td>1</td>\n",
       "      <td>1</td>\n",
       "      <td>0</td>\n",
       "      <td>0</td>\n",
       "      <td>0</td>\n",
       "      <td>0</td>\n",
       "      <td>0</td>\n",
       "      <td>0</td>\n",
       "      <td>0</td>\n",
       "      <td>...</td>\n",
       "      <td>0</td>\n",
       "      <td>0</td>\n",
       "      <td>0</td>\n",
       "      <td>0</td>\n",
       "      <td>0</td>\n",
       "      <td>0</td>\n",
       "      <td>0</td>\n",
       "      <td>0</td>\n",
       "      <td>1</td>\n",
       "      <td>0</td>\n",
       "    </tr>\n",
       "    <tr>\n",
       "      <th>794840</th>\n",
       "      <td>0</td>\n",
       "      <td>0</td>\n",
       "      <td>0</td>\n",
       "      <td>0</td>\n",
       "      <td>0</td>\n",
       "      <td>0</td>\n",
       "      <td>0</td>\n",
       "      <td>0</td>\n",
       "      <td>0</td>\n",
       "      <td>0</td>\n",
       "      <td>...</td>\n",
       "      <td>0</td>\n",
       "      <td>0</td>\n",
       "      <td>0</td>\n",
       "      <td>0</td>\n",
       "      <td>0</td>\n",
       "      <td>0</td>\n",
       "      <td>0</td>\n",
       "      <td>0</td>\n",
       "      <td>1</td>\n",
       "      <td>0</td>\n",
       "    </tr>\n",
       "    <tr>\n",
       "      <th>794841</th>\n",
       "      <td>0</td>\n",
       "      <td>0</td>\n",
       "      <td>0</td>\n",
       "      <td>0</td>\n",
       "      <td>0</td>\n",
       "      <td>0</td>\n",
       "      <td>0</td>\n",
       "      <td>0</td>\n",
       "      <td>0</td>\n",
       "      <td>0</td>\n",
       "      <td>...</td>\n",
       "      <td>0</td>\n",
       "      <td>0</td>\n",
       "      <td>0</td>\n",
       "      <td>0</td>\n",
       "      <td>0</td>\n",
       "      <td>0</td>\n",
       "      <td>0</td>\n",
       "      <td>0</td>\n",
       "      <td>1</td>\n",
       "      <td>0</td>\n",
       "    </tr>\n",
       "    <tr>\n",
       "      <th>794842</th>\n",
       "      <td>0</td>\n",
       "      <td>0</td>\n",
       "      <td>0</td>\n",
       "      <td>0</td>\n",
       "      <td>0</td>\n",
       "      <td>0</td>\n",
       "      <td>0</td>\n",
       "      <td>0</td>\n",
       "      <td>0</td>\n",
       "      <td>0</td>\n",
       "      <td>...</td>\n",
       "      <td>0</td>\n",
       "      <td>0</td>\n",
       "      <td>0</td>\n",
       "      <td>0</td>\n",
       "      <td>0</td>\n",
       "      <td>0</td>\n",
       "      <td>0</td>\n",
       "      <td>0</td>\n",
       "      <td>1</td>\n",
       "      <td>0</td>\n",
       "    </tr>\n",
       "    <tr>\n",
       "      <th>794843</th>\n",
       "      <td>0</td>\n",
       "      <td>1</td>\n",
       "      <td>1</td>\n",
       "      <td>0</td>\n",
       "      <td>0</td>\n",
       "      <td>0</td>\n",
       "      <td>0</td>\n",
       "      <td>0</td>\n",
       "      <td>0</td>\n",
       "      <td>0</td>\n",
       "      <td>...</td>\n",
       "      <td>0</td>\n",
       "      <td>0</td>\n",
       "      <td>0</td>\n",
       "      <td>0</td>\n",
       "      <td>0</td>\n",
       "      <td>0</td>\n",
       "      <td>0</td>\n",
       "      <td>0</td>\n",
       "      <td>1</td>\n",
       "      <td>0</td>\n",
       "    </tr>\n",
       "  </tbody>\n",
       "</table>\n",
       "<p>794595 rows × 188 columns</p>\n",
       "</div>"
      ],
      "text/plain": [
       "        IS_SEVERE  NUM_PASSENGERS  NUM_UNITS  CMRC_VEH_I_Y  \\\n",
       "0               0               0          0             0   \n",
       "1               0               0          0             0   \n",
       "2               0               0          0             0   \n",
       "3               0               0          0             0   \n",
       "4               0               0          0             0   \n",
       "...           ...             ...        ...           ...   \n",
       "794839          1               1          1             0   \n",
       "794840          0               0          0             0   \n",
       "794841          0               0          0             0   \n",
       "794842          0               0          0             0   \n",
       "794843          0               1          1             0   \n",
       "\n",
       "        VEHICLE_DEFECT_YES  EXCEED_SPEED_LIMIT_I_Y  \\\n",
       "0                        0                       0   \n",
       "1                        0                       0   \n",
       "2                        0                       0   \n",
       "3                        0                       0   \n",
       "4                        0                       0   \n",
       "...                    ...                     ...   \n",
       "794839                   0                       0   \n",
       "794840                   0                       0   \n",
       "794841                   0                       0   \n",
       "794842                   0                       0   \n",
       "794843                   0                       0   \n",
       "\n",
       "        FIRST_CONTACT_POINT_FRONT-LEFT  FIRST_CONTACT_POINT_FRONT-RIGHT  \\\n",
       "0                                    0                                0   \n",
       "1                                    1                                0   \n",
       "2                                    0                                0   \n",
       "3                                    0                                0   \n",
       "4                                    0                                0   \n",
       "...                                ...                              ...   \n",
       "794839                               0                                0   \n",
       "794840                               0                                0   \n",
       "794841                               0                                0   \n",
       "794842                               0                                0   \n",
       "794843                               0                                0   \n",
       "\n",
       "        FIRST_CONTACT_POINT_NONE  FIRST_CONTACT_POINT_OTHER  ...  \\\n",
       "0                              0                          0  ...   \n",
       "1                              0                          0  ...   \n",
       "2                              0                          0  ...   \n",
       "3                              0                          0  ...   \n",
       "4                              0                          0  ...   \n",
       "...                          ...                        ...  ...   \n",
       "794839                         0                          0  ...   \n",
       "794840                         0                          0  ...   \n",
       "794841                         0                          0  ...   \n",
       "794842                         0                          0  ...   \n",
       "794843                         0                          0  ...   \n",
       "\n",
       "        CRASH_MONTH_3  CRASH_MONTH_4  CRASH_MONTH_5  CRASH_MONTH_6  \\\n",
       "0                   0              0              0              0   \n",
       "1                   0              0              0              0   \n",
       "2                   0              0              0              0   \n",
       "3                   0              0              0              0   \n",
       "4                   0              0              0              0   \n",
       "...               ...            ...            ...            ...   \n",
       "794839              0              0              0              0   \n",
       "794840              0              0              0              0   \n",
       "794841              0              0              0              0   \n",
       "794842              0              0              0              0   \n",
       "794843              0              0              0              0   \n",
       "\n",
       "        CRASH_MONTH_7  CRASH_MONTH_8  CRASH_MONTH_9  CRASH_MONTH_10  \\\n",
       "0                   0              1              0               0   \n",
       "1                   0              1              0               0   \n",
       "2                   1              0              0               0   \n",
       "3                   1              0              0               0   \n",
       "4                   0              0              1               0   \n",
       "...               ...            ...            ...             ...   \n",
       "794839              0              0              0               0   \n",
       "794840              0              0              0               0   \n",
       "794841              0              0              0               0   \n",
       "794842              0              0              0               0   \n",
       "794843              0              0              0               0   \n",
       "\n",
       "        CRASH_MONTH_11  CRASH_MONTH_12  \n",
       "0                    0               0  \n",
       "1                    0               0  \n",
       "2                    0               0  \n",
       "3                    0               0  \n",
       "4                    0               0  \n",
       "...                ...             ...  \n",
       "794839               1               0  \n",
       "794840               1               0  \n",
       "794841               1               0  \n",
       "794842               1               0  \n",
       "794843               1               0  \n",
       "\n",
       "[794595 rows x 188 columns]"
      ]
     },
     "execution_count": 5,
     "metadata": {},
     "output_type": "execute_result"
    }
   ],
   "source": [
    "df = pd.concat([df['IS_SEVERE'], df[continous_col], feats_ohe], axis=1)\n",
    "df"
   ]
  },
  {
   "cell_type": "markdown",
   "metadata": {},
   "source": [
    "### Anova Statistical Test"
   ]
  },
  {
   "cell_type": "markdown",
   "metadata": {},
   "source": [
    "Anova Statistical Test will test to see if there is any dependence between the variables.  \n",
    "The test will assign each variable a p-value.  \n",
    "I will then remove any p-value that scored higher than .05"
   ]
  },
  {
   "cell_type": "code",
   "execution_count": 6,
   "metadata": {},
   "outputs": [],
   "source": [
    "y = df['IS_SEVERE']\n",
    "X = df.drop(['IS_SEVERE'], axis=1)"
   ]
  },
  {
   "cell_type": "code",
   "execution_count": 7,
   "metadata": {},
   "outputs": [
    {
     "data": {
      "text/plain": [
       "CRASH_MONTH_5                                                       0.056581\n",
       "PRIM_CONTRIBUTORY_CAUSE_ROAD CONSTRUCTION/MAINTENANCE               0.083225\n",
       "CRASH_MONTH_6                                                       0.102595\n",
       "PRIM_CONTRIBUTORY_CAUSE_RELATED TO BUS STOP                         0.103490\n",
       "TRAFFICWAY_TYPE_OTHER                                               0.115420\n",
       "TRAFFICWAY_TYPE_RAMP                                                0.148327\n",
       "LIGHTING_CONDITION_DUSK                                             0.192904\n",
       "WORK_ZONE_TYPE_UNKNOWN                                              0.360335\n",
       "PRIM_CONTRIBUTORY_CAUSE_BICYCLE ADVANCING LEGALLY ON RED LIGHT      0.609199\n",
       "DRIVERS_LICENSE_CLASS_Other                                         0.783585\n",
       "PRIM_CONTRIBUTORY_CAUSE_ROAD ENGINEERING/SURFACE/MARKING DEFECTS    0.881998\n",
       "CRASH_HOUR_19                                                       0.939952\n",
       "dtype: float64"
      ]
     },
     "execution_count": 7,
     "metadata": {},
     "output_type": "execute_result"
    }
   ],
   "source": [
    "# this creates arrays for f values and p values\n",
    "f_clf = f_classif(X, y)\n",
    "\n",
    "#create a series for easy visuals\n",
    "p_values = pd.Series(f_clf[1])\n",
    "\n",
    "#adding column names to the p-values\n",
    "p_values.index = X.columns\n",
    "p_values.sort_values(ascending=True, inplace=True)\n",
    "p_values[p_values>0.05]"
   ]
  },
  {
   "cell_type": "code",
   "execution_count": 8,
   "metadata": {},
   "outputs": [],
   "source": [
    "high_p_values = list(p_values[p_values>0.05].index)\n",
    "\n",
    "for i in high_p_values:\n",
    "    X.drop(i, axis=1, inplace=True)"
   ]
  },
  {
   "cell_type": "markdown",
   "metadata": {},
   "source": [
    "## Train/Test splitting the data"
   ]
  },
  {
   "cell_type": "markdown",
   "metadata": {},
   "source": [
    "### train/test split"
   ]
  },
  {
   "cell_type": "code",
   "execution_count": 9,
   "metadata": {},
   "outputs": [],
   "source": [
    "X_train, X_test, y_train, y_test = train_test_split(X, y, test_size = 0.2, random_state = 123)"
   ]
  },
  {
   "cell_type": "markdown",
   "metadata": {},
   "source": [
    "### scale train/test data"
   ]
  },
  {
   "cell_type": "code",
   "execution_count": 10,
   "metadata": {},
   "outputs": [],
   "source": [
    "scaler = StandardScaler()\n",
    "\n",
    "scaled_data_train = scaler.fit_transform(X_train)\n",
    "scaled_data_test = scaler.fit_transform(X_test)\n",
    "\n",
    "scaled_df_train = pd.DataFrame(scaled_data_train, columns = X.columns)"
   ]
  },
  {
   "cell_type": "markdown",
   "metadata": {},
   "source": [
    "## Models"
   ]
  },
  {
   "cell_type": "markdown",
   "metadata": {},
   "source": [
    "In this phase, I am going to fit the data into four separate models (Logistic Regression, Decision Tree, Random Forest, and K Nearest Neighbors) to see which model can best classify the data for a stronger predictive power.\n",
    "\n",
    "Some scores that I will be paying attention to help determine the model's performance is:\n",
    "<ul>\n",
    "<li> Accuracy: (tp + tn) / (tp+fp+fn+tn)  </li>\n",
    "<li> Recall: (tp) / (tp+fn)  </li>\n",
    "<li> AUC: Area Under Curve </li>\n",
    "</ul>"
   ]
  },
  {
   "cell_type": "markdown",
   "metadata": {},
   "source": [
    "### Logistic Regression"
   ]
  },
  {
   "cell_type": "markdown",
   "metadata": {},
   "source": [
    "Logistic Regression is a model that utilize an s-shape curve that helps categorize the data into a binary classification."
   ]
  },
  {
   "cell_type": "code",
   "execution_count": 11,
   "metadata": {},
   "outputs": [],
   "source": [
    "logreg = LogisticRegression(fit_intercept=False, C=1e12, solver='liblinear')\n",
    "\n",
    "logreg.fit(scaled_data_train, y_train)\n",
    "\n",
    "y_preds = logreg.predict(X_test)"
   ]
  },
  {
   "cell_type": "code",
   "execution_count": 12,
   "metadata": {},
   "outputs": [
    {
     "name": "stdout",
     "output_type": "stream",
     "text": [
      "              precision    recall  f1-score   support\n",
      "\n",
      "           0       0.92      0.05      0.09    120197\n",
      "           1       0.25      0.99      0.40     38722\n",
      "\n",
      "    accuracy                           0.28    158919\n",
      "   macro avg       0.59      0.52      0.24    158919\n",
      "weighted avg       0.76      0.28      0.16    158919\n",
      "\n"
     ]
    }
   ],
   "source": [
    "print(classification_report(y_test, y_preds))"
   ]
  },
  {
   "cell_type": "code",
   "execution_count": 13,
   "metadata": {},
   "outputs": [
    {
     "data": {
      "text/plain": [
       "0.5168189581185191"
      ]
     },
     "execution_count": 13,
     "metadata": {},
     "output_type": "execute_result"
    }
   ],
   "source": [
    "false_positive_rate, true_positive_rate, thresholds = roc_curve(y_test, y_preds)\n",
    "roc_auc = auc(false_positive_rate, true_positive_rate)\n",
    "roc_auc"
   ]
  },
  {
   "cell_type": "code",
   "execution_count": 14,
   "metadata": {
    "scrolled": true
   },
   "outputs": [
    {
     "data": {
      "image/png": "[encoded data removed]",
      "text/plain": [
       "<Figure size 432x288 with 2 Axes>"
      ]
     },
     "metadata": {
      "needs_background": "light"
     },
     "output_type": "display_data"
    }
   ],
   "source": [
    "plot_confusion_matrix(logreg, X, y, values_format='.3g', labels = [1,0]);"
   ]
  },
  {
   "cell_type": "markdown",
   "metadata": {},
   "source": [
    ">accuracy at .28  \n",
    ">recall at .99  \n",
    ">auc at .51"
   ]
  },
  {
   "cell_type": "markdown",
   "metadata": {},
   "source": [
    "Problem: accuracy should never be below .5"
   ]
  },
  {
   "cell_type": "markdown",
   "metadata": {},
   "source": [
    "### Decision Tree"
   ]
  },
  {
   "cell_type": "markdown",
   "metadata": {},
   "source": [
    "Decision Tree is another predictive modeling approach that works similar to a flowchart-like structure. The tree is mainly made up of decision nodes(conditionals) and leaves(decision on final outcome)."
   ]
  },
  {
   "cell_type": "code",
   "execution_count": 15,
   "metadata": {},
   "outputs": [],
   "source": [
    "dtc = DecisionTreeClassifier(criterion='entropy')\n",
    "dtc.fit(X_train, y_train)\n",
    "\n",
    "y_preds = dtc.predict(X_test)"
   ]
  },
  {
   "cell_type": "code",
   "execution_count": 16,
   "metadata": {},
   "outputs": [
    {
     "name": "stdout",
     "output_type": "stream",
     "text": [
      "              precision    recall  f1-score   support\n",
      "\n",
      "           0       0.84      0.84      0.84    120197\n",
      "           1       0.51      0.52      0.52     38722\n",
      "\n",
      "    accuracy                           0.76    158919\n",
      "   macro avg       0.68      0.68      0.68    158919\n",
      "weighted avg       0.76      0.76      0.76    158919\n",
      "\n"
     ]
    }
   ],
   "source": [
    "print(classification_report(y_test, y_preds))"
   ]
  },
  {
   "cell_type": "code",
   "execution_count": 17,
   "metadata": {},
   "outputs": [
    {
     "data": {
      "text/plain": [
       "0.6795978195656354"
      ]
     },
     "execution_count": 17,
     "metadata": {},
     "output_type": "execute_result"
    }
   ],
   "source": [
    "false_positive_rate, true_positive_rate, thresholds = roc_curve(y_test, y_preds)\n",
    "roc_auc = auc(false_positive_rate, true_positive_rate)\n",
    "roc_auc"
   ]
  },
  {
   "cell_type": "code",
   "execution_count": 18,
   "metadata": {
    "scrolled": true
   },
   "outputs": [
    {
     "data": {
      "image/png": "[encoded data removed]",
      "text/plain": [
       "<Figure size 432x288 with 2 Axes>"
      ]
     },
     "metadata": {
      "needs_background": "light"
     },
     "output_type": "display_data"
    }
   ],
   "source": [
    "plot_confusion_matrix(dtc, X, y, values_format='.3g', labels = [1,0]);"
   ]
  },
  {
   "cell_type": "markdown",
   "metadata": {},
   "source": [
    ">accuracy at .76  \n",
    ">recall at .52  \n",
    ">auc at .68"
   ]
  },
  {
   "cell_type": "markdown",
   "metadata": {},
   "source": [
    "### Random Forest"
   ]
  },
  {
   "cell_type": "markdown",
   "metadata": {},
   "source": [
    "Random Forest builds multiple decision trees can merge them together to get a better performing prediction"
   ]
  },
  {
   "cell_type": "code",
   "execution_count": 19,
   "metadata": {},
   "outputs": [],
   "source": [
    "forest = RandomForestClassifier(n_estimators=100, max_depth=5)\n",
    "forest.fit(X_train, y_train)\n",
    "\n",
    "y_preds = forest.predict(X_test)"
   ]
  },
  {
   "cell_type": "code",
   "execution_count": 20,
   "metadata": {
    "scrolled": false
   },
   "outputs": [
    {
     "name": "stdout",
     "output_type": "stream",
     "text": [
      "              precision    recall  f1-score   support\n",
      "\n",
      "           0       0.76      1.00      0.86    120197\n",
      "           1       0.86      0.02      0.04     38722\n",
      "\n",
      "    accuracy                           0.76    158919\n",
      "   macro avg       0.81      0.51      0.45    158919\n",
      "weighted avg       0.79      0.76      0.66    158919\n",
      "\n"
     ]
    }
   ],
   "source": [
    "print(classification_report(y_test, y_preds))"
   ]
  },
  {
   "cell_type": "code",
   "execution_count": 21,
   "metadata": {},
   "outputs": [
    {
     "data": {
      "text/plain": [
       "0.7606909809399757"
      ]
     },
     "execution_count": 21,
     "metadata": {},
     "output_type": "execute_result"
    }
   ],
   "source": [
    "forest.score(X_train, y_train)"
   ]
  },
  {
   "cell_type": "code",
   "execution_count": 22,
   "metadata": {},
   "outputs": [
    {
     "data": {
      "text/plain": [
       "0.7606516527287486"
      ]
     },
     "execution_count": 22,
     "metadata": {},
     "output_type": "execute_result"
    }
   ],
   "source": [
    "forest.score(X_test, y_test)"
   ]
  },
  {
   "cell_type": "code",
   "execution_count": 23,
   "metadata": {},
   "outputs": [
    {
     "data": {
      "text/plain": [
       "0.5099654489531082"
      ]
     },
     "execution_count": 23,
     "metadata": {},
     "output_type": "execute_result"
    }
   ],
   "source": [
    "false_positive_rate, true_positive_rate, thresholds = roc_curve(y_test, y_preds)\n",
    "roc_auc = auc(false_positive_rate, true_positive_rate)\n",
    "roc_auc"
   ]
  },
  {
   "cell_type": "code",
   "execution_count": 24,
   "metadata": {
    "scrolled": true
   },
   "outputs": [
    {
     "data": {
      "image/png": "[encoded data removed]",
      "text/plain": [
       "<Figure size 432x288 with 2 Axes>"
      ]
     },
     "metadata": {
      "needs_background": "light"
     },
     "output_type": "display_data"
    }
   ],
   "source": [
    "plot_confusion_matrix(forest, X, y, values_format='.3g', labels = [1,0]);"
   ]
  },
  {
   "cell_type": "markdown",
   "metadata": {},
   "source": [
    ">accuracy at .76  \n",
    ">recall at .02  \n",
    ">auc at .50"
   ]
  },
  {
   "cell_type": "markdown",
   "metadata": {},
   "source": [
    "This model has a very impressive precision score, with the trade off having a terrible recall score  \n",
    "This model has hardly categorized any data as False Positives."
   ]
  },
  {
   "cell_type": "markdown",
   "metadata": {},
   "source": [
    "### K Nearest Neighbors model"
   ]
  },
  {
   "cell_type": "markdown",
   "metadata": {},
   "source": [
    "K Nearest Neighbors classifies data points based on the distance of the points most similar to it."
   ]
  },
  {
   "cell_type": "code",
   "execution_count": 26,
   "metadata": {},
   "outputs": [],
   "source": [
    "#knn = KNeighborsClassifier(metric='euclidean')\n",
    "\n",
    "#knn.fit(scaled_data_train, y_train)\n",
    "\n",
    "#y_preds = knn.predict(scaled_data_test)"
   ]
  },
  {
   "cell_type": "code",
   "execution_count": 27,
   "metadata": {
    "scrolled": true
   },
   "outputs": [],
   "source": [
    "#print(classification_report(y_test, y_preds))"
   ]
  },
  {
   "cell_type": "code",
   "execution_count": 28,
   "metadata": {},
   "outputs": [],
   "source": [
    "#false_positive_rate, true_positive_rate, thresholds = roc_curve(y_test, y_preds)\n",
    "#roc_auc = auc(false_positive_rate, true_positive_rate)\n",
    "#roc_auc"
   ]
  },
  {
   "cell_type": "markdown",
   "metadata": {},
   "source": [
    "## Final Model"
   ]
  },
  {
   "cell_type": "markdown",
   "metadata": {},
   "source": [
    "Our Decision Tree had the highest accuracy with decent recall and auc scores out of the other baseline models.  \n",
    "The goal now is to fine tune the decision tree for better accuracy and result scores."
   ]
  },
  {
   "cell_type": "markdown",
   "metadata": {},
   "source": [
    "### Grid search"
   ]
  },
  {
   "cell_type": "markdown",
   "metadata": {},
   "source": [
    "sklearn.model_selection.GridSearchCV will help fine tune this model by running a series of models with all combinations of model parameters. This will help with performance and over-fitting problems.  \n",
    "\n",
    "Some Decision Tree parameters include:\n",
    "<ul>\n",
    "    <li> <u>criterion:</u> The function to measure the quality of a split. </li>\n",
    "<li> <u>max_depth:</u> The maximum depth of the tree.  </li>\n",
    "<li> <u>min_samples_split:</u> The minimum number of samples required to split an internal node  </li>\n",
    "<li> <u>min_samples_leaf:</u> The minimum number of samples required to be at a leaf node. </li>\n",
    "</ul>\n",
    ">The Decision Tree documentation can be found here: [scikit-learn DecisionTreeClasasifier](https://scikit-learn.org/stable/modules/generated/sklearn.tree.DecisionTreeClassifier.html)"
   ]
  },
  {
   "cell_type": "code",
   "execution_count": 37,
   "metadata": {},
   "outputs": [],
   "source": [
    "#dt_param_grid = {\n",
    "#    'criterion': ['gini', 'entropy'],\n",
    "#    'max_depth': [None, 2, 3, 4, 5, 6],\n",
    "#    'min_samples_split': [2, 5, 10],\n",
    "#    'min_samples_leaf': [1, 2, 3, 4, 5, 6]\n",
    "#}\n",
    "\n",
    "#dt_grid_search = GridSearchCV(dtc, dt_param_grid, cv=3, return_train_score=True)\n",
    "\n",
    "#dt_grid_search.fit(X_train, y_train)\n",
    "\n",
    "##Mean training score\n",
    "#dt_gs_training_score = np.mean(dt_grid_search.cv_results_['mean_train_score'])\n",
    "\n",
    "##Mean test score\n",
    "#dt_gs_testing_score = dt_grid_search.score(X_test, y_test)\n",
    "\n",
    "#print(f\"Mean Training Score: {dt_gs_training_score :.2%}\")\n",
    "#print(f\"Mean Test Score: {dt_gs_testing_score :.2%}\")\n",
    "#print(\"Best Parameter Combination Found During Grid Search:\")\n",
    "#dt_grid_search.best_params_"
   ]
  },
  {
   "cell_type": "markdown",
   "metadata": {},
   "source": [
    "> Mean Training Score: 80.07%  \n",
    "> Mean Test Score: 79.27%  \n",
    "> Best Parameter Combination Found During Grid Search:  \n",
    "  \n",
    "> {'criterion': 'gini',  \n",
    "> 'max_depth': 6,  \n",
    "> 'min_samples_leaf': 1,  \n",
    "> 'min_samples_split': 5}  "
   ]
  },
  {
   "cell_type": "markdown",
   "metadata": {},
   "source": [
    "### Decision Tree"
   ]
  },
  {
   "cell_type": "code",
   "execution_count": 30,
   "metadata": {},
   "outputs": [],
   "source": [
    "dtc = DecisionTreeClassifier(criterion='gini', max_depth=6, min_samples_leaf=1, min_samples_split=5)\n",
    "dtc.fit(X_train, y_train)\n",
    "\n",
    "y_preds = dtc.predict(X_test)"
   ]
  },
  {
   "cell_type": "code",
   "execution_count": 32,
   "metadata": {},
   "outputs": [
    {
     "data": {
      "text/plain": [
       "0.7042506257064168"
      ]
     },
     "execution_count": 32,
     "metadata": {},
     "output_type": "execute_result"
    }
   ],
   "source": [
    "probs = dtc.predict_proba(X_test)\n",
    "fpr, tpr, threshold = roc_curve(y_test, probs[:,1])\n",
    "roc_auc = auc(fpr, tpr)\n",
    "roc_auc"
   ]
  },
  {
   "cell_type": "code",
   "execution_count": 33,
   "metadata": {},
   "outputs": [
    {
     "name": "stdout",
     "output_type": "stream",
     "text": [
      "              precision    recall  f1-score   support\n",
      "\n",
      "           0       0.81      0.94      0.87    120197\n",
      "           1       0.63      0.29      0.40     38722\n",
      "\n",
      "    accuracy                           0.79    158919\n",
      "   macro avg       0.72      0.62      0.63    158919\n",
      "weighted avg       0.76      0.79      0.75    158919\n",
      "\n"
     ]
    }
   ],
   "source": [
    "print(classification_report(y_test, y_preds))"
   ]
  },
  {
   "cell_type": "code",
   "execution_count": 34,
   "metadata": {
    "scrolled": true
   },
   "outputs": [
    {
     "data": {
      "image/png": "[encoded data removed]",
      "text/plain": [
       "<Figure size 432x288 with 2 Axes>"
      ]
     },
     "metadata": {
      "needs_background": "light"
     },
     "output_type": "display_data"
    }
   ],
   "source": [
    "plot_confusion_matrix(dtc, X, y, values_format='.3g', labels = [1,0]);"
   ]
  },
  {
   "cell_type": "markdown",
   "metadata": {},
   "source": [
    ">accuracy at .79  \n",
    ">recall at .29  \n",
    ">auc at .70"
   ]
  },
  {
   "cell_type": "markdown",
   "metadata": {},
   "source": [
    "Accuracy slightly went up from .76 to .79  \n",
    "Recall dipped down from .52 to .29  \n",
    "Auc slightly went up .68 to .70  \n"
   ]
  },
  {
   "cell_type": "markdown",
   "metadata": {},
   "source": [
    "### Feature Importances"
   ]
  },
  {
   "cell_type": "code",
   "execution_count": 35,
   "metadata": {},
   "outputs": [
    {
     "data": {
      "text/html": [
       "<div>\n",
       "<style scoped>\n",
       "    .dataframe tbody tr th:only-of-type {\n",
       "        vertical-align: middle;\n",
       "    }\n",
       "\n",
       "    .dataframe tbody tr th {\n",
       "        vertical-align: top;\n",
       "    }\n",
       "\n",
       "    .dataframe thead th {\n",
       "        text-align: right;\n",
       "    }\n",
       "</style>\n",
       "<table border=\"1\" class=\"dataframe\">\n",
       "  <thead>\n",
       "    <tr style=\"text-align: right;\">\n",
       "      <th></th>\n",
       "      <th>features</th>\n",
       "      <th>importance</th>\n",
       "    </tr>\n",
       "  </thead>\n",
       "  <tbody>\n",
       "    <tr>\n",
       "      <th>0</th>\n",
       "      <td>INTERSECTION_RELATED_I_Y</td>\n",
       "      <td>0.304137</td>\n",
       "    </tr>\n",
       "    <tr>\n",
       "      <th>1</th>\n",
       "      <td>FIRST_CRASH_TYPE_PEDESTRIAN</td>\n",
       "      <td>0.150200</td>\n",
       "    </tr>\n",
       "    <tr>\n",
       "      <th>2</th>\n",
       "      <td>FIRST_CRASH_TYPE_REAR END</td>\n",
       "      <td>0.094653</td>\n",
       "    </tr>\n",
       "    <tr>\n",
       "      <th>3</th>\n",
       "      <td>FIRST_CRASH_TYPE_SIDESWIPE SAME DIRECTION</td>\n",
       "      <td>0.087637</td>\n",
       "    </tr>\n",
       "    <tr>\n",
       "      <th>4</th>\n",
       "      <td>FIRST_CRASH_TYPE_FIXED OBJECT</td>\n",
       "      <td>0.075494</td>\n",
       "    </tr>\n",
       "    <tr>\n",
       "      <th>5</th>\n",
       "      <td>FIRST_CRASH_TYPE_TURNING</td>\n",
       "      <td>0.059226</td>\n",
       "    </tr>\n",
       "    <tr>\n",
       "      <th>6</th>\n",
       "      <td>NUM_PASSENGERS</td>\n",
       "      <td>0.052075</td>\n",
       "    </tr>\n",
       "    <tr>\n",
       "      <th>7</th>\n",
       "      <td>PRIM_CONTRIBUTORY_CAUSE_FAILING TO REDUCE SPEE...</td>\n",
       "      <td>0.036601</td>\n",
       "    </tr>\n",
       "    <tr>\n",
       "      <th>8</th>\n",
       "      <td>FIRST_CRASH_TYPE_PEDALCYCLIST</td>\n",
       "      <td>0.036014</td>\n",
       "    </tr>\n",
       "    <tr>\n",
       "      <th>9</th>\n",
       "      <td>FIRST_CONTACT_POINT_OTHER</td>\n",
       "      <td>0.019417</td>\n",
       "    </tr>\n",
       "  </tbody>\n",
       "</table>\n",
       "</div>"
      ],
      "text/plain": [
       "                                            features  importance\n",
       "0                           INTERSECTION_RELATED_I_Y    0.304137\n",
       "1                        FIRST_CRASH_TYPE_PEDESTRIAN    0.150200\n",
       "2                          FIRST_CRASH_TYPE_REAR END    0.094653\n",
       "3          FIRST_CRASH_TYPE_SIDESWIPE SAME DIRECTION    0.087637\n",
       "4                      FIRST_CRASH_TYPE_FIXED OBJECT    0.075494\n",
       "5                           FIRST_CRASH_TYPE_TURNING    0.059226\n",
       "6                                     NUM_PASSENGERS    0.052075\n",
       "7  PRIM_CONTRIBUTORY_CAUSE_FAILING TO REDUCE SPEE...    0.036601\n",
       "8                      FIRST_CRASH_TYPE_PEDALCYCLIST    0.036014\n",
       "9                          FIRST_CONTACT_POINT_OTHER    0.019417"
      ]
     },
     "execution_count": 35,
     "metadata": {},
     "output_type": "execute_result"
    }
   ],
   "source": [
    "df_imp = pd.DataFrame(data={'features': X_train.columns, 'importance': dtc.feature_importances_})\n",
    "df_imp = df_imp.sort_values('importance', ascending=False)\n",
    "df_imp = df_imp.reset_index()\n",
    "df_imp.drop('index', axis=1, inplace=True)\n",
    "df_imp.head(10)"
   ]
  },
  {
   "cell_type": "markdown",
   "metadata": {},
   "source": [
    "## Recommendations"
   ]
  },
  {
   "cell_type": "markdown",
   "metadata": {},
   "source": [
    "Intersections, Rear-ending, and failing to reduce speed ranked the highest on the 'feature importance' table. I believe the city of Chicago needs to spend time on researching the effects of adding roundabouts in high traffic intersections. Not only will adding roundabouts lower the chance of a traffic accident becoming severe, but it will also make the driver less dependent on traffic lights and be forced to pay more attention to their surroundings. Another thing that can be done to intersections is that the lanes can be widened to allow for a clear line of sight for drivers turning right on red.\n",
    "\n",
    "\n",
    "While exploring my data about out-of-town verses in town drivers, I realized that there was a high number of wrecks involving drivers that were not from the city of Chicago. With 23.7 percent of wrecks happening from out-of-town drivers, I believe that this could be due to some of these drivers being from the many suburbs of Chicago. I think the city needs to brainstorm ideas on how this can be improved upon, whether it be making the roadways less complicated or being diligent on better road sign placement throughout the city.\n",
    " \n",
    "The idea of being able to walk safely along the many sidewalks of Chicago as a pedestrian should never be something that becomes an issue. But my data has shown that being a pedestrian was the second most important feature related to severe car accidents in the city. There are many things the city can do to improve upon pedestrian safety and make it easier for drivers to navigate these pedestrians. First, widening driving lanes and adding more right sided shoulders for drivers will give more room for driving errors and increase the time a driver has to react and not hit a pedestrian. Secondly, adding additional sidewalks will make the city more pedestrian friendly. Another would be to increase the distance between the road and the sidewalks, giving both pedestrians and drivers more space to walk or drive safely. Lastly, let's increase the amount of raised pedestrian crosswalks in the city. This will eliminate the possibly of a driver hitting a pedestrian while they are crossing an intersection, thus making our intersections safer as well. \n",
    "\n"
   ]
  },
  {
   "cell_type": "markdown",
   "metadata": {},
   "source": [
    "## Future Work"
   ]
  },
  {
   "cell_type": "markdown",
   "metadata": {},
   "source": [
    "Most of my future work will be focused on improving my final model by: \n",
    "<ul>\n",
    "<li> Raising ROC curve thresholds as previously mentioned to raise recall score (and lowering the False Negatives)</li>\n",
    "<li> Running a scatter plot on misclassified data to find a common theme as to why it was misclassified </li>\n",
    "<li> Looking at feature importance on the chosen model and drop the lowest to speed up future works </li>\n",
    "</ul>"
   ]
  }
 ],
 "metadata": {
  "kernelspec": {
   "display_name": "Python 3",
   "language": "python",
   "name": "python3"
  },
  "language_info": {
   "codemirror_mode": {
    "name": "ipython",
    "version": 3
   },
   "file_extension": ".py",
   "mimetype": "text/x-python",
   "name": "python",
   "nbconvert_exporter": "python",
   "pygments_lexer": "ipython3",
   "version": "3.6.9"
  },
  "toc": {
   "base_numbering": 1,
   "nav_menu": {},
   "number_sections": true,
   "sideBar": true,
   "skip_h1_title": false,
   "title_cell": "Table of Contents",
   "title_sidebar": "Contents",
   "toc_cell": false,
   "toc_position": {
    "height": "calc(100% - 180px)",
    "left": "10px",
    "top": "150px",
    "width": "292px"
   },
   "toc_section_display": true,
   "toc_window_display": true
  }
 },
 "nbformat": 4,
 "nbformat_minor": 4
}
